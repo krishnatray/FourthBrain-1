{
 "cells": [
  {
   "cell_type": "markdown",
   "metadata": {
    "id": "1ggXLdNuAGoi"
   },
   "source": [
    "## Today you are a Machine Learning Engineer at the Department of Business Intelligence at Target Cosmetics!\n",
    "This work relies on processed data from Kaggle https://www.kaggle.com/mkechinov/ecommerce-events-history-in-cosmetics-shop\n",
    "\n",
    "This work is motivated by the publication https://arxiv.org/pdf/2010.02503.pdf and https://arxiv.org/pdf/2102.01625.pdf\n",
    "\n",
    "This data is similar to the Ecommerce data we looked at last week, but for cosmetics retail. Also, the data indicating time-of-day, day-of-week, month, and year of the purchase have been converted to one-hot representations of these categories.\n",
    "\n",
    "Our objective in this notebook will be to discover some structure in this data by applying some of the **unsupervised learning** methods covered in class this week.\n",
    "\n",
    "You have access to 250,000 user-journeys and you have been asked to:\n",
    "1. Find patterns among customer purchasing behaviors to identify categories of customers, i.e. how many categories of customers are there based on their purchasing behavior?\n",
    "2. Visually inspect the customer categories to identify the distinctive categories and their most important features."
   ]
  },
  {
   "cell_type": "markdown",
   "metadata": {
    "id": "EOeCwyxypaFz"
   },
   "source": [
    "## Task 1: Load in data and do some feature selection"
   ]
  },
  {
   "cell_type": "markdown",
   "metadata": {
    "id": "3XAWWl-t1Qr-"
   },
   "source": [
    "If running in Google Colab, run this first:"
   ]
  },
  {
   "cell_type": "raw",
   "metadata": {
    "id": "udBEolpnuWxO"
   },
   "source": [
    "from google.colab import drive\n",
    "drive.mount('/content/drive')"
   ]
  },
  {
   "cell_type": "code",
   "execution_count": 1,
   "metadata": {
    "executionInfo": {
     "elapsed": 3,
     "status": "ok",
     "timestamp": 1628789344778,
     "user": {
      "displayName": "Spencer Kent",
      "photoUrl": "",
      "userId": "07841346171340846448"
     },
     "user_tz": 360
    },
    "id": "jnRNgZ6gxHwm"
   },
   "outputs": [],
   "source": [
    "import pandas as pd"
   ]
  },
  {
   "cell_type": "code",
   "execution_count": 2,
   "metadata": {
    "executionInfo": {
     "elapsed": 1646,
     "status": "ok",
     "timestamp": 1628789349602,
     "user": {
      "displayName": "Spencer Kent",
      "photoUrl": "",
      "userId": "07841346171340846448"
     },
     "user_tz": 360
    },
    "id": "mhcwhWDYwZad"
   },
   "outputs": [],
   "source": [
    "# this is where my copy of the data is, you should change this for your needs\n",
    "df = pd.read_csv(\"Cosmetics_data_2019.csv\")"
   ]
  },
  {
   "cell_type": "code",
   "execution_count": 3,
   "metadata": {
    "colab": {
     "base_uri": "https://localhost:8080/",
     "height": 223
    },
    "executionInfo": {
     "elapsed": 101,
     "status": "ok",
     "timestamp": 1628789352304,
     "user": {
      "displayName": "Spencer Kent",
      "photoUrl": "",
      "userId": "07841346171340846448"
     },
     "user_tz": 360
    },
    "id": "z4l5NtcyxGVL",
    "outputId": "c66378c3-56ac-4d2c-f6ab-b02b16ee61ab"
   },
   "outputs": [
    {
     "data": {
      "text/html": [
       "<div>\n",
       "<style scoped>\n",
       "    .dataframe tbody tr th:only-of-type {\n",
       "        vertical-align: middle;\n",
       "    }\n",
       "\n",
       "    .dataframe tbody tr th {\n",
       "        vertical-align: top;\n",
       "    }\n",
       "\n",
       "    .dataframe thead th {\n",
       "        text-align: right;\n",
       "    }\n",
       "</style>\n",
       "<table border=\"1\" class=\"dataframe\">\n",
       "  <thead>\n",
       "    <tr style=\"text-align: right;\">\n",
       "      <th></th>\n",
       "      <th>user_id</th>\n",
       "      <th>product_id</th>\n",
       "      <th>NumOfEventsInJourney</th>\n",
       "      <th>NumSessions</th>\n",
       "      <th>interactionTime</th>\n",
       "      <th>maxPrice</th>\n",
       "      <th>minPrice</th>\n",
       "      <th>NumCart</th>\n",
       "      <th>NumView</th>\n",
       "      <th>NumRemove</th>\n",
       "      <th>...</th>\n",
       "      <th>Nov</th>\n",
       "      <th>Dec</th>\n",
       "      <th>Afternoon</th>\n",
       "      <th>Dawn</th>\n",
       "      <th>EarlyMorning</th>\n",
       "      <th>Evening</th>\n",
       "      <th>Morning</th>\n",
       "      <th>Night</th>\n",
       "      <th>Noon</th>\n",
       "      <th>Purchase</th>\n",
       "    </tr>\n",
       "  </thead>\n",
       "  <tbody>\n",
       "    <tr>\n",
       "      <th>0</th>\n",
       "      <td>537190108</td>\n",
       "      <td>27762</td>\n",
       "      <td>2</td>\n",
       "      <td>2</td>\n",
       "      <td>4749</td>\n",
       "      <td>19.03</td>\n",
       "      <td>19.03</td>\n",
       "      <td>0</td>\n",
       "      <td>1</td>\n",
       "      <td>1</td>\n",
       "      <td>...</td>\n",
       "      <td>1</td>\n",
       "      <td>0</td>\n",
       "      <td>0</td>\n",
       "      <td>0</td>\n",
       "      <td>0</td>\n",
       "      <td>0</td>\n",
       "      <td>1</td>\n",
       "      <td>0</td>\n",
       "      <td>0</td>\n",
       "      <td>0</td>\n",
       "    </tr>\n",
       "    <tr>\n",
       "      <th>1</th>\n",
       "      <td>577668451</td>\n",
       "      <td>5865119</td>\n",
       "      <td>1</td>\n",
       "      <td>1</td>\n",
       "      <td>0</td>\n",
       "      <td>4.60</td>\n",
       "      <td>4.60</td>\n",
       "      <td>0</td>\n",
       "      <td>1</td>\n",
       "      <td>0</td>\n",
       "      <td>...</td>\n",
       "      <td>1</td>\n",
       "      <td>0</td>\n",
       "      <td>1</td>\n",
       "      <td>0</td>\n",
       "      <td>0</td>\n",
       "      <td>0</td>\n",
       "      <td>0</td>\n",
       "      <td>0</td>\n",
       "      <td>0</td>\n",
       "      <td>0</td>\n",
       "    </tr>\n",
       "    <tr>\n",
       "      <th>2</th>\n",
       "      <td>607369766</td>\n",
       "      <td>5922121</td>\n",
       "      <td>1</td>\n",
       "      <td>1</td>\n",
       "      <td>0</td>\n",
       "      <td>35.71</td>\n",
       "      <td>35.71</td>\n",
       "      <td>0</td>\n",
       "      <td>1</td>\n",
       "      <td>0</td>\n",
       "      <td>...</td>\n",
       "      <td>0</td>\n",
       "      <td>0</td>\n",
       "      <td>0</td>\n",
       "      <td>0</td>\n",
       "      <td>0</td>\n",
       "      <td>1</td>\n",
       "      <td>0</td>\n",
       "      <td>0</td>\n",
       "      <td>0</td>\n",
       "      <td>0</td>\n",
       "    </tr>\n",
       "    <tr>\n",
       "      <th>3</th>\n",
       "      <td>572456715</td>\n",
       "      <td>5723529</td>\n",
       "      <td>1</td>\n",
       "      <td>1</td>\n",
       "      <td>0</td>\n",
       "      <td>2.94</td>\n",
       "      <td>2.94</td>\n",
       "      <td>1</td>\n",
       "      <td>0</td>\n",
       "      <td>0</td>\n",
       "      <td>...</td>\n",
       "      <td>1</td>\n",
       "      <td>0</td>\n",
       "      <td>0</td>\n",
       "      <td>0</td>\n",
       "      <td>1</td>\n",
       "      <td>0</td>\n",
       "      <td>0</td>\n",
       "      <td>0</td>\n",
       "      <td>0</td>\n",
       "      <td>0</td>\n",
       "    </tr>\n",
       "    <tr>\n",
       "      <th>4</th>\n",
       "      <td>566667766</td>\n",
       "      <td>5823646</td>\n",
       "      <td>1</td>\n",
       "      <td>1</td>\n",
       "      <td>0</td>\n",
       "      <td>5.22</td>\n",
       "      <td>5.22</td>\n",
       "      <td>0</td>\n",
       "      <td>1</td>\n",
       "      <td>0</td>\n",
       "      <td>...</td>\n",
       "      <td>0</td>\n",
       "      <td>0</td>\n",
       "      <td>0</td>\n",
       "      <td>0</td>\n",
       "      <td>0</td>\n",
       "      <td>1</td>\n",
       "      <td>0</td>\n",
       "      <td>0</td>\n",
       "      <td>0</td>\n",
       "      <td>0</td>\n",
       "    </tr>\n",
       "  </tbody>\n",
       "</table>\n",
       "<p>5 rows × 36 columns</p>\n",
       "</div>"
      ],
      "text/plain": [
       "     user_id  product_id  NumOfEventsInJourney  NumSessions  interactionTime  \\\n",
       "0  537190108       27762                     2            2             4749   \n",
       "1  577668451     5865119                     1            1                0   \n",
       "2  607369766     5922121                     1            1                0   \n",
       "3  572456715     5723529                     1            1                0   \n",
       "4  566667766     5823646                     1            1                0   \n",
       "\n",
       "   maxPrice  minPrice  NumCart  NumView  NumRemove  ...  Nov  Dec  Afternoon  \\\n",
       "0     19.03     19.03        0        1          1  ...    1    0          0   \n",
       "1      4.60      4.60        0        1          0  ...    1    0          1   \n",
       "2     35.71     35.71        0        1          0  ...    0    0          0   \n",
       "3      2.94      2.94        1        0          0  ...    1    0          0   \n",
       "4      5.22      5.22        0        1          0  ...    0    0          0   \n",
       "\n",
       "   Dawn  EarlyMorning  Evening  Morning  Night  Noon  Purchase  \n",
       "0     0             0        0        1      0     0         0  \n",
       "1     0             0        0        0      0     0         0  \n",
       "2     0             0        1        0      0     0         0  \n",
       "3     0             1        0        0      0     0         0  \n",
       "4     0             0        1        0      0     0         0  \n",
       "\n",
       "[5 rows x 36 columns]"
      ]
     },
     "execution_count": 3,
     "metadata": {},
     "output_type": "execute_result"
    }
   ],
   "source": [
    "df.head()"
   ]
  },
  {
   "cell_type": "code",
   "execution_count": 4,
   "metadata": {},
   "outputs": [
    {
     "data": {
      "text/plain": [
       "Index(['user_id', 'product_id', 'NumOfEventsInJourney', 'NumSessions',\n",
       "       'interactionTime', 'maxPrice', 'minPrice', 'NumCart', 'NumView',\n",
       "       'NumRemove', 'InsessionCart', 'InsessionView', 'InsessionRemove',\n",
       "       'Weekend', 'Fr', 'Mon', 'Sat', 'Sun', 'Thu', 'Tue', 'Wed', '2019',\n",
       "       '2020', 'Jan', 'Feb', 'Oct', 'Nov', 'Dec', 'Afternoon', 'Dawn',\n",
       "       'EarlyMorning', 'Evening', 'Morning', 'Night', 'Noon', 'Purchase'],\n",
       "      dtype='object')"
      ]
     },
     "execution_count": 4,
     "metadata": {},
     "output_type": "execute_result"
    }
   ],
   "source": [
    "df.columns"
   ]
  },
  {
   "cell_type": "code",
   "execution_count": 5,
   "metadata": {
    "executionInfo": {
     "elapsed": 3075,
     "status": "ok",
     "timestamp": 1628789360099,
     "user": {
      "displayName": "Spencer Kent",
      "photoUrl": "",
      "userId": "07841346171340846448"
     },
     "user_tz": 360
    },
    "id": "RiEtO2vfAGoq"
   },
   "outputs": [],
   "source": [
    "# Importing some libraries we'll use\n",
    "import os\n",
    "import tensorflow as tf   #<-- first time using tensorflow in this course!\n",
    "from tensorboard.plugins import projector  # tensorboard for visualizing dimensionality reduction\n",
    "import numpy as np\n",
    "from matplotlib import pyplot as plt\n",
    "from sklearn.preprocessing import StandardScaler\n",
    "from sklearn.decomposition import PCA\n",
    "import seaborn as sb"
   ]
  },
  {
   "cell_type": "code",
   "execution_count": 6,
   "metadata": {
    "colab": {
     "base_uri": "https://localhost:8080/"
    },
    "executionInfo": {
     "elapsed": 100,
     "status": "ok",
     "timestamp": 1628789362384,
     "user": {
      "displayName": "Spencer Kent",
      "photoUrl": "",
      "userId": "07841346171340846448"
     },
     "user_tz": 360
    },
    "id": "uSm6dt8RAGo3",
    "outputId": "0766351e-2fe1-491f-d877-67b01e292716"
   },
   "outputs": [
    {
     "name": "stdout",
     "output_type": "stream",
     "text": [
      "Percentage of interactions resulting in a purchase = 12.0684\n"
     ]
    }
   ],
   "source": [
    "YY=df.loc[:,'Purchase'].values\n",
    "print(f'Percentage of interactions resulting in a purchase = {(np.sum(YY)/len(YY))*100}')"
   ]
  },
  {
   "cell_type": "markdown",
   "metadata": {
    "id": "DagFtXknox2k"
   },
   "source": [
    "This is a alot higher than we had for the electronics data! For cosmetics data, there appears to be less \"window shopping,\" shopping around without buying. When people come to this ecommerce site they're overall more likely to make a purchase."
   ]
  },
  {
   "cell_type": "markdown",
   "metadata": {
    "id": "RP7Y8J7dm6lW"
   },
   "source": [
    "Create a matrix of features (AKA the \"design matrix\") `X` from every column in the dataframe, except for `'user_id'`, `'product_id'`, and `Purchase`. We won't be using `'user_id'` and `'product_id'` as features in this demo. The `Purchase` column is like a \"label\", but we're doing unsupervised learning so we won't use it in fitting the learning model. (we will use it later just to analyze how good our unsupervised learning was). Go ahead and drop `'user_id'` and `'product_id'` from the original DataFrame as well."
   ]
  },
  {
   "cell_type": "code",
   "execution_count": 7,
   "metadata": {
    "id": "0hmxyZxpAGpB"
   },
   "outputs": [
    {
     "data": {
      "text/html": [
       "<div>\n",
       "<style scoped>\n",
       "    .dataframe tbody tr th:only-of-type {\n",
       "        vertical-align: middle;\n",
       "    }\n",
       "\n",
       "    .dataframe tbody tr th {\n",
       "        vertical-align: top;\n",
       "    }\n",
       "\n",
       "    .dataframe thead th {\n",
       "        text-align: right;\n",
       "    }\n",
       "</style>\n",
       "<table border=\"1\" class=\"dataframe\">\n",
       "  <thead>\n",
       "    <tr style=\"text-align: right;\">\n",
       "      <th></th>\n",
       "      <th>NumOfEventsInJourney</th>\n",
       "      <th>NumSessions</th>\n",
       "      <th>interactionTime</th>\n",
       "      <th>maxPrice</th>\n",
       "      <th>minPrice</th>\n",
       "      <th>NumCart</th>\n",
       "      <th>NumView</th>\n",
       "      <th>NumRemove</th>\n",
       "      <th>InsessionCart</th>\n",
       "      <th>InsessionView</th>\n",
       "      <th>...</th>\n",
       "      <th>Nov</th>\n",
       "      <th>Dec</th>\n",
       "      <th>Afternoon</th>\n",
       "      <th>Dawn</th>\n",
       "      <th>EarlyMorning</th>\n",
       "      <th>Evening</th>\n",
       "      <th>Morning</th>\n",
       "      <th>Night</th>\n",
       "      <th>Noon</th>\n",
       "      <th>Purchase</th>\n",
       "    </tr>\n",
       "  </thead>\n",
       "  <tbody>\n",
       "    <tr>\n",
       "      <th>0</th>\n",
       "      <td>2</td>\n",
       "      <td>2</td>\n",
       "      <td>4749</td>\n",
       "      <td>19.03</td>\n",
       "      <td>19.03</td>\n",
       "      <td>0</td>\n",
       "      <td>1</td>\n",
       "      <td>1</td>\n",
       "      <td>1</td>\n",
       "      <td>2</td>\n",
       "      <td>...</td>\n",
       "      <td>1</td>\n",
       "      <td>0</td>\n",
       "      <td>0</td>\n",
       "      <td>0</td>\n",
       "      <td>0</td>\n",
       "      <td>0</td>\n",
       "      <td>1</td>\n",
       "      <td>0</td>\n",
       "      <td>0</td>\n",
       "      <td>0</td>\n",
       "    </tr>\n",
       "    <tr>\n",
       "      <th>1</th>\n",
       "      <td>1</td>\n",
       "      <td>1</td>\n",
       "      <td>0</td>\n",
       "      <td>4.60</td>\n",
       "      <td>4.60</td>\n",
       "      <td>0</td>\n",
       "      <td>1</td>\n",
       "      <td>0</td>\n",
       "      <td>0</td>\n",
       "      <td>1</td>\n",
       "      <td>...</td>\n",
       "      <td>1</td>\n",
       "      <td>0</td>\n",
       "      <td>1</td>\n",
       "      <td>0</td>\n",
       "      <td>0</td>\n",
       "      <td>0</td>\n",
       "      <td>0</td>\n",
       "      <td>0</td>\n",
       "      <td>0</td>\n",
       "      <td>0</td>\n",
       "    </tr>\n",
       "    <tr>\n",
       "      <th>2</th>\n",
       "      <td>1</td>\n",
       "      <td>1</td>\n",
       "      <td>0</td>\n",
       "      <td>35.71</td>\n",
       "      <td>35.71</td>\n",
       "      <td>0</td>\n",
       "      <td>1</td>\n",
       "      <td>0</td>\n",
       "      <td>0</td>\n",
       "      <td>1</td>\n",
       "      <td>...</td>\n",
       "      <td>0</td>\n",
       "      <td>0</td>\n",
       "      <td>0</td>\n",
       "      <td>0</td>\n",
       "      <td>0</td>\n",
       "      <td>1</td>\n",
       "      <td>0</td>\n",
       "      <td>0</td>\n",
       "      <td>0</td>\n",
       "      <td>0</td>\n",
       "    </tr>\n",
       "    <tr>\n",
       "      <th>3</th>\n",
       "      <td>1</td>\n",
       "      <td>1</td>\n",
       "      <td>0</td>\n",
       "      <td>2.94</td>\n",
       "      <td>2.94</td>\n",
       "      <td>1</td>\n",
       "      <td>0</td>\n",
       "      <td>0</td>\n",
       "      <td>13</td>\n",
       "      <td>13</td>\n",
       "      <td>...</td>\n",
       "      <td>1</td>\n",
       "      <td>0</td>\n",
       "      <td>0</td>\n",
       "      <td>0</td>\n",
       "      <td>1</td>\n",
       "      <td>0</td>\n",
       "      <td>0</td>\n",
       "      <td>0</td>\n",
       "      <td>0</td>\n",
       "      <td>0</td>\n",
       "    </tr>\n",
       "    <tr>\n",
       "      <th>4</th>\n",
       "      <td>1</td>\n",
       "      <td>1</td>\n",
       "      <td>0</td>\n",
       "      <td>5.22</td>\n",
       "      <td>5.22</td>\n",
       "      <td>0</td>\n",
       "      <td>1</td>\n",
       "      <td>0</td>\n",
       "      <td>0</td>\n",
       "      <td>3</td>\n",
       "      <td>...</td>\n",
       "      <td>0</td>\n",
       "      <td>0</td>\n",
       "      <td>0</td>\n",
       "      <td>0</td>\n",
       "      <td>0</td>\n",
       "      <td>1</td>\n",
       "      <td>0</td>\n",
       "      <td>0</td>\n",
       "      <td>0</td>\n",
       "      <td>0</td>\n",
       "    </tr>\n",
       "  </tbody>\n",
       "</table>\n",
       "<p>5 rows × 34 columns</p>\n",
       "</div>"
      ],
      "text/plain": [
       "   NumOfEventsInJourney  NumSessions  interactionTime  maxPrice  minPrice  \\\n",
       "0                     2            2             4749     19.03     19.03   \n",
       "1                     1            1                0      4.60      4.60   \n",
       "2                     1            1                0     35.71     35.71   \n",
       "3                     1            1                0      2.94      2.94   \n",
       "4                     1            1                0      5.22      5.22   \n",
       "\n",
       "   NumCart  NumView  NumRemove  InsessionCart  InsessionView  ...  Nov  Dec  \\\n",
       "0        0        1          1              1              2  ...    1    0   \n",
       "1        0        1          0              0              1  ...    1    0   \n",
       "2        0        1          0              0              1  ...    0    0   \n",
       "3        1        0          0             13             13  ...    1    0   \n",
       "4        0        1          0              0              3  ...    0    0   \n",
       "\n",
       "   Afternoon  Dawn  EarlyMorning  Evening  Morning  Night  Noon  Purchase  \n",
       "0          0     0             0        0        1      0     0         0  \n",
       "1          1     0             0        0        0      0     0         0  \n",
       "2          0     0             0        1        0      0     0         0  \n",
       "3          0     0             1        0        0      0     0         0  \n",
       "4          0     0             0        1        0      0     0         0  \n",
       "\n",
       "[5 rows x 34 columns]"
      ]
     },
     "execution_count": 7,
     "metadata": {},
     "output_type": "execute_result"
    }
   ],
   "source": [
    "### START CODE HERE ###\n",
    "df.drop(['user_id', 'product_id'], axis=1, inplace=True)\n",
    "X = df.drop('Purchase', axis=1).values\n",
    "### END CODE HERE ###\n",
    "# Display the first few rows of the modified DataFrame\n",
    "df.head()"
   ]
  },
  {
   "cell_type": "markdown",
   "metadata": {
    "id": "tU_8ozi5pZJA"
   },
   "source": [
    "It's good to get in the habit of encapsulating functionality you want to reuse in functions/modules outside of individual notebooks--using a separate library of functions increases the modularity of your code, eliminating the need to copy and paste this code into every notebook where you want to use it. We've provided a python file called `helper_functions_for_week3.py` that has one such function in it. Read through the function and see if you recognize it from last week!"
   ]
  },
  {
   "cell_type": "markdown",
   "metadata": {
    "id": "dTrxDJXrrh5q"
   },
   "source": [
    "We want to import `helper_functions_for_week3.py` but we need to make sure Python can find the file--if you're developing locally this is straightforward, but if you're using Colab you have a few options:\n"
   ]
  },
  {
   "cell_type": "markdown",
   "metadata": {
    "id": "nZjYZNSMt3iG"
   },
   "source": [
    "**Option 1**\n",
    "\n",
    "Append the mounted Google Drive directory containing the file to the system path\n"
   ]
  },
  {
   "cell_type": "raw",
   "metadata": {
    "id": "5VRtL9QKuEXJ"
   },
   "source": [
    "import sys\n",
    "sys.path.append('/content/drive/My Drive/FourthBrain/Wk3/') # This is where I stored helper_functions_for_week3.py in Google Drive"
   ]
  },
  {
   "cell_type": "markdown",
   "metadata": {
    "id": "UHr7Ai1xuFvC"
   },
   "source": [
    "**Option 2**\n",
    "\n",
    "Upload the file directly to this virtual machine:\n",
    "\n",
    "<img src='https://drive.google.com/uc?id=1k5OeIG_RrMQcBzyRR8LfhemdB3ZUFQCa' width=\"300\">"
   ]
  },
  {
   "cell_type": "markdown",
   "metadata": {
    "id": "Kd1Py9jivqiF"
   },
   "source": [
    "**Option 3**\n",
    "\n",
    "Use the PyDrive module, [follow the instructions here](https://colab.research.google.com/notebooks/io.ipynb#scrollTo=7taylj9wpsA2)."
   ]
  },
  {
   "cell_type": "code",
   "execution_count": 8,
   "metadata": {
    "id": "XxpPZNjLAGpD"
   },
   "outputs": [],
   "source": [
    "from helper_functions_for_week3 import *\n",
    "#^ Importing everything from this file, if you want to add your own method of feature selection,\n",
    "#  put it in helper_functions_for_week3.py and try using it below!"
   ]
  },
  {
   "cell_type": "markdown",
   "metadata": {
    "id": "ATqe8cyGAGpG"
   },
   "source": [
    "Now use the function we've imported (or one you wrote yourself, if you prefer) to select a subset of the features that appear informative. Create a new NumPy array `X_train` that only retains these features."
   ]
  },
  {
   "cell_type": "code",
   "execution_count": 9,
   "metadata": {
    "id": "G0EeGGnWAGpM"
   },
   "outputs": [
    {
     "name": "stdout",
     "output_type": "stream",
     "text": [
      "Feature ranking:\n",
      "1. feature 7 (0.171403)\n",
      "2. feature 0 (0.168439)\n",
      "3. feature 5 (0.117723)\n",
      "4. feature 6 (0.101453)\n",
      "5. feature 2 (0.082864)\n",
      "6. feature 1 (0.062956)\n",
      "7. feature 10 (0.054205)\n",
      "8. feature 8 (0.053166)\n",
      "9. feature 4 (0.044448)\n",
      "10. feature 3 (0.042576)\n",
      "11. feature 9 (0.042194)\n",
      "12. feature 18 (0.004516)\n",
      "13. feature 26 (0.004165)\n",
      "14. feature 16 (0.004153)\n",
      "15. feature 13 (0.004037)\n",
      "16. feature 15 (0.003799)\n",
      "17. feature 12 (0.003794)\n",
      "18. feature 14 (0.003670)\n",
      "19. feature 28 (0.003655)\n",
      "20. feature 17 (0.003609)\n",
      "21. feature 27 (0.002778)\n",
      "22. feature 31 (0.002557)\n",
      "23. feature 29 (0.002411)\n",
      "24. feature 32 (0.002275)\n",
      "25. feature 25 (0.002271)\n",
      "26. feature 30 (0.002067)\n",
      "27. feature 23 (0.001911)\n",
      "28. feature 21 (0.001789)\n",
      "29. feature 22 (0.001690)\n",
      "30. feature 24 (0.001622)\n",
      "31. feature 19 (0.000926)\n",
      "32. feature 20 (0.000880)\n",
      "33. feature 11 (0.000000)\n"
     ]
    },
    {
     "data": {
      "image/png": "[encoded data removed]",
      "text/plain": [
       "<Figure size 432x288 with 1 Axes>"
      ]
     },
     "metadata": {
      "image/png": {
       "height": 263,
       "width": 385
      },
      "needs_background": "light"
     },
     "output_type": "display_data"
    },
    {
     "name": "stdout",
     "output_type": "stream",
     "text": [
      "Selected Columns: ['NumRemove', 'NumOfEventsInJourney', 'NumCart', 'NumView', 'interactionTime', 'NumSessions', 'InsessionRemove', 'InsessionCart', 'minPrice', 'maxPrice', 'InsessionView']\n"
     ]
    }
   ],
   "source": [
    "### START CODE HERE ###\n",
    "y_train = df['Purchase'].values\n",
    "feats_rank = return_feature_rank_from_RF(X, y_train)\n",
    "# Take the top 11 highest-ranked features (sharp dropoff after 11th)\n",
    "df_rf_ranked = df.iloc[:, feats_rank[0][:11]]\n",
    "X_train = df_rf_ranked.values\n",
    "print(f'Selected Columns: {df_rf_ranked.columns.tolist()}')\n",
    "### END CODE HERE ###"
   ]
  },
  {
   "cell_type": "markdown",
   "metadata": {
    "id": "qRuVLj0lAGpT"
   },
   "source": [
    "## Task 2: Apply dimensionality reduction and K-means clustering\n",
    "\n",
    "We're going to do two main things in this task: \n",
    "  1. Apply dimensionality reduction to `X_train`\n",
    "    * First we'll try PCA, reducing the number of features down to **5**\n",
    "    * Then we'll also try t-SNE. t-SNE is a lot slower than PCA so we'll have you run t-SNE on a smaller subsample of the data, and we'll use 3 instead of 5 output features.\n",
    "  2. Apply K-means clustering on the dimensionality-reduced data, using different values of \"K\". This is one way of assessing the quality of the dimensionality reduction. We'll summarize all this information in a single plot, the \"Elbow\" plot."
   ]
  },
  {
   "cell_type": "markdown",
   "metadata": {
    "id": "WIG5CclFvlLO"
   },
   "source": [
    "Use the sklearn `PCA` module you've imported above to produce `X_reduced_PCA`, a version of the data in `X_train` has been dimensionality-reduced by PCA. Use 5 PCA components, so `X_reduced_PCA` should have 5 columns.  "
   ]
  },
  {
   "cell_type": "code",
   "execution_count": 10,
   "metadata": {
    "colab": {
     "base_uri": "https://localhost:8080/"
    },
    "executionInfo": {
     "elapsed": 899,
     "status": "ok",
     "timestamp": 1628783431814,
     "user": {
      "displayName": "Spencer Kent",
      "photoUrl": "",
      "userId": "07841346171340846448"
     },
     "user_tz": 360
    },
    "id": "9Y9DVVG9AGpU",
    "outputId": "5d34d61e-cf29-43d3-a962-aeff097bfd14"
   },
   "outputs": [
    {
     "name": "stdout",
     "output_type": "stream",
     "text": [
      "(250000, 5)\n"
     ]
    }
   ],
   "source": [
    "### START CODE HERE ###\n",
    "pca = PCA(5)\n",
    "X_reduced_PCA = pca.fit_transform(X_train)\n",
    "### END CODE HERE ###\n",
    "print(X_reduced_PCA.shape)"
   ]
  },
  {
   "cell_type": "markdown",
   "metadata": {
    "id": "gDX2qLQE8QB2"
   },
   "source": [
    "Now do dimensionality reduction with t-SNE. You can used the [TSNE module](https://scikit-learn.org/stable/modules/generated/sklearn.manifold.TSNE.html) in `sklearn.manifold`\n",
    "\n",
    "Certain implementations of t-SNE can be slow, including scikit-learn's, so just fit it on the first 10000 samples of your data. Also, pick n_components=3 and perplexity=20. This can take a little while, be patient :)\n",
    "\n",
    "Save the t-SNE-reduced version of your data as `X_reduced_tSNE`"
   ]
  },
  {
   "cell_type": "code",
   "execution_count": 11,
   "metadata": {
    "id": "IuGJg2UPAGpZ"
   },
   "outputs": [
    {
     "name": "stdout",
     "output_type": "stream",
     "text": [
      "(10000, 3)\n"
     ]
    }
   ],
   "source": [
    "from sklearn.manifold import TSNE\n",
    "### START CODE HERE ###\n",
    "X_reduced_tSNE = TSNE(n_components=3, perplexity=20).fit_transform(X_train[:10000])\n",
    "### END CODE HERE ###\n",
    "print(X_reduced_tSNE.shape)"
   ]
  },
  {
   "cell_type": "markdown",
   "metadata": {
    "id": "kteTq2wZ9a_q"
   },
   "source": [
    "Now we'll use the [KMeans module](https://scikit-learn.org/stable/modules/generated/sklearn.cluster.KMeans.html?highlight=kmeans#sklearn.cluster.KMeans) in sklearn.cluster, to fit Kmeans clusterings of the data. We don't know the best value of K (the number of clusters) *a priori*, so let's try all values of $k \\in [1, 20]$. We can automate this with the [KElbowVisualizer module](https://www.scikit-yb.org/en/latest/api/cluster/elbow.html) of the Yellowbrick visualization library. Read the documentation of KElbowVisualizer to see how you can wrap a Kmeans model with a KElbowVisualizer, and generate an elbow plot. Generate elbow plots for both the PCA-reduced data and the t-SNE-reduced data"
   ]
  },
  {
   "cell_type": "code",
   "execution_count": 12,
   "metadata": {
    "id": "MSFn9DH6_4Ch"
   },
   "outputs": [],
   "source": [
    "from sklearn.cluster import KMeans\n",
    "from yellowbrick.cluster import KElbowVisualizer"
   ]
  },
  {
   "cell_type": "code",
   "execution_count": 13,
   "metadata": {
    "id": "gsFpQiEkAGpX"
   },
   "outputs": [
    {
     "data": {
      "image/png": "[encoded data removed]",
      "text/plain": [
       "<Figure size 576x396 with 2 Axes>"
      ]
     },
     "metadata": {
      "image/png": {
       "height": 358,
       "width": 536
      }
     },
     "output_type": "display_data"
    }
   ],
   "source": [
    "# fit the KElbow visualizer for the PCA-reduced data\n",
    "\n",
    "### START CODE HERE ###\n",
    "kmeans_pca = KMeans()\n",
    "visualizer = KElbowVisualizer(kmeans_pca, k=(1,20))\n",
    "visualizer.fit(X_reduced_PCA[:10000])\n",
    "visualizer.show();\n",
    "### END CODE HERE ###\n",
    "# the plots may look a little different depending on whether you're doing this locally or in Colab\n",
    "# If the axis labels don't display in Colab, refer to the documentation link above for an example\n",
    "# figure with the axis labels"
   ]
  },
  {
   "cell_type": "code",
   "execution_count": 14,
   "metadata": {
    "id": "ZRwEni6yACrE"
   },
   "outputs": [
    {
     "data": {
      "image/png": "[encoded data removed]",
      "text/plain": [
       "<Figure size 576x396 with 2 Axes>"
      ]
     },
     "metadata": {
      "image/png": {
       "height": 358,
       "width": 522
      }
     },
     "output_type": "display_data"
    }
   ],
   "source": [
    "# do the same thing for the t-SNE-reduced data\n",
    "kmeans_tsne = KMeans()\n",
    "visualizer = KElbowVisualizer(kmeans_tsne, k=(1,20))\n",
    "visualizer.fit(X_reduced_tSNE[:10000])\n",
    "visualizer.show();\n",
    "### START CODE HERE ###\n",
    "\n",
    "### END CODE HERE ###\n",
    "# the plots may look a little different depending on whether you're doing this locally or in Colab\n",
    "# If the axis labels don't display in Colab, refer to the documentation link above for an example\n",
    "# figure with the axis labels"
   ]
  },
  {
   "cell_type": "markdown",
   "metadata": {
    "id": "VFHtdkZSBu01"
   },
   "source": [
    "Discuss with your breakout room partners what you can learn from these Elbow plots."
   ]
  },
  {
   "cell_type": "markdown",
   "metadata": {},
   "source": [
    "_The 'elbow' for the PCA-reduced data is much more pronounced than that for the tSNE-reduced data (it's questionable if the latter even has an 'elbow')._"
   ]
  },
  {
   "cell_type": "markdown",
   "metadata": {
    "id": "0IxaAYc863u1"
   },
   "source": [
    "Pick a value of K to use for clustering PCA, based on the plots you have above. Then generate an array `cluster_ids` that labels each datapoint in `X_reduced_PCA` with the cluster ID (0...K-1) that Kmeans assigns to it, when it is fit with that value of K."
   ]
  },
  {
   "cell_type": "code",
   "execution_count": 15,
   "metadata": {
    "colab": {
     "base_uri": "https://localhost:8080/"
    },
    "executionInfo": {
     "elapsed": 3117,
     "status": "ok",
     "timestamp": 1628785697547,
     "user": {
      "displayName": "Spencer Kent",
      "photoUrl": "",
      "userId": "07841346171340846448"
     },
     "user_tz": 360
    },
    "id": "_kz0uVfFAGpd",
    "outputId": "75689cc5-49d3-4f29-c50d-455a604ff798"
   },
   "outputs": [
    {
     "name": "stdout",
     "output_type": "stream",
     "text": [
      "The unique cluster ids are  [0 1 2]\n"
     ]
    }
   ],
   "source": [
    "### START CODE HERE \n",
    "# Picking k=3 (since after 3 the distortion score doesn't improve much)\n",
    "kmeans_pca = KMeans(n_clusters=3)\n",
    "cluster_ids = kmeans_pca.fit_predict(X_reduced_PCA)\n",
    "### END CODE HERE ###\n",
    "print('The unique cluster ids are ', np.unique(cluster_ids))"
   ]
  },
  {
   "cell_type": "markdown",
   "metadata": {
    "id": "MzxNlpDbFXjj"
   },
   "source": [
    "Now we create a new version of the feature-reduced data that has these cluster ids in it, and save this as a .csv file to disk:"
   ]
  },
  {
   "cell_type": "code",
   "execution_count": 16,
   "metadata": {
    "colab": {
     "base_uri": "https://localhost:8080/",
     "height": 223
    },
    "executionInfo": {
     "elapsed": 74,
     "status": "ok",
     "timestamp": 1628785701707,
     "user": {
      "displayName": "Spencer Kent",
      "photoUrl": "",
      "userId": "07841346171340846448"
     },
     "user_tz": 360
    },
    "id": "mcbhp5GPFZGJ",
    "outputId": "7a371a04-bc32-4b03-8c5f-5a3614f2fdfc"
   },
   "outputs": [
    {
     "data": {
      "text/html": [
       "<div>\n",
       "<style scoped>\n",
       "    .dataframe tbody tr th:only-of-type {\n",
       "        vertical-align: middle;\n",
       "    }\n",
       "\n",
       "    .dataframe tbody tr th {\n",
       "        vertical-align: top;\n",
       "    }\n",
       "\n",
       "    .dataframe thead th {\n",
       "        text-align: right;\n",
       "    }\n",
       "</style>\n",
       "<table border=\"1\" class=\"dataframe\">\n",
       "  <thead>\n",
       "    <tr style=\"text-align: right;\">\n",
       "      <th></th>\n",
       "      <th>NumRemove</th>\n",
       "      <th>NumOfEventsInJourney</th>\n",
       "      <th>NumCart</th>\n",
       "      <th>NumView</th>\n",
       "      <th>interactionTime</th>\n",
       "      <th>NumSessions</th>\n",
       "      <th>InsessionRemove</th>\n",
       "      <th>InsessionCart</th>\n",
       "      <th>minPrice</th>\n",
       "      <th>maxPrice</th>\n",
       "      <th>InsessionView</th>\n",
       "      <th>Purchase</th>\n",
       "      <th>ClusterID</th>\n",
       "    </tr>\n",
       "  </thead>\n",
       "  <tbody>\n",
       "    <tr>\n",
       "      <th>0</th>\n",
       "      <td>1</td>\n",
       "      <td>2</td>\n",
       "      <td>0</td>\n",
       "      <td>1</td>\n",
       "      <td>4749</td>\n",
       "      <td>2</td>\n",
       "      <td>6</td>\n",
       "      <td>1</td>\n",
       "      <td>19.03</td>\n",
       "      <td>19.03</td>\n",
       "      <td>2</td>\n",
       "      <td>0</td>\n",
       "      <td>0</td>\n",
       "    </tr>\n",
       "    <tr>\n",
       "      <th>1</th>\n",
       "      <td>0</td>\n",
       "      <td>1</td>\n",
       "      <td>0</td>\n",
       "      <td>1</td>\n",
       "      <td>0</td>\n",
       "      <td>1</td>\n",
       "      <td>0</td>\n",
       "      <td>0</td>\n",
       "      <td>4.60</td>\n",
       "      <td>4.60</td>\n",
       "      <td>1</td>\n",
       "      <td>0</td>\n",
       "      <td>0</td>\n",
       "    </tr>\n",
       "    <tr>\n",
       "      <th>2</th>\n",
       "      <td>0</td>\n",
       "      <td>1</td>\n",
       "      <td>0</td>\n",
       "      <td>1</td>\n",
       "      <td>0</td>\n",
       "      <td>1</td>\n",
       "      <td>0</td>\n",
       "      <td>0</td>\n",
       "      <td>35.71</td>\n",
       "      <td>35.71</td>\n",
       "      <td>1</td>\n",
       "      <td>0</td>\n",
       "      <td>0</td>\n",
       "    </tr>\n",
       "    <tr>\n",
       "      <th>3</th>\n",
       "      <td>0</td>\n",
       "      <td>1</td>\n",
       "      <td>1</td>\n",
       "      <td>0</td>\n",
       "      <td>0</td>\n",
       "      <td>1</td>\n",
       "      <td>16</td>\n",
       "      <td>13</td>\n",
       "      <td>2.94</td>\n",
       "      <td>2.94</td>\n",
       "      <td>13</td>\n",
       "      <td>0</td>\n",
       "      <td>0</td>\n",
       "    </tr>\n",
       "    <tr>\n",
       "      <th>4</th>\n",
       "      <td>0</td>\n",
       "      <td>1</td>\n",
       "      <td>0</td>\n",
       "      <td>1</td>\n",
       "      <td>0</td>\n",
       "      <td>1</td>\n",
       "      <td>0</td>\n",
       "      <td>0</td>\n",
       "      <td>5.22</td>\n",
       "      <td>5.22</td>\n",
       "      <td>3</td>\n",
       "      <td>0</td>\n",
       "      <td>0</td>\n",
       "    </tr>\n",
       "  </tbody>\n",
       "</table>\n",
       "</div>"
      ],
      "text/plain": [
       "   NumRemove  NumOfEventsInJourney  NumCart  NumView  interactionTime  \\\n",
       "0          1                     2        0        1             4749   \n",
       "1          0                     1        0        1                0   \n",
       "2          0                     1        0        1                0   \n",
       "3          0                     1        1        0                0   \n",
       "4          0                     1        0        1                0   \n",
       "\n",
       "   NumSessions  InsessionRemove  InsessionCart  minPrice  maxPrice  \\\n",
       "0            2                6              1     19.03     19.03   \n",
       "1            1                0              0      4.60      4.60   \n",
       "2            1                0              0     35.71     35.71   \n",
       "3            1               16             13      2.94      2.94   \n",
       "4            1                0              0      5.22      5.22   \n",
       "\n",
       "   InsessionView  Purchase  ClusterID  \n",
       "0              2         0          0  \n",
       "1              1         0          0  \n",
       "2              1         0          0  \n",
       "3             13         0          0  \n",
       "4              3         0          0  "
      ]
     },
     "execution_count": 16,
     "metadata": {},
     "output_type": "execute_result"
    }
   ],
   "source": [
    "# selected_columns = ['NumOfEventsInJourney', 'NumSessions', 'interactionTime', 'maxPrice',\n",
    "#        'minPrice', 'NumCart', 'NumView', 'NumRemove', 'InsessionCart',\n",
    "#        'InsessionView', 'InsessionRemove']\n",
    "#^ these were columns I ended up selecting after the first step of Random Forest feature pruning, \n",
    "# you could change these to whatever you ended up using\n",
    "selected_columns = ['NumRemove', 'NumOfEventsInJourney', 'NumCart', 'NumView',\n",
    "                    'interactionTime', 'NumSessions', 'InsessionRemove', 'InsessionCart',\n",
    "                    'minPrice', 'maxPrice', 'InsessionView']\n",
    "temp_df = pd.DataFrame(df[selected_columns])\n",
    "temp_df['Purchase'] = df['Purchase']\n",
    "temp_df['ClusterID'] = cluster_ids\n",
    "temp_df.head()"
   ]
  },
  {
   "cell_type": "code",
   "execution_count": 17,
   "metadata": {
    "id": "8Zg8dtuLAGpn"
   },
   "outputs": [],
   "source": [
    "temp_df.to_csv('Clustered_data_cosmetics.csv', index=False)"
   ]
  },
  {
   "cell_type": "markdown",
   "metadata": {
    "id": "HB-SZFqUAGpr"
   },
   "source": [
    "## Task 3: Visualize the clusters [Instructor Led]\n",
    "Tutorial on Tensorboard's embedding projector + Colab: https://colab.research.google.com/drive/1-PUVjf4eNO8QzF27lbBg6OT-yTNlBgD7"
   ]
  },
  {
   "cell_type": "code",
   "execution_count": 18,
   "metadata": {
    "id": "vmsreBzSAGpr"
   },
   "outputs": [
    {
     "data": {
      "text/html": [
       "<div>\n",
       "<style scoped>\n",
       "    .dataframe tbody tr th:only-of-type {\n",
       "        vertical-align: middle;\n",
       "    }\n",
       "\n",
       "    .dataframe tbody tr th {\n",
       "        vertical-align: top;\n",
       "    }\n",
       "\n",
       "    .dataframe thead th {\n",
       "        text-align: right;\n",
       "    }\n",
       "</style>\n",
       "<table border=\"1\" class=\"dataframe\">\n",
       "  <thead>\n",
       "    <tr style=\"text-align: right;\">\n",
       "      <th></th>\n",
       "      <th>NumRemove</th>\n",
       "      <th>NumOfEventsInJourney</th>\n",
       "      <th>NumCart</th>\n",
       "      <th>NumView</th>\n",
       "      <th>interactionTime</th>\n",
       "      <th>NumSessions</th>\n",
       "      <th>InsessionRemove</th>\n",
       "      <th>InsessionCart</th>\n",
       "      <th>minPrice</th>\n",
       "      <th>maxPrice</th>\n",
       "      <th>InsessionView</th>\n",
       "      <th>Purchase</th>\n",
       "      <th>ClusterID</th>\n",
       "    </tr>\n",
       "  </thead>\n",
       "  <tbody>\n",
       "    <tr>\n",
       "      <th>0</th>\n",
       "      <td>1</td>\n",
       "      <td>2</td>\n",
       "      <td>0</td>\n",
       "      <td>1</td>\n",
       "      <td>4749</td>\n",
       "      <td>2</td>\n",
       "      <td>6</td>\n",
       "      <td>1</td>\n",
       "      <td>19.03</td>\n",
       "      <td>19.03</td>\n",
       "      <td>2</td>\n",
       "      <td>0</td>\n",
       "      <td>0</td>\n",
       "    </tr>\n",
       "    <tr>\n",
       "      <th>1</th>\n",
       "      <td>0</td>\n",
       "      <td>1</td>\n",
       "      <td>0</td>\n",
       "      <td>1</td>\n",
       "      <td>0</td>\n",
       "      <td>1</td>\n",
       "      <td>0</td>\n",
       "      <td>0</td>\n",
       "      <td>4.60</td>\n",
       "      <td>4.60</td>\n",
       "      <td>1</td>\n",
       "      <td>0</td>\n",
       "      <td>0</td>\n",
       "    </tr>\n",
       "    <tr>\n",
       "      <th>2</th>\n",
       "      <td>0</td>\n",
       "      <td>1</td>\n",
       "      <td>0</td>\n",
       "      <td>1</td>\n",
       "      <td>0</td>\n",
       "      <td>1</td>\n",
       "      <td>0</td>\n",
       "      <td>0</td>\n",
       "      <td>35.71</td>\n",
       "      <td>35.71</td>\n",
       "      <td>1</td>\n",
       "      <td>0</td>\n",
       "      <td>0</td>\n",
       "    </tr>\n",
       "    <tr>\n",
       "      <th>3</th>\n",
       "      <td>0</td>\n",
       "      <td>1</td>\n",
       "      <td>1</td>\n",
       "      <td>0</td>\n",
       "      <td>0</td>\n",
       "      <td>1</td>\n",
       "      <td>16</td>\n",
       "      <td>13</td>\n",
       "      <td>2.94</td>\n",
       "      <td>2.94</td>\n",
       "      <td>13</td>\n",
       "      <td>0</td>\n",
       "      <td>0</td>\n",
       "    </tr>\n",
       "    <tr>\n",
       "      <th>4</th>\n",
       "      <td>0</td>\n",
       "      <td>1</td>\n",
       "      <td>0</td>\n",
       "      <td>1</td>\n",
       "      <td>0</td>\n",
       "      <td>1</td>\n",
       "      <td>0</td>\n",
       "      <td>0</td>\n",
       "      <td>5.22</td>\n",
       "      <td>5.22</td>\n",
       "      <td>3</td>\n",
       "      <td>0</td>\n",
       "      <td>0</td>\n",
       "    </tr>\n",
       "  </tbody>\n",
       "</table>\n",
       "</div>"
      ],
      "text/plain": [
       "   NumRemove  NumOfEventsInJourney  NumCart  NumView  interactionTime  \\\n",
       "0          1                     2        0        1             4749   \n",
       "1          0                     1        0        1                0   \n",
       "2          0                     1        0        1                0   \n",
       "3          0                     1        1        0                0   \n",
       "4          0                     1        0        1                0   \n",
       "\n",
       "   NumSessions  InsessionRemove  InsessionCart  minPrice  maxPrice  \\\n",
       "0            2                6              1     19.03     19.03   \n",
       "1            1                0              0      4.60      4.60   \n",
       "2            1                0              0     35.71     35.71   \n",
       "3            1               16             13      2.94      2.94   \n",
       "4            1                0              0      5.22      5.22   \n",
       "\n",
       "   InsessionView  Purchase  ClusterID  \n",
       "0              2         0          0  \n",
       "1              1         0          0  \n",
       "2              1         0          0  \n",
       "3             13         0          0  \n",
       "4              3         0          0  "
      ]
     },
     "execution_count": 18,
     "metadata": {},
     "output_type": "execute_result"
    }
   ],
   "source": [
    "#Load the data with clustering labels\n",
    "X_train = pd.read_csv(\"Clustered_data_cosmetics.csv\")\n",
    "X = X_train.iloc[:,0:-2].values\n",
    "X_train.head()"
   ]
  },
  {
   "cell_type": "code",
   "execution_count": 19,
   "metadata": {
    "colab": {
     "base_uri": "https://localhost:8080/"
    },
    "executionInfo": {
     "elapsed": 967,
     "status": "ok",
     "timestamp": 1628785769119,
     "user": {
      "displayName": "Spencer Kent",
      "photoUrl": "",
      "userId": "07841346171340846448"
     },
     "user_tz": 360
    },
    "id": "COq_wrUcAGpt",
    "outputId": "3d1fe3b0-50c9-481c-9582-e965af6aecc3"
   },
   "outputs": [
    {
     "name": "stdout",
     "output_type": "stream",
     "text": [
      "(250000, 5)\n"
     ]
    }
   ],
   "source": [
    "pca = PCA(n_components=5)\n",
    "X1 = pca.fit_transform(X)\n",
    "print(X1.shape)"
   ]
  },
  {
   "cell_type": "code",
   "execution_count": 20,
   "metadata": {
    "id": "_Ro7_dTyAGpw"
   },
   "outputs": [],
   "source": [
    "#version 1\n",
    "def register_embedding(embedding_tensor_name, meta_data_fname, log_dir):\n",
    "    config = projector.ProjectorConfig()\n",
    "    embedding = config.embeddings.add()\n",
    "    embedding.tensor_name = embedding_tensor_name\n",
    "    embedding.metadata_path = meta_data_fname\n",
    "    projector.visualize_embeddings(log_dir, config)\n",
    "\n",
    "def save_labels_tsv(labels, filepath, log_dir):\n",
    "    with open(os.path.join(log_dir, filepath), 'w') as f:\n",
    "        for label in labels:\n",
    "            f.write('{}\\n'.format(label))"
   ]
  },
  {
   "cell_type": "markdown",
   "metadata": {
    "id": "e2UY3WNyK6z0"
   },
   "source": [
    "We need to create a directory where we can store logs for tensorboard to use"
   ]
  },
  {
   "cell_type": "code",
   "execution_count": 22,
   "metadata": {
    "id": "pISugJ7TAGot"
   },
   "outputs": [],
   "source": [
    "## Get working directory\n",
    "PATH = os.getcwd()\n",
    "## Path to save the embedding and checkpoints generated\n",
    "os.mkdir(PATH + '/project-tensorboard/')\n",
    "LOG_DIR = PATH + '/project-tensorboard/log-1'\n",
    "os.mkdir(LOG_DIR)"
   ]
  },
  {
   "cell_type": "code",
   "execution_count": 23,
   "metadata": {
    "id": "E_a-gke2AGpy"
   },
   "outputs": [],
   "source": [
    "META_DATA_FNAME = 'meta_cos_reduction1.tsv'  # Labels will be stored here\n",
    "EMBEDDINGS_TENSOR_NAME = 'sample_data_cos_reduction1'\n",
    "EMBEDDINGS_FPATH = os.path.join(LOG_DIR, EMBEDDINGS_TENSOR_NAME + '.ckpt')\n",
    "STEP = 0\n",
    "\n",
    "register_embedding(EMBEDDINGS_TENSOR_NAME, META_DATA_FNAME, LOG_DIR)\n",
    "save_labels_tsv(cluster_ids, META_DATA_FNAME, LOG_DIR) #version 1"
   ]
  },
  {
   "cell_type": "code",
   "execution_count": 24,
   "metadata": {
    "id": "YziMhdGEAGp1"
   },
   "outputs": [
    {
     "name": "stderr",
     "output_type": "stream",
     "text": [
      "2021-08-20 22:32:31.380591: I tensorflow/core/platform/cpu_feature_guard.cc:142] This TensorFlow binary is optimized with oneAPI Deep Neural Network Library (oneDNN) to use the following CPU instructions in performance-critical operations:  AVX2 FMA\n",
      "To enable them in other operations, rebuild TensorFlow with the appropriate compiler flags.\n"
     ]
    }
   ],
   "source": [
    "tf.compat.v1.disable_eager_execution()\n",
    "tensor_embeddings = tf.Variable(X1, name=EMBEDDINGS_TENSOR_NAME)\n",
    "sess = tf.compat.v1.InteractiveSession()\n",
    "sess.run(tf.compat.v1.global_variables_initializer())\n",
    "saver = tf.compat.v1.train.Saver()\n",
    "saver.save(sess, EMBEDDINGS_FPATH, STEP)\n",
    "sess.close()"
   ]
  },
  {
   "cell_type": "markdown",
   "metadata": {
    "id": "ta5fQ-gNPmJR"
   },
   "source": [
    "If you're running this notebook locally, you can start tensorboard from the command line `tensorboard --logdir <path to the log directory>`. \n",
    "\n",
    "But to use it *embedded in a Colab notebook* you have to do the following"
   ]
  },
  {
   "cell_type": "code",
   "execution_count": 25,
   "metadata": {
    "id": "NPDjKWuAPTIc"
   },
   "outputs": [],
   "source": [
    "try:\n",
    "  # %tensorflow_version only exists in Colab.\n",
    "  %tensorflow_version 2.x\n",
    "except Exception:\n",
    "  pass\n",
    "\n",
    "%load_ext tensorboard"
   ]
  },
  {
   "cell_type": "code",
   "execution_count": null,
   "metadata": {
    "id": "0VOu2Q4QPFrA",
    "scrolled": true
   },
   "outputs": [],
   "source": [
    "%tensorboard --logdir project-tensorboard/log-1/"
   ]
  },
  {
   "cell_type": "code",
   "execution_count": null,
   "metadata": {
    "id": "-WdbFR1qAGp3"
   },
   "outputs": [],
   "source": [
    "#Attach an image of the optimal clusters and their relative position in t-SNE"
   ]
  },
  {
   "cell_type": "markdown",
   "metadata": {
    "id": "SgmFyvbMAGp5"
   },
   "source": [
    "### Task 4: Analysis of clusters.\n",
    "Now that the records have been clustered, do the following 2 tasks:\n",
    "1. Do the different clusters vary in their purchase ratio? If so by how much?\n",
    "2. Plot the discriminating charecteristics of each feature to separate purchase vs not-purchase events. You could do this many ways, it's up to you. One suggestion we'll give is to use a seaborn distplot on each feature separately. You can do this one cluster at a time to see if there are any big differences between the distributions of feature values for different clusters."
   ]
  },
  {
   "cell_type": "code",
   "execution_count": 26,
   "metadata": {
    "id": "MuCS3KK1AGp6"
   },
   "outputs": [],
   "source": [
    "column_values = X_train[\"ClusterID\"].values.ravel()\n",
    "unique_cluster_ids_unsorted = np.array(pd.unique(column_values))\n",
    "unique_cluster_ids = np.sort(unique_cluster_ids_unsorted)"
   ]
  },
  {
   "cell_type": "markdown",
   "metadata": {
    "id": "4l93Jjag-QSu"
   },
   "source": [
    "### Exercise: For each cluster, calculate the representation percentage (i.e. what percentage of the dataset's samples belong to that cluster) and purchase percentage (i.e. what percentage of samples in each cluster resulted in a purchase)"
   ]
  },
  {
   "cell_type": "code",
   "execution_count": 39,
   "metadata": {},
   "outputs": [
    {
     "data": {
      "text/plain": [
       "Counter({0: 235527, 1: 10793, 2: 3680})"
      ]
     },
     "execution_count": 39,
     "metadata": {},
     "output_type": "execute_result"
    }
   ],
   "source": [
    "count"
   ]
  },
  {
   "cell_type": "code",
   "execution_count": 47,
   "metadata": {
    "id": "HJQDN9KKAGp8"
   },
   "outputs": [
    {
     "name": "stdout",
     "output_type": "stream",
     "text": [
      "ClusterID:%Dataset => 0:94.2%, 1:4.3%, 2:1.5%\n",
      "ClusterID:%Purchase => 0:11.5%, 1:19.2%, 2:26.1%\n"
     ]
    }
   ],
   "source": [
    "### START CODE HERE ###\n",
    "from collections import Counter\n",
    "count = Counter(column_values)\n",
    "len_X = len(X_train)\n",
    "\n",
    "pct_represent = [count[i]/len_X*100 for i in range(len(count))]\n",
    "print('ClusterID:%Dataset => '\n",
    "      f'0:{pct_represent[0]:.1f}%, 1:{pct_represent[1]:.1f}%, 2:{pct_represent[2]:.1f}%')\n",
    "\n",
    "clust_purch_sum = X_train.groupby('ClusterID')['Purchase'].sum()\n",
    "pct_purchase = [clust_purch_sum[i]/count[i]*100 for i in range(len(count))]\n",
    "print('ClusterID:%Purchase => '\n",
    "      f'0:{pct_purchase[0]:.1f}%, '\n",
    "      f'1:{pct_purchase[1]:.1f}%, '\n",
    "      f'2:{pct_purchase[2]:.1f}%')\n",
    "### END CODE HERE ###"
   ]
  },
  {
   "cell_type": "markdown",
   "metadata": {
    "id": "IbjFgGXsWTTH"
   },
   "source": [
    "Then, plot the discriminating charecteristics of each feature to try and separate purchase vs not-purchase events"
   ]
  },
  {
   "cell_type": "code",
   "execution_count": 59,
   "metadata": {},
   "outputs": [
    {
     "data": {
      "image/png": "[encoded data removed]",
      "text/plain": [
       "<Figure size 576x396 with 1 Axes>"
      ]
     },
     "metadata": {
      "image/png": {
       "height": 361,
       "width": 501
      }
     },
     "output_type": "display_data"
    }
   ],
   "source": [
    "plt.scatter(pct_represent, pct_purchase);\n",
    "plt.title('Representation and Purchase of Clusters', size=16)\n",
    "plt.xlabel('Representation (%)')\n",
    "plt.ylabel('Purchased (%)')\n",
    "plt.xlim(0, 100)\n",
    "plt.ylim(0, 30)\n",
    "for i, label in enumerate(count.keys()):\n",
    "    plt.annotate(label, (pct_represent[i]+2, pct_purchase[i]))"
   ]
  },
  {
   "cell_type": "markdown",
   "metadata": {
    "id": "2FnySfsUAIZt"
   },
   "source": [
    "Discuss your results with your colleagues.\n"
   ]
  },
  {
   "cell_type": "code",
   "execution_count": 63,
   "metadata": {},
   "outputs": [
    {
     "data": {
      "text/plain": [
       "0.120684"
      ]
     },
     "execution_count": 63,
     "metadata": {},
     "output_type": "execute_result"
    }
   ],
   "source": [
    "df['Purchase'].sum()/len(df)"
   ]
  },
  {
   "cell_type": "markdown",
   "metadata": {},
   "source": [
    "_Cluster0 represents the majority of the customers and has a purchasing percentage (11.5%) also close to the purchasing percentage of the dataset (12.1%). Cluster2 is the smallest cluster but has the highest purchasing rate. Cluster1 is the 2nd biggest cluster with slightly lower purchasing rate._"
   ]
  },
  {
   "cell_type": "code",
   "execution_count": null,
   "metadata": {},
   "outputs": [],
   "source": []
  }
 ],
 "metadata": {
  "colab": {
   "collapsed_sections": [],
   "name": "week3_V1.ipynb",
   "provenance": []
  },
  "kernelspec": {
   "display_name": "Python 3 (ipykernel)",
   "language": "python",
   "name": "python3"
  },
  "language_info": {
   "codemirror_mode": {
    "name": "ipython",
    "version": 3
   },
   "file_extension": ".py",
   "mimetype": "text/x-python",
   "name": "python",
   "nbconvert_exporter": "python",
   "pygments_lexer": "ipython3",
   "version": "3.9.6"
  }
 },
 "nbformat": 4,
 "nbformat_minor": 1
}
