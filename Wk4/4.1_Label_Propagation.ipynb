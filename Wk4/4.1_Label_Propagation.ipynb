{
 "cells": [
  {
   "cell_type": "markdown",
   "metadata": {
    "id": "ieUiNqS3KCZw"
   },
   "source": [
    "# Label Propagation\n",
    "\n",
    "## Label propagation is similar to training a classification model and then using that model to make predictions on test data. The key difference is that in general, our analogue to the test data has no labels against which to evaluate our model. In this exercise, we keep the entire set of true labels for illustrative purposes, but the vast marjority of them play no role in training the model. \n",
    "\n",
    "## This exercise is adapted from scikit-learn's [tutorial](https://scikit-learn.org/stable/auto_examples/semi_supervised/plot_label_propagation_digits.html) on zero shot learning ."
   ]
  },
  {
   "cell_type": "markdown",
   "metadata": {
    "id": "IESgGiUAlfZn"
   },
   "source": [
    "### Load the necessary modules and functions"
   ]
  },
  {
   "cell_type": "code",
   "execution_count": 1,
   "metadata": {
    "id": "hOVZd8fjgJyK"
   },
   "outputs": [],
   "source": [
    "import numpy as np\n",
    "import matplotlib.pyplot as plt\n",
    "\n",
    "from scipy import stats\n",
    "\n",
    "from sklearn import datasets\n",
    "from sklearn.semi_supervised import LabelSpreading\n",
    "\n",
    "from sklearn.metrics import confusion_matrix, classification_report"
   ]
  },
  {
   "cell_type": "markdown",
   "metadata": {
    "id": "0An6u8e9loVQ"
   },
   "source": [
    "### Exercise: Load and preprocess the data. \n",
    "1. Shuffle the indices\n",
    "2. Use the shuffled indices to extract 1000 random samples from the features data\n",
    "3. Extract the corresponding 1000 labels and images\n",
    "4. Copy the labels. Treat the first 50 shuffled samples as labeled data and the rest as unlabeled data. Replace the labels after the first 50 with -1.\n",
    "\n",
    "We'll use this copy of our labels (with 50 labels known and the other 950 hidden) to train our model, and use the original copy (with all 1000 labels known) to evaluate the model."
   ]
  },
  {
   "cell_type": "code",
   "execution_count": 2,
   "metadata": {
    "id": "XyaWhrhCgJyO"
   },
   "outputs": [],
   "source": [
    "# Load the digits dataset\n",
    "# digits = {data,target,indices}; n = 1797\n",
    "digits = datasets.load_digits()\n",
    "\n",
    "# Set the random state to 2 for reproducibility\n",
    "rng = np.random.RandomState(2)\n",
    "\n",
    "### START CODE HERE ###\n",
    "# Initialize the indices as an ordered array, with each element corresponding to a sample in the dataset\n",
    "indices = np.arange(len(digits.data))\n",
    "\n",
    "# Shuffle the indices\n",
    "rng.shuffle(indices)\n",
    "\n",
    "# Use the shuffled indices to extract 1000 feature vectors, labels, and images\n",
    "n_total_samples = 1000\n",
    "# Features\n",
    "X = digits.data[indices[:n_total_samples]]\n",
    "# Labels\n",
    "y = digits.target[indices[:n_total_samples]]\n",
    "# Images\n",
    "images = digits.images[indices[:n_total_samples]]\n",
    "\n",
    "# Copy the labels\n",
    "y_train = y.copy()\n",
    "\n",
    "# Replace all of the elements of y_train after the first 50 with -1, rendering them unlabeled\n",
    "n_labeled_points = 50  # 10, 100, 250\n",
    "# Create an ordered array of indices of the training data\n",
    "train_indices = np.arange(n_total_samples)\n",
    "# Define the training data indices after n_labeled_points as unlabeled\n",
    "unlabeled_set = train_indices[n_labeled_points:]\n",
    "# Conduct the label replacement\n",
    "y_train[unlabeled_set] = -1\n",
    "### END CODE HERE ###"
   ]
  },
  {
   "cell_type": "markdown",
   "metadata": {
    "id": "Ij_hVMtyvomW"
   },
   "source": [
    "### Verify that the labels are randomly distributed and all the labels after the first 50 in `y_train` are hidden"
   ]
  },
  {
   "cell_type": "code",
   "execution_count": 3,
   "metadata": {
    "id": "39CAoaBzgJyR"
   },
   "outputs": [
    {
     "name": "stdout",
     "output_type": "stream",
     "text": [
      "[ 4  0  9  1  4  7  1  5  1  6  6  7  6  1  5  5  4  6  2  7  4  6  4  1\n",
      "  5  2  9  5  4  6  5  6  3  4  0  9  9  8  4  6  8  8  5  7  9  6  9  6\n",
      "  1  3 -1 -1 -1 -1 -1 -1 -1 -1 -1 -1 -1 -1 -1 -1 -1 -1 -1 -1 -1 -1 -1 -1\n",
      " -1 -1 -1 -1 -1 -1 -1 -1 -1 -1 -1 -1 -1 -1 -1 -1 -1 -1 -1 -1 -1 -1 -1 -1\n",
      " -1 -1 -1 -1]\n"
     ]
    }
   ],
   "source": [
    "print(y_train[0:100])"
   ]
  },
  {
   "cell_type": "markdown",
   "metadata": {
    "id": "40hk3UKewEZe"
   },
   "source": [
    "### Exercise: Train the label propagation model with `gamma = 0.25` and `max_iter = 20`\n",
    "\n",
    "### Make sure you pass in the correct version of the target array, i.e. the one containing unlabeled data"
   ]
  },
  {
   "cell_type": "code",
   "execution_count": 4,
   "metadata": {
    "id": "8wHcs3qkgJyW"
   },
   "outputs": [
    {
     "data": {
      "text/plain": [
       "LabelSpreading(gamma=0.25, max_iter=20)"
      ]
     },
     "execution_count": 4,
     "metadata": {},
     "output_type": "execute_result"
    }
   ],
   "source": [
    "### START CODE HERE ###\n",
    "# Initialize the model\n",
    "lp_model = LabelSpreading(gamma=.25, max_iter=20)\n",
    "# Train the model\n",
    "lp_model.fit(X, y_train)\n",
    "### END CODE HERE ###"
   ]
  },
  {
   "cell_type": "markdown",
   "metadata": {
    "id": "LTBwLj2Gy8qM"
   },
   "source": [
    "### Exercise: Evaluate the model's performance on the unlabeled data"
   ]
  },
  {
   "cell_type": "code",
   "execution_count": 5,
   "metadata": {
    "id": "CjFO-PxjgJya"
   },
   "outputs": [
    {
     "name": "stdout",
     "output_type": "stream",
     "text": [
      "Label Spreading model: 50 labeled & 950 unlabeled points (1000 total)\n",
      "              precision    recall  f1-score   support\n",
      "\n",
      "           0       1.00      1.00      1.00        98\n",
      "           1       0.85      0.90      0.88        93\n",
      "           2       0.99      0.78      0.87        91\n",
      "           3       0.92      0.90      0.91       108\n",
      "           4       0.97      1.00      0.98        88\n",
      "           5       0.97      0.93      0.95       102\n",
      "           6       0.97      1.00      0.99       100\n",
      "           7       0.98      0.91      0.94        91\n",
      "           8       0.86      0.82      0.84        87\n",
      "           9       0.77      0.97      0.86        92\n",
      "\n",
      "    accuracy                           0.92       950\n",
      "   macro avg       0.93      0.92      0.92       950\n",
      "weighted avg       0.93      0.92      0.92       950\n",
      "\n",
      "Confusion matrix\n",
      "[[ 98   0   0   0   0   0   0   0   0   0]\n",
      " [  0  84   0   0   1   1   0   0   3   4]\n",
      " [  0  12  71   0   0   0   0   1   7   0]\n",
      " [  0   0   0  97   0   0   0   1   0  10]\n",
      " [  0   0   0   0  88   0   0   0   0   0]\n",
      " [  0   0   0   0   0  95   0   0   0   7]\n",
      " [  0   0   0   0   0   0 100   0   0   0]\n",
      " [  0   0   0   0   0   2   0  83   0   6]\n",
      " [  0   3   1   8   1   0   3   0  71   0]\n",
      " [  0   0   0   0   1   0   0   0   2  89]]\n"
     ]
    }
   ],
   "source": [
    "### START CODE HERE ###\n",
    "# Extract the label predictions for the unlabeled data\n",
    "predicted_labels = lp_model.transduction_[unlabeled_set]\n",
    "# Extract the true labels of the unlabeled data\n",
    "true_labels = y[unlabeled_set]\n",
    "# Compute the confusion matrix between the true and predicted labels of the unlabeled data\n",
    "cm = confusion_matrix(true_labels, predicted_labels, labels=lp_model.classes_)\n",
    "### END CODE HERE ###\n",
    "print(\"Label Spreading model: %d labeled & %d unlabeled points (%d total)\" %\n",
    "      (n_labeled_points, n_total_samples - n_labeled_points, n_total_samples))\n",
    "\n",
    "print(classification_report(true_labels, predicted_labels))\n",
    "\n",
    "print(\"Confusion matrix\")\n",
    "print(cm)"
   ]
  },
  {
   "cell_type": "markdown",
   "metadata": {
    "id": "Hwlk3ptY1YrL"
   },
   "source": [
    "### Exercise: Find the 10 most uncertain labels in descending order of uncertainty, i.e. the labels for which the model made the least confident predictions. Plot the associated images. Observe any discrepancies between predicted and true labels. Do you see any patterns? What might account for them? "
   ]
  },
  {
   "cell_type": "code",
   "execution_count": 6,
   "metadata": {
    "id": "2ajvW97mgJyf"
   },
   "outputs": [
    {
     "data": {
      "image/png": "[encoded data removed]",
      "text/plain": [
       "<Figure size 504x360 with 10 Axes>"
      ]
     },
     "metadata": {
      "image/png": {
       "height": 297,
       "width": 408
      }
     },
     "output_type": "display_data"
    }
   ],
   "source": [
    "### START CODE HERE ###\n",
    "# Calculate uncertainty values for each transduced distribution\n",
    "# You may scipy stats' entropy() function useful.\n",
    "pred_entropies = stats.distributions.entropy(lp_model.label_distributions_.T)\n",
    "\n",
    "# Pick the top 10 most uncertain labels, in descending order of uncertainty\n",
    "uncertainty_index = np.argsort(pred_entropies)[-10:]\n",
    "### END CODE HERE ###\n",
    "\n",
    "# Plot\n",
    "f = plt.figure(figsize=(7, 5))\n",
    "for index, image_index in enumerate(uncertainty_index):\n",
    "    image = images[image_index]\n",
    "\n",
    "    sub = f.add_subplot(2, 5, index + 1)\n",
    "    sub.imshow(image, cmap=plt.cm.gray_r)\n",
    "    plt.xticks([])\n",
    "    plt.yticks([])\n",
    "    sub.set_title('predict: %i\\ntrue: %i' % (\n",
    "        lp_model.transduction_[image_index], y[image_index]))\n",
    "\n",
    "f.suptitle('Learning with small amount of labeled data')\n",
    "plt.show()"
   ]
  },
  {
   "cell_type": "markdown",
   "metadata": {},
   "source": [
    "_Of the 10 most uncertain predictions, 6 were correct, 4 were incorrect. 2 of the 4'incorrect' predictions ('2' as '7', '3' as '9') were morphologically very similar to what was predicted. '1' was mispredicted as '8' twice, probably because of the high dark pixels counts (the digit'8' has a very high dark pixel count)_"
   ]
  },
  {
   "cell_type": "markdown",
   "metadata": {
    "id": "xD119mlU69jb"
   },
   "source": [
    "### Exercise: Repeat the experiment with 10, 100, and 250 labeled images. How do the differing numbers of labeled samples affect the model's performance? Which number detections yield the most errors?\n",
    "\n"
   ]
  },
  {
   "cell_type": "markdown",
   "metadata": {
    "id": "ziIXBKO298DX"
   },
   "source": [
    "| # labeled | Precision | Recall | Accuracy |\n",
    "|-----------|-----------|--------|----------|\n",
    "| 10  | 0.53 | 0.66 | 0.66 |\n",
    "| 50  | 0.93 | 0.92 | 0.92 |\n",
    "| 100 | 0.96 | 0.96 | 0.96 |\n",
    "| 250 | 0.97 | 0.96 | 0.96 |\n",
    "\n",
    "_Larger number of labeled samples afforded better performance. The performance of 100 vs 250 labeled samples was very close. 10 labeled samples yielded the most errors_"
   ]
  },
  {
   "cell_type": "code",
   "execution_count": null,
   "metadata": {},
   "outputs": [],
   "source": []
  }
 ],
 "metadata": {
  "colab": {
   "collapsed_sections": [],
   "name": "4.1_Label_Propagation.ipynb",
   "provenance": [
    {
     "file_id": "1wR4Sk33vvBwuPkDoYo8VlGMChED39t0t",
     "timestamp": 1604606505111
    }
   ]
  },
  "kernelspec": {
   "display_name": "Python 3 (ipykernel)",
   "language": "python",
   "name": "python3"
  },
  "language_info": {
   "codemirror_mode": {
    "name": "ipython",
    "version": 3
   },
   "file_extension": ".py",
   "mimetype": "text/x-python",
   "name": "python",
   "nbconvert_exporter": "python",
   "pygments_lexer": "ipython3",
   "version": "3.9.6"
  }
 },
 "nbformat": 4,
 "nbformat_minor": 1
}
