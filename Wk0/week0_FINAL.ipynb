{
 "cells": [
  {
   "cell_type": "markdown",
   "metadata": {
    "id": "SsK70HKKtGEk"
   },
   "source": [
    "## Welcome to Week 0!\n",
    "\n",
    "Live sessions during this course will be oriented primarily around:\n",
    "\n",
    "1.   Lecture\n",
    "2.   Programming in [Jupyter notebooks](https://jupyter.org/) like the one you're in now.\n",
    "\n",
    "We will release notebooks on Mondays. Before lecture, you should download the .ipynb file, and open it either locally on your own machine or in Google Colab. It's a good idea to skim the notebook to get a sense for what it covers, but **don't start working on it before lecture**--the idea is for you to starting working on these **in class** (with the instructors and, more importantly, with your classmates).\n",
    "\n",
    "---\n",
    "\n",
    "This week we have some warm-up excercises to go through so that we can all practice using notebooks and some other tools that will be used throughout the course.\n",
    "\n",
    "*   Google Colab is a tool for editing and running Jupyter notebooks using Google's infrastructure. For most of you, using Colab to edit and run notebooks will make your life easier, especially after week 5 of the course.\n",
    "*   We're asking you to do Week 0's assignment (this one) in Colab, but after today you **aren't required to use it**.\n"
   ]
  },
  {
   "cell_type": "markdown",
   "metadata": {
    "id": "EEmebwjevCxD"
   },
   "source": [
    "### Task 1 -- Mounting your Google Drive and loading in the data\n",
    "*   Make a folder in Google Drive where you can put content for the course. Then\n",
    "download the .ipynb file released in Canvas, along with any accompanying data (this week the data is `time_series_covid_19_confirmed.csv`).\n",
    "*   Upload these to your Google Drive folder, and open the .ipynb file in Colab:\n",
    "\n",
    "  <img src='https://drive.google.com/uc?id=1qIfHxtBqfIhnRblvBQMZKAIJrS8ne4Ik' width=\"400\">\n"
   ]
  },
  {
   "cell_type": "markdown",
   "metadata": {
    "id": "F5MwJ1zM5AhV"
   },
   "source": [
    "Now connect this Colab notebook to your Google Drive and load in the COVID data. There are [several ways to do this](https://colab.research.google.com/notebooks/io.ipynb#scrollTo=c2W5A2px3doP), but just follow along with the two options we present below:"
   ]
  },
  {
   "cell_type": "code",
   "execution_count": 1,
   "metadata": {
    "id": "0y-Hy-cPL-pH"
   },
   "outputs": [],
   "source": [
    "import pandas as pd\n",
    "# use this to wrangle .csv files"
   ]
  },
  {
   "cell_type": "markdown",
   "metadata": {
    "id": "rmBPUvjoLDg3"
   },
   "source": [
    "\n",
    "---\n",
    "\n",
    "**Option 1: mounting locally**"
   ]
  },
  {
   "cell_type": "code",
   "execution_count": null,
   "metadata": {
    "id": "Mqah54vN8CVB"
   },
   "outputs": [],
   "source": [
    "from google.colab import drive\n",
    "drive.mount('/content/drive')"
   ]
  },
  {
   "cell_type": "markdown",
   "metadata": {
    "id": "NliK7yTn8LMn"
   },
   "source": [
    "^^ This mounts your Google Drive at the location */content/drive* on the virtual machine running this notebook."
   ]
  },
  {
   "cell_type": "code",
   "execution_count": null,
   "metadata": {
    "id": "sRi98Qrk97eR"
   },
   "outputs": [],
   "source": [
    "# my copy of the COVID data is located in my drive at Datasets/week_0/time_series_covid_19_confirmed.csv\n",
    "data = pd.read_csv('/content/drive/My Drive/FourthBrain/Wk0/time_series_covid_19_confirmed.csv')"
   ]
  },
  {
   "cell_type": "markdown",
   "metadata": {
    "id": "B7J40NtEMnvU"
   },
   "source": [
    "\n",
    "---\n",
    "**Option 2: use the PyDrive library**"
   ]
  },
  {
   "cell_type": "code",
   "execution_count": null,
   "metadata": {
    "id": "_GlfTo5zE2ba"
   },
   "outputs": [],
   "source": [
    "!pip install -U -q PyDrive\n",
    "from pydrive.auth import GoogleAuth\n",
    "from pydrive.drive import GoogleDrive\n",
    "from google.colab import auth\n",
    "from oauth2client.client import GoogleCredentials"
   ]
  },
  {
   "cell_type": "code",
   "execution_count": null,
   "metadata": {
    "id": "HT1yuyN5zJ19"
   },
   "outputs": [],
   "source": [
    "auth.authenticate_user()\n",
    "gauth = GoogleAuth()\n",
    "gauth.credentials = GoogleCredentials.get_application_default()\n",
    "drive = GoogleDrive(gauth)"
   ]
  },
  {
   "cell_type": "markdown",
   "metadata": {
    "id": "mifumPuu6soS"
   },
   "source": [
    "Get the unique identifier for the file containing COVID data in your Google Drive: \n",
    "\n",
    "1.   Right-click on the name of the file \n",
    "2.   Click \"Get link\"\n",
    "3.   Copy the characters between `d/` and the following slash\n",
    "4.   Paste them into the dictionary element of the call to `drive.CreateFile()` below."
   ]
  },
  {
   "cell_type": "code",
   "execution_count": null,
   "metadata": {
    "id": "mb5xkL1QzPYg"
   },
   "outputs": [],
   "source": [
    "downloaded = drive.CreateFile({'id':'1JhOQPocfG8UzzpTu5GYccBzRE7GV5neE'})\n",
    "downloaded.GetContentFile('time_series_covid_19_confirmed.csv') "
   ]
  },
  {
   "cell_type": "markdown",
   "metadata": {
    "id": "lVIEJqb7N0K0"
   },
   "source": [
    "^^ This should have **created** a file called `time_series_covid_19_confirmed.csv` in the current directory on the virtual machine. Now you can load it from there:"
   ]
  },
  {
   "cell_type": "code",
   "execution_count": 2,
   "metadata": {
    "id": "RGRlpvWjOdAr"
   },
   "outputs": [],
   "source": [
    "data = pd.read_csv('time_series_covid_19_confirmed.csv')"
   ]
  },
  {
   "cell_type": "markdown",
   "metadata": {
    "id": "KuKdLYyKPaEf"
   },
   "source": [
    "\n",
    "\n",
    "---\n",
    "\n",
    "### Task 2 -- Get familiar with the data\n"
   ]
  },
  {
   "cell_type": "code",
   "execution_count": 3,
   "metadata": {
    "id": "GsmBMe9c5tjm"
   },
   "outputs": [],
   "source": [
    "import numpy as np\n",
    "from matplotlib import pyplot as plt"
   ]
  },
  {
   "cell_type": "code",
   "execution_count": 4,
   "metadata": {
    "colab": {
     "base_uri": "https://localhost:8080/",
     "height": 252
    },
    "executionInfo": {
     "elapsed": 163,
     "status": "ok",
     "timestamp": 1627226744325,
     "user": {
      "displayName": "Spencer Kent",
      "photoUrl": "",
      "userId": "07841346171340846448"
     },
     "user_tz": 420
    },
    "id": "qSqsKMSJQDDN",
    "outputId": "5a684b1b-31d8-4c53-964d-540adbd76bc3"
   },
   "outputs": [
    {
     "data": {
      "text/html": [
       "<div>\n",
       "<style scoped>\n",
       "    .dataframe tbody tr th:only-of-type {\n",
       "        vertical-align: middle;\n",
       "    }\n",
       "\n",
       "    .dataframe tbody tr th {\n",
       "        vertical-align: top;\n",
       "    }\n",
       "\n",
       "    .dataframe thead th {\n",
       "        text-align: right;\n",
       "    }\n",
       "</style>\n",
       "<table border=\"1\" class=\"dataframe\">\n",
       "  <thead>\n",
       "    <tr style=\"text-align: right;\">\n",
       "      <th></th>\n",
       "      <th>Province/State</th>\n",
       "      <th>Country/Region</th>\n",
       "      <th>Lat</th>\n",
       "      <th>Long</th>\n",
       "      <th>1/22/20</th>\n",
       "      <th>1/23/20</th>\n",
       "      <th>1/24/20</th>\n",
       "      <th>1/25/20</th>\n",
       "      <th>1/26/20</th>\n",
       "      <th>1/27/20</th>\n",
       "      <th>...</th>\n",
       "      <th>8/20/20</th>\n",
       "      <th>8/21/20</th>\n",
       "      <th>8/22/20</th>\n",
       "      <th>8/23/20</th>\n",
       "      <th>8/24/20</th>\n",
       "      <th>8/25/20</th>\n",
       "      <th>8/26/20</th>\n",
       "      <th>8/27/20</th>\n",
       "      <th>8/28/20</th>\n",
       "      <th>8/29/20</th>\n",
       "    </tr>\n",
       "  </thead>\n",
       "  <tbody>\n",
       "    <tr>\n",
       "      <th>0</th>\n",
       "      <td>NaN</td>\n",
       "      <td>Afghanistan</td>\n",
       "      <td>33.93911</td>\n",
       "      <td>67.709953</td>\n",
       "      <td>0</td>\n",
       "      <td>0</td>\n",
       "      <td>0</td>\n",
       "      <td>0</td>\n",
       "      <td>0</td>\n",
       "      <td>0</td>\n",
       "      <td>...</td>\n",
       "      <td>37856</td>\n",
       "      <td>37894</td>\n",
       "      <td>37953</td>\n",
       "      <td>37999</td>\n",
       "      <td>38054</td>\n",
       "      <td>38070</td>\n",
       "      <td>38113</td>\n",
       "      <td>38129</td>\n",
       "      <td>38140</td>\n",
       "      <td>38143</td>\n",
       "    </tr>\n",
       "    <tr>\n",
       "      <th>1</th>\n",
       "      <td>NaN</td>\n",
       "      <td>Albania</td>\n",
       "      <td>41.15330</td>\n",
       "      <td>20.168300</td>\n",
       "      <td>0</td>\n",
       "      <td>0</td>\n",
       "      <td>0</td>\n",
       "      <td>0</td>\n",
       "      <td>0</td>\n",
       "      <td>0</td>\n",
       "      <td>...</td>\n",
       "      <td>7967</td>\n",
       "      <td>8119</td>\n",
       "      <td>8275</td>\n",
       "      <td>8427</td>\n",
       "      <td>8605</td>\n",
       "      <td>8759</td>\n",
       "      <td>8927</td>\n",
       "      <td>9083</td>\n",
       "      <td>9195</td>\n",
       "      <td>9279</td>\n",
       "    </tr>\n",
       "    <tr>\n",
       "      <th>2</th>\n",
       "      <td>NaN</td>\n",
       "      <td>Algeria</td>\n",
       "      <td>28.03390</td>\n",
       "      <td>1.659600</td>\n",
       "      <td>0</td>\n",
       "      <td>0</td>\n",
       "      <td>0</td>\n",
       "      <td>0</td>\n",
       "      <td>0</td>\n",
       "      <td>0</td>\n",
       "      <td>...</td>\n",
       "      <td>40258</td>\n",
       "      <td>40667</td>\n",
       "      <td>41068</td>\n",
       "      <td>41460</td>\n",
       "      <td>41858</td>\n",
       "      <td>42228</td>\n",
       "      <td>42619</td>\n",
       "      <td>43016</td>\n",
       "      <td>43403</td>\n",
       "      <td>43781</td>\n",
       "    </tr>\n",
       "    <tr>\n",
       "      <th>3</th>\n",
       "      <td>NaN</td>\n",
       "      <td>Andorra</td>\n",
       "      <td>42.50630</td>\n",
       "      <td>1.521800</td>\n",
       "      <td>0</td>\n",
       "      <td>0</td>\n",
       "      <td>0</td>\n",
       "      <td>0</td>\n",
       "      <td>0</td>\n",
       "      <td>0</td>\n",
       "      <td>...</td>\n",
       "      <td>1024</td>\n",
       "      <td>1045</td>\n",
       "      <td>1045</td>\n",
       "      <td>1045</td>\n",
       "      <td>1060</td>\n",
       "      <td>1060</td>\n",
       "      <td>1098</td>\n",
       "      <td>1098</td>\n",
       "      <td>1124</td>\n",
       "      <td>1124</td>\n",
       "    </tr>\n",
       "    <tr>\n",
       "      <th>4</th>\n",
       "      <td>NaN</td>\n",
       "      <td>Angola</td>\n",
       "      <td>-11.20270</td>\n",
       "      <td>17.873900</td>\n",
       "      <td>0</td>\n",
       "      <td>0</td>\n",
       "      <td>0</td>\n",
       "      <td>0</td>\n",
       "      <td>0</td>\n",
       "      <td>0</td>\n",
       "      <td>...</td>\n",
       "      <td>2044</td>\n",
       "      <td>2068</td>\n",
       "      <td>2134</td>\n",
       "      <td>2171</td>\n",
       "      <td>2222</td>\n",
       "      <td>2283</td>\n",
       "      <td>2332</td>\n",
       "      <td>2415</td>\n",
       "      <td>2471</td>\n",
       "      <td>2551</td>\n",
       "    </tr>\n",
       "  </tbody>\n",
       "</table>\n",
       "<p>5 rows × 225 columns</p>\n",
       "</div>"
      ],
      "text/plain": [
       "  Province/State Country/Region       Lat       Long  1/22/20  1/23/20  \\\n",
       "0            NaN    Afghanistan  33.93911  67.709953        0        0   \n",
       "1            NaN        Albania  41.15330  20.168300        0        0   \n",
       "2            NaN        Algeria  28.03390   1.659600        0        0   \n",
       "3            NaN        Andorra  42.50630   1.521800        0        0   \n",
       "4            NaN         Angola -11.20270  17.873900        0        0   \n",
       "\n",
       "   1/24/20  1/25/20  1/26/20  1/27/20  ...  8/20/20  8/21/20  8/22/20  \\\n",
       "0        0        0        0        0  ...    37856    37894    37953   \n",
       "1        0        0        0        0  ...     7967     8119     8275   \n",
       "2        0        0        0        0  ...    40258    40667    41068   \n",
       "3        0        0        0        0  ...     1024     1045     1045   \n",
       "4        0        0        0        0  ...     2044     2068     2134   \n",
       "\n",
       "   8/23/20  8/24/20  8/25/20  8/26/20  8/27/20  8/28/20  8/29/20  \n",
       "0    37999    38054    38070    38113    38129    38140    38143  \n",
       "1     8427     8605     8759     8927     9083     9195     9279  \n",
       "2    41460    41858    42228    42619    43016    43403    43781  \n",
       "3     1045     1060     1060     1098     1098     1124     1124  \n",
       "4     2171     2222     2283     2332     2415     2471     2551  \n",
       "\n",
       "[5 rows x 225 columns]"
      ]
     },
     "execution_count": 4,
     "metadata": {},
     "output_type": "execute_result"
    }
   ],
   "source": [
    "data.head()"
   ]
  },
  {
   "cell_type": "code",
   "execution_count": 5,
   "metadata": {},
   "outputs": [
    {
     "data": {
      "text/html": [
       "<div>\n",
       "<style scoped>\n",
       "    .dataframe tbody tr th:only-of-type {\n",
       "        vertical-align: middle;\n",
       "    }\n",
       "\n",
       "    .dataframe tbody tr th {\n",
       "        vertical-align: top;\n",
       "    }\n",
       "\n",
       "    .dataframe thead th {\n",
       "        text-align: right;\n",
       "    }\n",
       "</style>\n",
       "<table border=\"1\" class=\"dataframe\">\n",
       "  <thead>\n",
       "    <tr style=\"text-align: right;\">\n",
       "      <th></th>\n",
       "      <th>Province/State</th>\n",
       "      <th>Country/Region</th>\n",
       "      <th>Lat</th>\n",
       "      <th>Long</th>\n",
       "      <th>1/22/20</th>\n",
       "      <th>1/23/20</th>\n",
       "      <th>1/24/20</th>\n",
       "      <th>1/25/20</th>\n",
       "      <th>1/26/20</th>\n",
       "      <th>1/27/20</th>\n",
       "      <th>...</th>\n",
       "      <th>8/20/20</th>\n",
       "      <th>8/21/20</th>\n",
       "      <th>8/22/20</th>\n",
       "      <th>8/23/20</th>\n",
       "      <th>8/24/20</th>\n",
       "      <th>8/25/20</th>\n",
       "      <th>8/26/20</th>\n",
       "      <th>8/27/20</th>\n",
       "      <th>8/28/20</th>\n",
       "      <th>8/29/20</th>\n",
       "    </tr>\n",
       "  </thead>\n",
       "  <tbody>\n",
       "    <tr>\n",
       "      <th>261</th>\n",
       "      <td>NaN</td>\n",
       "      <td>West Bank and Gaza</td>\n",
       "      <td>31.952200</td>\n",
       "      <td>35.233200</td>\n",
       "      <td>0</td>\n",
       "      <td>0</td>\n",
       "      <td>0</td>\n",
       "      <td>0</td>\n",
       "      <td>0</td>\n",
       "      <td>0</td>\n",
       "      <td>...</td>\n",
       "      <td>17989</td>\n",
       "      <td>18313</td>\n",
       "      <td>18476</td>\n",
       "      <td>18802</td>\n",
       "      <td>19213</td>\n",
       "      <td>19678</td>\n",
       "      <td>20155</td>\n",
       "      <td>20677</td>\n",
       "      <td>21251</td>\n",
       "      <td>21668</td>\n",
       "    </tr>\n",
       "    <tr>\n",
       "      <th>262</th>\n",
       "      <td>NaN</td>\n",
       "      <td>Western Sahara</td>\n",
       "      <td>24.215500</td>\n",
       "      <td>-12.885800</td>\n",
       "      <td>0</td>\n",
       "      <td>0</td>\n",
       "      <td>0</td>\n",
       "      <td>0</td>\n",
       "      <td>0</td>\n",
       "      <td>0</td>\n",
       "      <td>...</td>\n",
       "      <td>10</td>\n",
       "      <td>10</td>\n",
       "      <td>10</td>\n",
       "      <td>10</td>\n",
       "      <td>10</td>\n",
       "      <td>10</td>\n",
       "      <td>10</td>\n",
       "      <td>10</td>\n",
       "      <td>10</td>\n",
       "      <td>10</td>\n",
       "    </tr>\n",
       "    <tr>\n",
       "      <th>263</th>\n",
       "      <td>NaN</td>\n",
       "      <td>Yemen</td>\n",
       "      <td>15.552727</td>\n",
       "      <td>48.516388</td>\n",
       "      <td>0</td>\n",
       "      <td>0</td>\n",
       "      <td>0</td>\n",
       "      <td>0</td>\n",
       "      <td>0</td>\n",
       "      <td>0</td>\n",
       "      <td>...</td>\n",
       "      <td>1899</td>\n",
       "      <td>1906</td>\n",
       "      <td>1907</td>\n",
       "      <td>1911</td>\n",
       "      <td>1916</td>\n",
       "      <td>1924</td>\n",
       "      <td>1930</td>\n",
       "      <td>1933</td>\n",
       "      <td>1943</td>\n",
       "      <td>1946</td>\n",
       "    </tr>\n",
       "    <tr>\n",
       "      <th>264</th>\n",
       "      <td>NaN</td>\n",
       "      <td>Zambia</td>\n",
       "      <td>-13.133897</td>\n",
       "      <td>27.849332</td>\n",
       "      <td>0</td>\n",
       "      <td>0</td>\n",
       "      <td>0</td>\n",
       "      <td>0</td>\n",
       "      <td>0</td>\n",
       "      <td>0</td>\n",
       "      <td>...</td>\n",
       "      <td>10372</td>\n",
       "      <td>10627</td>\n",
       "      <td>10831</td>\n",
       "      <td>11082</td>\n",
       "      <td>11148</td>\n",
       "      <td>11285</td>\n",
       "      <td>11376</td>\n",
       "      <td>11601</td>\n",
       "      <td>11779</td>\n",
       "      <td>11902</td>\n",
       "    </tr>\n",
       "    <tr>\n",
       "      <th>265</th>\n",
       "      <td>NaN</td>\n",
       "      <td>Zimbabwe</td>\n",
       "      <td>-19.015438</td>\n",
       "      <td>29.154857</td>\n",
       "      <td>0</td>\n",
       "      <td>0</td>\n",
       "      <td>0</td>\n",
       "      <td>0</td>\n",
       "      <td>0</td>\n",
       "      <td>0</td>\n",
       "      <td>...</td>\n",
       "      <td>5745</td>\n",
       "      <td>5815</td>\n",
       "      <td>5893</td>\n",
       "      <td>5930</td>\n",
       "      <td>6070</td>\n",
       "      <td>6196</td>\n",
       "      <td>6251</td>\n",
       "      <td>6292</td>\n",
       "      <td>6388</td>\n",
       "      <td>6406</td>\n",
       "    </tr>\n",
       "  </tbody>\n",
       "</table>\n",
       "<p>5 rows × 225 columns</p>\n",
       "</div>"
      ],
      "text/plain": [
       "    Province/State      Country/Region        Lat       Long  1/22/20  \\\n",
       "261            NaN  West Bank and Gaza  31.952200  35.233200        0   \n",
       "262            NaN      Western Sahara  24.215500 -12.885800        0   \n",
       "263            NaN               Yemen  15.552727  48.516388        0   \n",
       "264            NaN              Zambia -13.133897  27.849332        0   \n",
       "265            NaN            Zimbabwe -19.015438  29.154857        0   \n",
       "\n",
       "     1/23/20  1/24/20  1/25/20  1/26/20  1/27/20  ...  8/20/20  8/21/20  \\\n",
       "261        0        0        0        0        0  ...    17989    18313   \n",
       "262        0        0        0        0        0  ...       10       10   \n",
       "263        0        0        0        0        0  ...     1899     1906   \n",
       "264        0        0        0        0        0  ...    10372    10627   \n",
       "265        0        0        0        0        0  ...     5745     5815   \n",
       "\n",
       "     8/22/20  8/23/20  8/24/20  8/25/20  8/26/20  8/27/20  8/28/20  8/29/20  \n",
       "261    18476    18802    19213    19678    20155    20677    21251    21668  \n",
       "262       10       10       10       10       10       10       10       10  \n",
       "263     1907     1911     1916     1924     1930     1933     1943     1946  \n",
       "264    10831    11082    11148    11285    11376    11601    11779    11902  \n",
       "265     5893     5930     6070     6196     6251     6292     6388     6406  \n",
       "\n",
       "[5 rows x 225 columns]"
      ]
     },
     "execution_count": 5,
     "metadata": {},
     "output_type": "execute_result"
    }
   ],
   "source": [
    "data.tail()"
   ]
  },
  {
   "cell_type": "code",
   "execution_count": 6,
   "metadata": {},
   "outputs": [
    {
     "data": {
      "text/plain": [
       "(266, 225)"
      ]
     },
     "execution_count": 6,
     "metadata": {},
     "output_type": "execute_result"
    }
   ],
   "source": [
    "data.shape"
   ]
  },
  {
   "cell_type": "code",
   "execution_count": 7,
   "metadata": {},
   "outputs": [
    {
     "data": {
      "text/html": [
       "<div>\n",
       "<style scoped>\n",
       "    .dataframe tbody tr th:only-of-type {\n",
       "        vertical-align: middle;\n",
       "    }\n",
       "\n",
       "    .dataframe tbody tr th {\n",
       "        vertical-align: top;\n",
       "    }\n",
       "\n",
       "    .dataframe thead th {\n",
       "        text-align: right;\n",
       "    }\n",
       "</style>\n",
       "<table border=\"1\" class=\"dataframe\">\n",
       "  <thead>\n",
       "    <tr style=\"text-align: right;\">\n",
       "      <th></th>\n",
       "      <th>Lat</th>\n",
       "      <th>Long</th>\n",
       "      <th>1/22/20</th>\n",
       "      <th>1/23/20</th>\n",
       "      <th>1/24/20</th>\n",
       "      <th>1/25/20</th>\n",
       "      <th>1/26/20</th>\n",
       "      <th>1/27/20</th>\n",
       "      <th>1/28/20</th>\n",
       "      <th>1/29/20</th>\n",
       "      <th>...</th>\n",
       "      <th>8/20/20</th>\n",
       "      <th>8/21/20</th>\n",
       "      <th>8/22/20</th>\n",
       "      <th>8/23/20</th>\n",
       "      <th>8/24/20</th>\n",
       "      <th>8/25/20</th>\n",
       "      <th>8/26/20</th>\n",
       "      <th>8/27/20</th>\n",
       "      <th>8/28/20</th>\n",
       "      <th>8/29/20</th>\n",
       "    </tr>\n",
       "  </thead>\n",
       "  <tbody>\n",
       "    <tr>\n",
       "      <th>count</th>\n",
       "      <td>266.000000</td>\n",
       "      <td>266.000000</td>\n",
       "      <td>266.000000</td>\n",
       "      <td>266.000000</td>\n",
       "      <td>266.000000</td>\n",
       "      <td>266.000000</td>\n",
       "      <td>266.000000</td>\n",
       "      <td>266.000000</td>\n",
       "      <td>266.000000</td>\n",
       "      <td>266.000000</td>\n",
       "      <td>...</td>\n",
       "      <td>2.660000e+02</td>\n",
       "      <td>2.660000e+02</td>\n",
       "      <td>2.660000e+02</td>\n",
       "      <td>2.660000e+02</td>\n",
       "      <td>2.660000e+02</td>\n",
       "      <td>2.660000e+02</td>\n",
       "      <td>2.660000e+02</td>\n",
       "      <td>2.660000e+02</td>\n",
       "      <td>2.660000e+02</td>\n",
       "      <td>2.660000e+02</td>\n",
       "    </tr>\n",
       "    <tr>\n",
       "      <th>mean</th>\n",
       "      <td>21.076624</td>\n",
       "      <td>22.829441</td>\n",
       "      <td>2.086466</td>\n",
       "      <td>2.458647</td>\n",
       "      <td>3.537594</td>\n",
       "      <td>5.390977</td>\n",
       "      <td>7.962406</td>\n",
       "      <td>11.003759</td>\n",
       "      <td>20.969925</td>\n",
       "      <td>23.180451</td>\n",
       "      <td>...</td>\n",
       "      <td>8.524560e+04</td>\n",
       "      <td>8.626335e+04</td>\n",
       "      <td>8.722006e+04</td>\n",
       "      <td>8.803567e+04</td>\n",
       "      <td>8.888655e+04</td>\n",
       "      <td>8.979638e+04</td>\n",
       "      <td>9.087815e+04</td>\n",
       "      <td>9.192740e+04</td>\n",
       "      <td>9.298665e+04</td>\n",
       "      <td>9.397164e+04</td>\n",
       "    </tr>\n",
       "    <tr>\n",
       "      <th>std</th>\n",
       "      <td>24.904600</td>\n",
       "      <td>70.191330</td>\n",
       "      <td>27.279200</td>\n",
       "      <td>27.377862</td>\n",
       "      <td>34.083035</td>\n",
       "      <td>47.434934</td>\n",
       "      <td>66.289178</td>\n",
       "      <td>89.313757</td>\n",
       "      <td>219.187744</td>\n",
       "      <td>220.524977</td>\n",
       "      <td>...</td>\n",
       "      <td>4.488150e+05</td>\n",
       "      <td>4.538117e+05</td>\n",
       "      <td>4.591257e+05</td>\n",
       "      <td>4.630888e+05</td>\n",
       "      <td>4.670401e+05</td>\n",
       "      <td>4.717422e+05</td>\n",
       "      <td>4.774629e+05</td>\n",
       "      <td>4.829942e+05</td>\n",
       "      <td>4.885157e+05</td>\n",
       "      <td>4.940581e+05</td>\n",
       "    </tr>\n",
       "    <tr>\n",
       "      <th>min</th>\n",
       "      <td>-51.796300</td>\n",
       "      <td>-135.000000</td>\n",
       "      <td>0.000000</td>\n",
       "      <td>0.000000</td>\n",
       "      <td>0.000000</td>\n",
       "      <td>0.000000</td>\n",
       "      <td>0.000000</td>\n",
       "      <td>0.000000</td>\n",
       "      <td>0.000000</td>\n",
       "      <td>0.000000</td>\n",
       "      <td>...</td>\n",
       "      <td>0.000000e+00</td>\n",
       "      <td>0.000000e+00</td>\n",
       "      <td>0.000000e+00</td>\n",
       "      <td>0.000000e+00</td>\n",
       "      <td>0.000000e+00</td>\n",
       "      <td>0.000000e+00</td>\n",
       "      <td>0.000000e+00</td>\n",
       "      <td>0.000000e+00</td>\n",
       "      <td>0.000000e+00</td>\n",
       "      <td>0.000000e+00</td>\n",
       "    </tr>\n",
       "    <tr>\n",
       "      <th>25%</th>\n",
       "      <td>6.677575</td>\n",
       "      <td>-15.277675</td>\n",
       "      <td>0.000000</td>\n",
       "      <td>0.000000</td>\n",
       "      <td>0.000000</td>\n",
       "      <td>0.000000</td>\n",
       "      <td>0.000000</td>\n",
       "      <td>0.000000</td>\n",
       "      <td>0.000000</td>\n",
       "      <td>0.000000</td>\n",
       "      <td>...</td>\n",
       "      <td>3.587500e+02</td>\n",
       "      <td>3.602500e+02</td>\n",
       "      <td>3.690000e+02</td>\n",
       "      <td>3.870000e+02</td>\n",
       "      <td>4.027500e+02</td>\n",
       "      <td>4.087500e+02</td>\n",
       "      <td>4.175000e+02</td>\n",
       "      <td>4.225000e+02</td>\n",
       "      <td>4.357500e+02</td>\n",
       "      <td>4.442500e+02</td>\n",
       "    </tr>\n",
       "    <tr>\n",
       "      <th>50%</th>\n",
       "      <td>22.820850</td>\n",
       "      <td>20.921188</td>\n",
       "      <td>0.000000</td>\n",
       "      <td>0.000000</td>\n",
       "      <td>0.000000</td>\n",
       "      <td>0.000000</td>\n",
       "      <td>0.000000</td>\n",
       "      <td>0.000000</td>\n",
       "      <td>0.000000</td>\n",
       "      <td>0.000000</td>\n",
       "      <td>...</td>\n",
       "      <td>2.447500e+03</td>\n",
       "      <td>2.467000e+03</td>\n",
       "      <td>2.467000e+03</td>\n",
       "      <td>2.567000e+03</td>\n",
       "      <td>2.544500e+03</td>\n",
       "      <td>2.596500e+03</td>\n",
       "      <td>2.616000e+03</td>\n",
       "      <td>2.704500e+03</td>\n",
       "      <td>2.746000e+03</td>\n",
       "      <td>2.795500e+03</td>\n",
       "    </tr>\n",
       "    <tr>\n",
       "      <th>75%</th>\n",
       "      <td>41.143200</td>\n",
       "      <td>77.913685</td>\n",
       "      <td>0.000000</td>\n",
       "      <td>0.000000</td>\n",
       "      <td>0.000000</td>\n",
       "      <td>0.000000</td>\n",
       "      <td>0.000000</td>\n",
       "      <td>0.000000</td>\n",
       "      <td>0.000000</td>\n",
       "      <td>0.000000</td>\n",
       "      <td>...</td>\n",
       "      <td>2.915275e+04</td>\n",
       "      <td>2.972225e+04</td>\n",
       "      <td>2.988800e+04</td>\n",
       "      <td>2.998500e+04</td>\n",
       "      <td>3.006450e+04</td>\n",
       "      <td>3.016525e+04</td>\n",
       "      <td>3.032125e+04</td>\n",
       "      <td>3.043750e+04</td>\n",
       "      <td>3.054975e+04</td>\n",
       "      <td>3.064150e+04</td>\n",
       "    </tr>\n",
       "    <tr>\n",
       "      <th>max</th>\n",
       "      <td>71.706900</td>\n",
       "      <td>178.065000</td>\n",
       "      <td>444.000000</td>\n",
       "      <td>444.000000</td>\n",
       "      <td>549.000000</td>\n",
       "      <td>761.000000</td>\n",
       "      <td>1058.000000</td>\n",
       "      <td>1423.000000</td>\n",
       "      <td>3554.000000</td>\n",
       "      <td>3554.000000</td>\n",
       "      <td>...</td>\n",
       "      <td>5.573847e+06</td>\n",
       "      <td>5.622470e+06</td>\n",
       "      <td>5.667070e+06</td>\n",
       "      <td>5.701645e+06</td>\n",
       "      <td>5.739536e+06</td>\n",
       "      <td>5.777710e+06</td>\n",
       "      <td>5.821819e+06</td>\n",
       "      <td>5.867785e+06</td>\n",
       "      <td>5.913941e+06</td>\n",
       "      <td>5.961094e+06</td>\n",
       "    </tr>\n",
       "  </tbody>\n",
       "</table>\n",
       "<p>8 rows × 223 columns</p>\n",
       "</div>"
      ],
      "text/plain": [
       "              Lat        Long     1/22/20     1/23/20     1/24/20     1/25/20  \\\n",
       "count  266.000000  266.000000  266.000000  266.000000  266.000000  266.000000   \n",
       "mean    21.076624   22.829441    2.086466    2.458647    3.537594    5.390977   \n",
       "std     24.904600   70.191330   27.279200   27.377862   34.083035   47.434934   \n",
       "min    -51.796300 -135.000000    0.000000    0.000000    0.000000    0.000000   \n",
       "25%      6.677575  -15.277675    0.000000    0.000000    0.000000    0.000000   \n",
       "50%     22.820850   20.921188    0.000000    0.000000    0.000000    0.000000   \n",
       "75%     41.143200   77.913685    0.000000    0.000000    0.000000    0.000000   \n",
       "max     71.706900  178.065000  444.000000  444.000000  549.000000  761.000000   \n",
       "\n",
       "           1/26/20      1/27/20      1/28/20      1/29/20  ...       8/20/20  \\\n",
       "count   266.000000   266.000000   266.000000   266.000000  ...  2.660000e+02   \n",
       "mean      7.962406    11.003759    20.969925    23.180451  ...  8.524560e+04   \n",
       "std      66.289178    89.313757   219.187744   220.524977  ...  4.488150e+05   \n",
       "min       0.000000     0.000000     0.000000     0.000000  ...  0.000000e+00   \n",
       "25%       0.000000     0.000000     0.000000     0.000000  ...  3.587500e+02   \n",
       "50%       0.000000     0.000000     0.000000     0.000000  ...  2.447500e+03   \n",
       "75%       0.000000     0.000000     0.000000     0.000000  ...  2.915275e+04   \n",
       "max    1058.000000  1423.000000  3554.000000  3554.000000  ...  5.573847e+06   \n",
       "\n",
       "            8/21/20       8/22/20       8/23/20       8/24/20       8/25/20  \\\n",
       "count  2.660000e+02  2.660000e+02  2.660000e+02  2.660000e+02  2.660000e+02   \n",
       "mean   8.626335e+04  8.722006e+04  8.803567e+04  8.888655e+04  8.979638e+04   \n",
       "std    4.538117e+05  4.591257e+05  4.630888e+05  4.670401e+05  4.717422e+05   \n",
       "min    0.000000e+00  0.000000e+00  0.000000e+00  0.000000e+00  0.000000e+00   \n",
       "25%    3.602500e+02  3.690000e+02  3.870000e+02  4.027500e+02  4.087500e+02   \n",
       "50%    2.467000e+03  2.467000e+03  2.567000e+03  2.544500e+03  2.596500e+03   \n",
       "75%    2.972225e+04  2.988800e+04  2.998500e+04  3.006450e+04  3.016525e+04   \n",
       "max    5.622470e+06  5.667070e+06  5.701645e+06  5.739536e+06  5.777710e+06   \n",
       "\n",
       "            8/26/20       8/27/20       8/28/20       8/29/20  \n",
       "count  2.660000e+02  2.660000e+02  2.660000e+02  2.660000e+02  \n",
       "mean   9.087815e+04  9.192740e+04  9.298665e+04  9.397164e+04  \n",
       "std    4.774629e+05  4.829942e+05  4.885157e+05  4.940581e+05  \n",
       "min    0.000000e+00  0.000000e+00  0.000000e+00  0.000000e+00  \n",
       "25%    4.175000e+02  4.225000e+02  4.357500e+02  4.442500e+02  \n",
       "50%    2.616000e+03  2.704500e+03  2.746000e+03  2.795500e+03  \n",
       "75%    3.032125e+04  3.043750e+04  3.054975e+04  3.064150e+04  \n",
       "max    5.821819e+06  5.867785e+06  5.913941e+06  5.961094e+06  \n",
       "\n",
       "[8 rows x 223 columns]"
      ]
     },
     "execution_count": 7,
     "metadata": {},
     "output_type": "execute_result"
    }
   ],
   "source": [
    "data.describe()"
   ]
  },
  {
   "cell_type": "code",
   "execution_count": 8,
   "metadata": {},
   "outputs": [
    {
     "name": "stdout",
     "output_type": "stream",
     "text": [
      "188\n",
      "82\n",
      "262\n",
      "263\n",
      "263\n"
     ]
    }
   ],
   "source": [
    "print(len(data['Country/Region'].unique()))\n",
    "print(len(data['Province/State'].unique()))\n",
    "print(len(data['Lat'].unique()))\n",
    "print(len(data['Long'].unique()))\n",
    "print(len( (data['Lat'].astype(str) + data['Long'].astype(str)).unique() ))"
   ]
  },
  {
   "cell_type": "markdown",
   "metadata": {
    "id": "ou2HjkwBQLrm"
   },
   "source": [
    "Write a few sentences describing what you notice about this data:\n",
    "\n",
    "*The dataframe has 266 rows, but the number of unique \"Country/Region\" is only 188, so there appears to be repetition. Interestingly, neither \"Lat\" and \"Long\" are unique across all samples, and the str concatenation of \"Lat\"\"Long\" is also not unique, suggesting data duplication or repeated entries for some locations. Some samples are missing \"Province/State (NaN). There appears to be 221 days of infection numbers.*\n",
    "\n",
    "\n",
    "\n"
   ]
  },
  {
   "cell_type": "markdown",
   "metadata": {
    "id": "GQ0HMQcHuTLk"
   },
   "source": [
    "Subsample the data so that it only uses 50 countries and the first 100 days"
   ]
  },
  {
   "cell_type": "code",
   "execution_count": 9,
   "metadata": {
    "id": "wIgLJC0eUtyI"
   },
   "outputs": [
    {
     "name": "stdout",
     "output_type": "stream",
     "text": [
      "(50, 104)\n"
     ]
    },
    {
     "data": {
      "text/html": [
       "<div>\n",
       "<style scoped>\n",
       "    .dataframe tbody tr th:only-of-type {\n",
       "        vertical-align: middle;\n",
       "    }\n",
       "\n",
       "    .dataframe tbody tr th {\n",
       "        vertical-align: top;\n",
       "    }\n",
       "\n",
       "    .dataframe thead th {\n",
       "        text-align: right;\n",
       "    }\n",
       "</style>\n",
       "<table border=\"1\" class=\"dataframe\">\n",
       "  <thead>\n",
       "    <tr style=\"text-align: right;\">\n",
       "      <th></th>\n",
       "      <th>Province/State</th>\n",
       "      <th>Country/Region</th>\n",
       "      <th>Lat</th>\n",
       "      <th>Long</th>\n",
       "      <th>1/22/20</th>\n",
       "      <th>1/23/20</th>\n",
       "      <th>1/24/20</th>\n",
       "      <th>1/25/20</th>\n",
       "      <th>1/26/20</th>\n",
       "      <th>1/27/20</th>\n",
       "      <th>...</th>\n",
       "      <th>4/21/20</th>\n",
       "      <th>4/22/20</th>\n",
       "      <th>4/23/20</th>\n",
       "      <th>4/24/20</th>\n",
       "      <th>4/25/20</th>\n",
       "      <th>4/26/20</th>\n",
       "      <th>4/27/20</th>\n",
       "      <th>4/28/20</th>\n",
       "      <th>4/29/20</th>\n",
       "      <th>4/30/20</th>\n",
       "    </tr>\n",
       "    <tr>\n",
       "      <th>Country/Region</th>\n",
       "      <th></th>\n",
       "      <th></th>\n",
       "      <th></th>\n",
       "      <th></th>\n",
       "      <th></th>\n",
       "      <th></th>\n",
       "      <th></th>\n",
       "      <th></th>\n",
       "      <th></th>\n",
       "      <th></th>\n",
       "      <th></th>\n",
       "      <th></th>\n",
       "      <th></th>\n",
       "      <th></th>\n",
       "      <th></th>\n",
       "      <th></th>\n",
       "      <th></th>\n",
       "      <th></th>\n",
       "      <th></th>\n",
       "      <th></th>\n",
       "      <th></th>\n",
       "    </tr>\n",
       "  </thead>\n",
       "  <tbody>\n",
       "    <tr>\n",
       "      <th>Hungary</th>\n",
       "      <td>NaN</td>\n",
       "      <td>Hungary</td>\n",
       "      <td>47.1625</td>\n",
       "      <td>19.5033</td>\n",
       "      <td>0</td>\n",
       "      <td>0</td>\n",
       "      <td>0</td>\n",
       "      <td>0</td>\n",
       "      <td>0</td>\n",
       "      <td>0</td>\n",
       "      <td>...</td>\n",
       "      <td>2098</td>\n",
       "      <td>2168</td>\n",
       "      <td>2284</td>\n",
       "      <td>2443</td>\n",
       "      <td>2443</td>\n",
       "      <td>2500</td>\n",
       "      <td>2583</td>\n",
       "      <td>2649</td>\n",
       "      <td>2727</td>\n",
       "      <td>2775</td>\n",
       "    </tr>\n",
       "    <tr>\n",
       "      <th>China</th>\n",
       "      <td>Tibet</td>\n",
       "      <td>China</td>\n",
       "      <td>31.6927</td>\n",
       "      <td>88.0924</td>\n",
       "      <td>0</td>\n",
       "      <td>0</td>\n",
       "      <td>0</td>\n",
       "      <td>0</td>\n",
       "      <td>0</td>\n",
       "      <td>0</td>\n",
       "      <td>...</td>\n",
       "      <td>1</td>\n",
       "      <td>1</td>\n",
       "      <td>1</td>\n",
       "      <td>1</td>\n",
       "      <td>1</td>\n",
       "      <td>1</td>\n",
       "      <td>1</td>\n",
       "      <td>1</td>\n",
       "      <td>1</td>\n",
       "      <td>1</td>\n",
       "    </tr>\n",
       "    <tr>\n",
       "      <th>France</th>\n",
       "      <td>Reunion</td>\n",
       "      <td>France</td>\n",
       "      <td>-21.1151</td>\n",
       "      <td>55.5364</td>\n",
       "      <td>0</td>\n",
       "      <td>0</td>\n",
       "      <td>0</td>\n",
       "      <td>0</td>\n",
       "      <td>0</td>\n",
       "      <td>0</td>\n",
       "      <td>...</td>\n",
       "      <td>410</td>\n",
       "      <td>410</td>\n",
       "      <td>412</td>\n",
       "      <td>412</td>\n",
       "      <td>417</td>\n",
       "      <td>417</td>\n",
       "      <td>418</td>\n",
       "      <td>418</td>\n",
       "      <td>420</td>\n",
       "      <td>420</td>\n",
       "    </tr>\n",
       "    <tr>\n",
       "      <th>Chad</th>\n",
       "      <td>NaN</td>\n",
       "      <td>Chad</td>\n",
       "      <td>15.4542</td>\n",
       "      <td>18.7322</td>\n",
       "      <td>0</td>\n",
       "      <td>0</td>\n",
       "      <td>0</td>\n",
       "      <td>0</td>\n",
       "      <td>0</td>\n",
       "      <td>0</td>\n",
       "      <td>...</td>\n",
       "      <td>33</td>\n",
       "      <td>33</td>\n",
       "      <td>33</td>\n",
       "      <td>40</td>\n",
       "      <td>46</td>\n",
       "      <td>46</td>\n",
       "      <td>46</td>\n",
       "      <td>52</td>\n",
       "      <td>52</td>\n",
       "      <td>73</td>\n",
       "    </tr>\n",
       "    <tr>\n",
       "      <th>Andorra</th>\n",
       "      <td>NaN</td>\n",
       "      <td>Andorra</td>\n",
       "      <td>42.5063</td>\n",
       "      <td>1.5218</td>\n",
       "      <td>0</td>\n",
       "      <td>0</td>\n",
       "      <td>0</td>\n",
       "      <td>0</td>\n",
       "      <td>0</td>\n",
       "      <td>0</td>\n",
       "      <td>...</td>\n",
       "      <td>717</td>\n",
       "      <td>723</td>\n",
       "      <td>723</td>\n",
       "      <td>731</td>\n",
       "      <td>738</td>\n",
       "      <td>738</td>\n",
       "      <td>743</td>\n",
       "      <td>743</td>\n",
       "      <td>743</td>\n",
       "      <td>745</td>\n",
       "    </tr>\n",
       "  </tbody>\n",
       "</table>\n",
       "<p>5 rows × 104 columns</p>\n",
       "</div>"
      ],
      "text/plain": [
       "               Province/State Country/Region      Lat     Long  1/22/20  \\\n",
       "Country/Region                                                            \n",
       "Hungary                   NaN        Hungary  47.1625  19.5033        0   \n",
       "China                   Tibet          China  31.6927  88.0924        0   \n",
       "France                Reunion         France -21.1151  55.5364        0   \n",
       "Chad                      NaN           Chad  15.4542  18.7322        0   \n",
       "Andorra                   NaN        Andorra  42.5063   1.5218        0   \n",
       "\n",
       "                1/23/20  1/24/20  1/25/20  1/26/20  1/27/20  ...  4/21/20  \\\n",
       "Country/Region                                               ...            \n",
       "Hungary               0        0        0        0        0  ...     2098   \n",
       "China                 0        0        0        0        0  ...        1   \n",
       "France                0        0        0        0        0  ...      410   \n",
       "Chad                  0        0        0        0        0  ...       33   \n",
       "Andorra               0        0        0        0        0  ...      717   \n",
       "\n",
       "                4/22/20  4/23/20  4/24/20  4/25/20  4/26/20  4/27/20  4/28/20  \\\n",
       "Country/Region                                                                  \n",
       "Hungary            2168     2284     2443     2443     2500     2583     2649   \n",
       "China                 1        1        1        1        1        1        1   \n",
       "France              410      412      412      417      417      418      418   \n",
       "Chad                 33       33       40       46       46       46       52   \n",
       "Andorra             723      723      731      738      738      743      743   \n",
       "\n",
       "                4/29/20  4/30/20  \n",
       "Country/Region                    \n",
       "Hungary            2727     2775  \n",
       "China                 1        1  \n",
       "France              420      420  \n",
       "Chad                 52       73  \n",
       "Andorra             743      745  \n",
       "\n",
       "[5 rows x 104 columns]"
      ]
     },
     "execution_count": 9,
     "metadata": {},
     "output_type": "execute_result"
    }
   ],
   "source": [
    "RAND_SEED = 2\n",
    "data_subset = data.sample(50, random_state=RAND_SEED).iloc[:, :4+100]\n",
    "data_subset.index = data_subset['Country/Region']\n",
    "print(data_subset.shape)\n",
    "data_subset.head()"
   ]
  },
  {
   "cell_type": "markdown",
   "metadata": {
    "id": "WF3qSqfazYwj"
   },
   "source": [
    "Take a random subsample of 5 countries and plot infections vs time (you can report time as the number of days after January 22, 2020)"
   ]
  },
  {
   "cell_type": "code",
   "execution_count": 10,
   "metadata": {
    "id": "3PdoAfP7UxiD"
   },
   "outputs": [
    {
     "data": {
      "image/png": "[encoded data removed]",
      "text/plain": [
       "<Figure size 720x576 with 1 Axes>"
      ]
     },
     "metadata": {
      "image/png": {
       "height": 494,
       "width": 618
      },
      "needs_background": "light"
     },
     "output_type": "display_data"
    }
   ],
   "source": [
    "plt.figure(figsize=(10, 8))\n",
    "for i in range(5):  # data_subset is already randomly sampled\n",
    "    plt.scatter(np.arange(100), data_subset.iloc[i].values[4:], label=data_subset.iloc[i].name)\n",
    "plt.title('COVID Infection Rate for 5 Countries')\n",
    "plt.xlabel('Days since 1/22/20')\n",
    "plt.ylabel('Daily New Infections')\n",
    "plt.legend()\n",
    "plt.show()"
   ]
  },
  {
   "cell_type": "markdown",
   "metadata": {
    "id": "Qgfa8HxD3xxw"
   },
   "source": [
    "### Task 3 -- Set up a regression problem based on latitude, longitude, and date\n",
    "Okay, so now we're going to see if the combination of latitude, longitude, and date can be used to accurately predict the number of infections in this dataset.\n",
    "\n",
    "Start by creating two matrices $\\mathbf{X}$ and $\\mathbf{Y}$, where $\\mathbf{X}$ holds the [latitude, longitude, date] data and $\\mathbf{Y}$ holds the infection data. $\\mathbf{X}$ will have shape $k \\times 3$ and $\\mathbf{Y}$ should have shape $k \\times 1$. What is the value $k$, based on the size of the subsample from the full dataset that we've taken?\n"
   ]
  },
  {
   "cell_type": "markdown",
   "metadata": {
    "id": "OxrDIMsfVL2h"
   },
   "source": [
    "k = (50 countries X  100 days) = 5000"
   ]
  },
  {
   "cell_type": "markdown",
   "metadata": {
    "id": "9BY1rMHeVRUd"
   },
   "source": [
    "Create the matrices $\\mathbf{X}$ and $\\mathbf{Y}$ below:"
   ]
  },
  {
   "cell_type": "code",
   "execution_count": 11,
   "metadata": {
    "id": "GRmAGoFsVafv"
   },
   "outputs": [
    {
     "name": "stdout",
     "output_type": "stream",
     "text": [
      "countries=50, days=100\n",
      "(5000, 3) (5000, 1)\n"
     ]
    }
   ],
   "source": [
    "countries = data_subset.shape[0]\n",
    "days = data_subset.shape[1] - 4\n",
    "print(f'{countries=}, {days=}')\n",
    "k = countries * days\n",
    "X = np.zeros((k, 3))\n",
    "Y = np.zeros((k, 1))\n",
    "# iterate through one country at a time\n",
    "for country_idx in range(countries):\n",
    "  X[country_idx * days : (country_idx + 1) * days, 0] = data_subset.iloc[country_idx, 2]  # latitude\n",
    "  X[country_idx * days : (country_idx + 1) * days, 1] = data_subset.iloc[country_idx, 3]  # longitude\n",
    "  X[country_idx * days : (country_idx + 1) * days, 2] = np.arange(days)  # days since 1/22/2020\n",
    "  Y[country_idx * days : (country_idx + 1) * days, 0] = data_subset.iloc[country_idx, 4:]\n",
    "print(X.shape, Y.shape)"
   ]
  },
  {
   "cell_type": "markdown",
   "metadata": {
    "id": "qVL18ajK9iZd"
   },
   "source": [
    "Make a plot with 3 subplots, one for each of the independent variables (latitude, longitude, and date). Plot the data, displaying the independent variable on the x axis and the dependent variable (infections) on the y axis"
   ]
  },
  {
   "cell_type": "code",
   "execution_count": 12,
   "metadata": {
    "id": "e_eW0gHA-NEN"
   },
   "outputs": [
    {
     "data": {
      "image/png": "[encoded data removed]",
      "text/plain": [
       "<Figure size 936x360 with 3 Axes>"
      ]
     },
     "metadata": {
      "image/png": {
       "height": 351,
       "width": 928
      },
      "needs_background": "light"
     },
     "output_type": "display_data"
    }
   ],
   "source": [
    "plt.figure(figsize=(13, 5))\n",
    "for sp_idx, v_name in enumerate(['Lat', 'Long', 'Days since 1/22/20']):\n",
    "  ax = plt.subplot(1, 3, sp_idx + 1)\n",
    "  ax.scatter(X[:, sp_idx], np.squeeze(Y), s=10)\n",
    "  ax.set_xlabel(v_name)\n",
    "  ax.set_ylabel('Daily New Infections')\n",
    "plt.tight_layout(w_pad=3)"
   ]
  },
  {
   "cell_type": "markdown",
   "metadata": {
    "id": "A7ffGAgn__nd"
   },
   "source": [
    "Discuss with your classmates in your breakout room what you notice about this data. Are there other ways you might try to visualize it to uncover some structure? Does this data look like a good candidate for fitting a linear model?\n",
    "\n",
    "*The distribution of Lat and Long in the data subset is not uniform. The range of daily new infections across the time interval varies greatly by country. Within each country, the infection rate seems to be growing (i.e. the dots lower down are more closely-packed that the dots further up). The growth of infection rate varies, some look exponential, some look linear, others look to be asymptotic. They also start their ramp up at different times.*\n",
    "\n"
   ]
  },
  {
   "cell_type": "markdown",
   "metadata": {
    "id": "0HQMSndiBCQA"
   },
   "source": [
    "Now split the data randomly into training and test sets. Make the training set 70% of the data and the test set the remaining 30%. You could do this manually, but we'll use the `train_test_split` function from the machine learning library [scikit-learn](https://scikit-learn.org/stable/)."
   ]
  },
  {
   "cell_type": "code",
   "execution_count": 13,
   "metadata": {
    "id": "1d9l2gD4Bwlp"
   },
   "outputs": [
    {
     "name": "stdout",
     "output_type": "stream",
     "text": [
      "(3500, 3) (1500, 3)\n",
      "(3500, 1) (1500, 1)\n"
     ]
    }
   ],
   "source": [
    "from sklearn.model_selection import train_test_split\n",
    "X_train, X_test, Y_train, Y_test = train_test_split(X, Y, test_size=0.3, random_state=RAND_SEED)\n",
    "print(X_train.shape, X_test.shape)\n",
    "print(Y_train.shape, Y_test.shape)"
   ]
  },
  {
   "cell_type": "markdown",
   "metadata": {
    "id": "v0mGj3pFCVsw"
   },
   "source": [
    "^^ What is the `random_state` parameter doing? Read the [documentation](https://scikit-learn.org/stable/modules/generated/sklearn.model_selection.train_test_split.html) on `train_test_split` to find out.\n",
    "\n",
    "*random_state is use to initialize the random number generator used for shuffling/allocating the data into the test/train sets -- to facilitate model reproducibility*\n",
    "\n",
    "Note: This week is a good time to get very familiar with scikit-learn, if you haven't already. We will be using it a fair amount in this course and it's a great resource for applying machine learning models."
   ]
  },
  {
   "cell_type": "markdown",
   "metadata": {
    "id": "qH5SZjxBDnR-"
   },
   "source": [
    "### Task 4 -- Apply a polynomial regression of degree 3 to this data"
   ]
  },
  {
   "cell_type": "markdown",
   "metadata": {
    "id": "1tZq9YwSEKY2"
   },
   "source": [
    "You could do this manually using concepts we will cover next week, but for now let's use scikit-learn's `PolynomialFeatures` and `LinearRegression` modules."
   ]
  },
  {
   "cell_type": "code",
   "execution_count": 14,
   "metadata": {
    "id": "C2OvjhEsEGzT"
   },
   "outputs": [
    {
     "name": "stdout",
     "output_type": "stream",
     "text": [
      "New shape of test data= (1500, 20)\n",
      "The regression coefficients are:  [[ 0.00000000e+00 -2.18720890e+01 -2.86446374e+01 -5.94825619e+01\n",
      "   2.73594198e+00  2.72497508e+00 -5.00849853e+00  3.52591933e-01\n",
      "   1.03543239e+00 -7.95294491e-01 -5.15552628e-02 -6.65070659e-02\n",
      "   1.17536897e-01 -6.08463709e-03 -9.92328103e-03  4.83902324e-02\n",
      "   1.08314322e-03 -3.90178128e-03 -1.69963604e-02  1.99804303e-02]]\n",
      "The intercept is [367.50491514]\n"
     ]
    }
   ],
   "source": [
    "from sklearn.preprocessing import PolynomialFeatures\n",
    "from sklearn.linear_model import LinearRegression\n",
    "\n",
    "poly_features = PolynomialFeatures(degree=3)\n",
    "X_train_poly = poly_features.fit_transform(X_train)\n",
    "X_test_poly = poly_features.fit_transform(X_test)\n",
    "print(\"New shape of test data=\", np.shape(X_test_poly))\n",
    "\n",
    "lin_regression = LinearRegression()\n",
    "# Fit the model on train data only\n",
    "lin_regression.fit(X_train_poly, Y_train)\n",
    "print(\"The regression coefficients are: \", lin_regression.coef_)\n",
    "print(\"The intercept is\", lin_regression.intercept_)"
   ]
  },
  {
   "cell_type": "markdown",
   "metadata": {
    "id": "PupQGZGGGLfs"
   },
   "source": [
    "Now use the `.predict()` method of the `lin_regression` object above to generate predictions on the test data. Compare the predictions to `Y_test` using a plot."
   ]
  },
  {
   "cell_type": "code",
   "execution_count": 15,
   "metadata": {
    "id": "U1IEL9X1Fd26"
   },
   "outputs": [
    {
     "data": {
      "image/png": "[encoded data removed]",
      "text/plain": [
       "<Figure size 936x360 with 3 Axes>"
      ]
     },
     "metadata": {
      "image/png": {
       "height": 351,
       "width": 928
      },
      "needs_background": "light"
     },
     "output_type": "display_data"
    }
   ],
   "source": [
    "# Predict regression outcome on test data\n",
    "Y_pred = lin_regression.predict(X_test_poly)\n",
    "\n",
    "# we'll break this out into subplots for each dependent variable again\n",
    "plt.figure(figsize=(13, 5))\n",
    "for sp_idx, v_name in enumerate(['Lat', 'Long', 'Days since 1/22/20']):\n",
    "  ax = plt.subplot(1, 3, sp_idx + 1)\n",
    "  ax.scatter(X_test[:, sp_idx], np.squeeze(Y_test), s=10, color='black', label='Ground Truth')\n",
    "  ax.scatter(X_test[:, sp_idx], np.squeeze(Y_pred), s=10, color='red', label='Predicted')\n",
    "  ax.set_xlabel(v_name)\n",
    "  ax.set_ylabel('Daily New Infections')\n",
    "  plt.legend()\n",
    "plt.tight_layout(w_pad=3)"
   ]
  },
  {
   "cell_type": "code",
   "execution_count": 16,
   "metadata": {},
   "outputs": [
    {
     "data": {
      "text/plain": [
       "163340890.96819893"
      ]
     },
     "execution_count": 16,
     "metadata": {},
     "output_type": "execute_result"
    }
   ],
   "source": [
    "from sklearn.metrics import mean_squared_error\n",
    "mean_squared_error(Y_test, Y_pred)"
   ]
  },
  {
   "cell_type": "markdown",
   "metadata": {
    "id": "JsjaPc60IfKN"
   },
   "source": [
    "Report the mean squared error of your predictions.\n",
    "\n",
    "The mean squared error is = 163e6"
   ]
  },
  {
   "cell_type": "markdown",
   "metadata": {
    "id": "bsXZU4MbJGWe"
   },
   "source": [
    "### Task 5 -- Run an experiment identifying the degree of the best-fitting polynomial regression\n",
    "\n",
    "Your job is now to repeat the fitting and prediction steps above, but for polyomials of all orders from 1 to 20. For each fit, compute and save the mean squared error of the predictions.\n",
    "\n"
   ]
  },
  {
   "cell_type": "code",
   "execution_count": 17,
   "metadata": {
    "id": "SivORAMXKM40"
   },
   "outputs": [],
   "source": [
    "def fit_eval(order):\n",
    "    poly_features = PolynomialFeatures(degree=order)\n",
    "    X_train_poly = poly_features.fit_transform(X_train)\n",
    "    X_test_poly = poly_features.fit_transform(X_test)\n",
    "\n",
    "    lin_regression = LinearRegression()\n",
    "    lin_regression.fit(X_train_poly, Y_train)\n",
    "    \n",
    "    Y_pred = lin_regression.predict(X_test_poly)\n",
    "    return mean_squared_error(Y_test, Y_pred)"
   ]
  },
  {
   "cell_type": "code",
   "execution_count": 18,
   "metadata": {},
   "outputs": [
    {
     "data": {
      "text/plain": [
       "{1: 184.9,\n",
       " 2: 173.5,\n",
       " 3: 163.3,\n",
       " 4: 151.9,\n",
       " 5: 136.3,\n",
       " 6: 117.1,\n",
       " 7: 108.6,\n",
       " 8: 65.7,\n",
       " 9: 23.7,\n",
       " 10: 10.7,\n",
       " 11: 6.7,\n",
       " 12: 12.1,\n",
       " 13: 1.8,\n",
       " 14: 1.0,\n",
       " 15: 0.8,\n",
       " 16: 1.6,\n",
       " 17: 1.6,\n",
       " 18: 1.5,\n",
       " 19: 2.7,\n",
       " 20: 1.5}"
      ]
     },
     "execution_count": 18,
     "metadata": {},
     "output_type": "execute_result"
    }
   ],
   "source": [
    "results = {}\n",
    "for order in range(1, 21):\n",
    "    results[order] = fit_eval(order).round(-5) / 1e6\n",
    "results"
   ]
  },
  {
   "cell_type": "markdown",
   "metadata": {
    "id": "8oEn4sGXLFbC"
   },
   "source": [
    "Report the polynomial order that resulted in the best fit. Does this number make sense? Do you think the regression has produced a good model for the data? Discuss with your classmates."
   ]
  },
  {
   "cell_type": "markdown",
   "metadata": {},
   "source": [
    "*Best polynomial order is 15. This seems too high (i.e. overfitting), given that the original information-bearing feature count was at best 3.*"
   ]
  }
 ],
 "metadata": {
  "colab": {
   "collapsed_sections": [],
   "name": "week0_V3.ipynb",
   "provenance": [
    {
     "file_id": "1OZdHB-fofJAMF7NpEzbAlOjXHesFCdta",
     "timestamp": 1627228723012
    },
    {
     "file_id": "1_DruLDC2-GymxstajqkDBF3V2RnJrfIY",
     "timestamp": 1627228521846
    },
    {
     "file_id": "1RHXVPblVyBgQrOrtyD84inW7jJpP2_H0",
     "timestamp": 1627227419165
    }
   ]
  },
  "kernelspec": {
   "display_name": "Python 3 (ipykernel)",
   "language": "python",
   "name": "python3"
  },
  "language_info": {
   "codemirror_mode": {
    "name": "ipython",
    "version": 3
   },
   "file_extension": ".py",
   "mimetype": "text/x-python",
   "name": "python",
   "nbconvert_exporter": "python",
   "pygments_lexer": "ipython3",
   "version": "3.9.6"
  }
 },
 "nbformat": 4,
 "nbformat_minor": 1
}
