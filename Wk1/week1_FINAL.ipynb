{
 "cells": [
  {
   "cell_type": "markdown",
   "metadata": {
    "id": "lNnTTMT9dnM4"
   },
   "source": [
    "# Today you are a Data Scientist at Tesla! \n",
    "## You have been assigned a new project to look at car sales from Quarters 1-2 in California for 2019 to make predictions as to which cars will be sold more than the others in Q3 and Q4, to ensure enough inventory to meet demands!"
   ]
  },
  {
   "cell_type": "markdown",
   "metadata": {
    "id": "AQqh5DMaq9QW"
   },
   "source": [
    "### If running this notebook in Google Colab, run the following cell first to mount your Google Drive"
   ]
  },
  {
   "cell_type": "code",
   "execution_count": 1,
   "metadata": {},
   "outputs": [],
   "source": [
    "# from google.colab import drive\n",
    "# drive.mount('/content/drive')"
   ]
  },
  {
   "cell_type": "markdown",
   "metadata": {
    "id": "NliK7yTn8LMn"
   },
   "source": [
    "^^ This mounts your Google Drive at the location */content/drive* on the virtual machine running this notebook."
   ]
  },
  {
   "cell_type": "markdown",
   "metadata": {
    "id": "v-eh9IKUfTdQ"
   },
   "source": [
    "# Task 1: Load data and wrangle training and test sets"
   ]
  },
  {
   "cell_type": "markdown",
   "metadata": {
    "id": "OI6NP0JBdnM5"
   },
   "source": [
    "### Import some modules we'll make use of"
   ]
  },
  {
   "cell_type": "code",
   "execution_count": 2,
   "metadata": {
    "id": "WdNx3CHEdnM5"
   },
   "outputs": [],
   "source": [
    "import numpy as np\n",
    "import pandas as pd\n",
    "import matplotlib.pyplot as plt"
   ]
  },
  {
   "cell_type": "markdown",
   "metadata": {
    "id": "dM4fGT-ldnM8"
   },
   "source": [
    "### Read in the CSV file containing the California sales data for Quarters 1 and 2\n",
    "\n",
    "Then examine the data's shape and first few rows"
   ]
  },
  {
   "cell_type": "code",
   "execution_count": 3,
   "metadata": {
    "id": "-s13HIEBdtGd"
   },
   "outputs": [],
   "source": [
    "# my copy of the Tesla sales data is located in my drive at /Datasets/week_1/\n",
    "# df_sales = pd.read_csv('/content/drive/My Drive/FourthBrain/Wk1/sales_Q12_2019.csv')\n",
    "df_sales = pd.read_csv('sales_Q12_2019.csv')"
   ]
  },
  {
   "cell_type": "code",
   "execution_count": 4,
   "metadata": {
    "id": "HdP5mSNQePPU"
   },
   "outputs": [
    {
     "name": "stdout",
     "output_type": "stream",
     "text": [
      "(5837, 76)\n"
     ]
    },
    {
     "data": {
      "text/html": [
       "<div>\n",
       "<style scoped>\n",
       "    .dataframe tbody tr th:only-of-type {\n",
       "        vertical-align: middle;\n",
       "    }\n",
       "\n",
       "    .dataframe tbody tr th {\n",
       "        vertical-align: top;\n",
       "    }\n",
       "\n",
       "    .dataframe thead th {\n",
       "        text-align: right;\n",
       "    }\n",
       "</style>\n",
       "<table border=\"1\" class=\"dataframe\">\n",
       "  <thead>\n",
       "    <tr style=\"text-align: right;\">\n",
       "      <th></th>\n",
       "      <th>main_S60_1</th>\n",
       "      <th>main_S60_2</th>\n",
       "      <th>main_type_SP100D</th>\n",
       "      <th>main_type_S60D_1</th>\n",
       "      <th>main_type_S60D_2</th>\n",
       "      <th>main_type_S70</th>\n",
       "      <th>main_type_S70D</th>\n",
       "      <th>main_type_S75</th>\n",
       "      <th>main_type_S75D</th>\n",
       "      <th>main_type_S80</th>\n",
       "      <th>...</th>\n",
       "      <th>sales_24</th>\n",
       "      <th>sales_25</th>\n",
       "      <th>sales_26</th>\n",
       "      <th>sales_27</th>\n",
       "      <th>sales_28</th>\n",
       "      <th>sales_29</th>\n",
       "      <th>sales_30</th>\n",
       "      <th>MSRP</th>\n",
       "      <th>dealer_state</th>\n",
       "      <th>date</th>\n",
       "    </tr>\n",
       "  </thead>\n",
       "  <tbody>\n",
       "    <tr>\n",
       "      <th>0</th>\n",
       "      <td>0</td>\n",
       "      <td>0</td>\n",
       "      <td>0</td>\n",
       "      <td>0</td>\n",
       "      <td>0</td>\n",
       "      <td>1</td>\n",
       "      <td>0</td>\n",
       "      <td>0</td>\n",
       "      <td>0</td>\n",
       "      <td>0</td>\n",
       "      <td>...</td>\n",
       "      <td>0</td>\n",
       "      <td>0</td>\n",
       "      <td>0</td>\n",
       "      <td>0</td>\n",
       "      <td>0</td>\n",
       "      <td>0</td>\n",
       "      <td>0</td>\n",
       "      <td>44610</td>\n",
       "      <td>California</td>\n",
       "      <td>2019-04-28</td>\n",
       "    </tr>\n",
       "    <tr>\n",
       "      <th>1</th>\n",
       "      <td>0</td>\n",
       "      <td>0</td>\n",
       "      <td>0</td>\n",
       "      <td>0</td>\n",
       "      <td>0</td>\n",
       "      <td>0</td>\n",
       "      <td>0</td>\n",
       "      <td>0</td>\n",
       "      <td>0</td>\n",
       "      <td>0</td>\n",
       "      <td>...</td>\n",
       "      <td>0</td>\n",
       "      <td>0</td>\n",
       "      <td>0</td>\n",
       "      <td>0</td>\n",
       "      <td>0</td>\n",
       "      <td>0</td>\n",
       "      <td>0</td>\n",
       "      <td>41505</td>\n",
       "      <td>California</td>\n",
       "      <td>2019-03-14</td>\n",
       "    </tr>\n",
       "    <tr>\n",
       "      <th>2</th>\n",
       "      <td>0</td>\n",
       "      <td>0</td>\n",
       "      <td>0</td>\n",
       "      <td>0</td>\n",
       "      <td>0</td>\n",
       "      <td>0</td>\n",
       "      <td>0</td>\n",
       "      <td>0</td>\n",
       "      <td>0</td>\n",
       "      <td>0</td>\n",
       "      <td>...</td>\n",
       "      <td>0</td>\n",
       "      <td>0</td>\n",
       "      <td>0</td>\n",
       "      <td>0</td>\n",
       "      <td>0</td>\n",
       "      <td>0</td>\n",
       "      <td>0</td>\n",
       "      <td>58890</td>\n",
       "      <td>California</td>\n",
       "      <td>2019-06-12</td>\n",
       "    </tr>\n",
       "    <tr>\n",
       "      <th>3</th>\n",
       "      <td>0</td>\n",
       "      <td>0</td>\n",
       "      <td>0</td>\n",
       "      <td>0</td>\n",
       "      <td>0</td>\n",
       "      <td>0</td>\n",
       "      <td>0</td>\n",
       "      <td>0</td>\n",
       "      <td>0</td>\n",
       "      <td>0</td>\n",
       "      <td>...</td>\n",
       "      <td>0</td>\n",
       "      <td>0</td>\n",
       "      <td>0</td>\n",
       "      <td>0</td>\n",
       "      <td>0</td>\n",
       "      <td>0</td>\n",
       "      <td>0</td>\n",
       "      <td>51055</td>\n",
       "      <td>California</td>\n",
       "      <td>2019-03-04</td>\n",
       "    </tr>\n",
       "    <tr>\n",
       "      <th>4</th>\n",
       "      <td>0</td>\n",
       "      <td>0</td>\n",
       "      <td>0</td>\n",
       "      <td>0</td>\n",
       "      <td>0</td>\n",
       "      <td>0</td>\n",
       "      <td>0</td>\n",
       "      <td>0</td>\n",
       "      <td>0</td>\n",
       "      <td>0</td>\n",
       "      <td>...</td>\n",
       "      <td>0</td>\n",
       "      <td>0</td>\n",
       "      <td>0</td>\n",
       "      <td>0</td>\n",
       "      <td>0</td>\n",
       "      <td>0</td>\n",
       "      <td>0</td>\n",
       "      <td>70830</td>\n",
       "      <td>California</td>\n",
       "      <td>2019-01-23</td>\n",
       "    </tr>\n",
       "  </tbody>\n",
       "</table>\n",
       "<p>5 rows × 76 columns</p>\n",
       "</div>"
      ],
      "text/plain": [
       "   main_S60_1  main_S60_2  main_type_SP100D  main_type_S60D_1  \\\n",
       "0           0           0                 0                 0   \n",
       "1           0           0                 0                 0   \n",
       "2           0           0                 0                 0   \n",
       "3           0           0                 0                 0   \n",
       "4           0           0                 0                 0   \n",
       "\n",
       "   main_type_S60D_2  main_type_S70  main_type_S70D  main_type_S75  \\\n",
       "0                 0              1               0              0   \n",
       "1                 0              0               0              0   \n",
       "2                 0              0               0              0   \n",
       "3                 0              0               0              0   \n",
       "4                 0              0               0              0   \n",
       "\n",
       "   main_type_S75D  main_type_S80  ...  sales_24  sales_25  sales_26  sales_27  \\\n",
       "0               0              0  ...         0         0         0         0   \n",
       "1               0              0  ...         0         0         0         0   \n",
       "2               0              0  ...         0         0         0         0   \n",
       "3               0              0  ...         0         0         0         0   \n",
       "4               0              0  ...         0         0         0         0   \n",
       "\n",
       "   sales_28  sales_29  sales_30   MSRP  dealer_state        date  \n",
       "0         0         0         0  44610    California  2019-04-28  \n",
       "1         0         0         0  41505    California  2019-03-14  \n",
       "2         0         0         0  58890    California  2019-06-12  \n",
       "3         0         0         0  51055    California  2019-03-04  \n",
       "4         0         0         0  70830    California  2019-01-23  \n",
       "\n",
       "[5 rows x 76 columns]"
      ]
     },
     "execution_count": 4,
     "metadata": {},
     "output_type": "execute_result"
    }
   ],
   "source": [
    "print(df_sales.shape)\n",
    "df_sales.head()"
   ]
  },
  {
   "cell_type": "code",
   "execution_count": 5,
   "metadata": {
    "id": "9zWKdbKgHQCj"
   },
   "outputs": [
    {
     "name": "stdout",
     "output_type": "stream",
     "text": [
      "Index(['main_S60_1', 'main_S60_2', 'main_type_SP100D', 'main_type_S60D_1',\n",
      "       'main_type_S60D_2', 'main_type_S70', 'main_type_S70D', 'main_type_S75',\n",
      "       'main_type_S75D', 'main_type_S80', 'main_type_S80D', 'main_type_S85',\n",
      "       'main_type_S85P', 'main_type_P85D', 'main_type_S90', 'main_type_S90D',\n",
      "       'main_type_S100D', 'engine_A', 'engine_B', 'engine_C', 'engine_D',\n",
      "       'engine_E', 'engine_F', 'engine_G', 'engine_H', 'engine_I', 'engine_J',\n",
      "       'engine_K', 'engine_L', 'engine_M', 'engine_N', 'engine_O', 'engine_P',\n",
      "       'engine_Q', 'engine_R', 'engine_S', 'engine_T', 'engine_U', 'engine_V',\n",
      "       'engine_W', 'engine_X', 'engine_Y', 'engine_Z', 'sales_1', 'sales_2',\n",
      "       'sales_3', 'sales_4', 'sales_5', 'sales_6', 'sales_7', 'sales_8',\n",
      "       'sales_9', 'sales_10', 'sales_11', 'sales_12', 'sales_13', 'sales_14',\n",
      "       'sales_15', 'sales_16', 'sales_17', 'sales_18', 'sales_19', 'sales_20',\n",
      "       'sales_21', 'sales_22', 'sales_23', 'sales_24', 'sales_25', 'sales_26',\n",
      "       'sales_27', 'sales_28', 'sales_29', 'sales_30', 'MSRP', 'dealer_state',\n",
      "       'date'],\n",
      "      dtype='object')\n"
     ]
    }
   ],
   "source": [
    "print(df_sales.columns)"
   ]
  },
  {
   "cell_type": "code",
   "execution_count": 6,
   "metadata": {},
   "outputs": [
    {
     "data": {
      "text/plain": [
       "California    5837\n",
       "Name: dealer_state, dtype: int64"
      ]
     },
     "execution_count": 6,
     "metadata": {},
     "output_type": "execute_result"
    }
   ],
   "source": [
    "df_sales['dealer_state'].value_counts()"
   ]
  },
  {
   "cell_type": "code",
   "execution_count": 7,
   "metadata": {},
   "outputs": [
    {
     "data": {
      "text/html": [
       "<div>\n",
       "<style scoped>\n",
       "    .dataframe tbody tr th:only-of-type {\n",
       "        vertical-align: middle;\n",
       "    }\n",
       "\n",
       "    .dataframe tbody tr th {\n",
       "        vertical-align: top;\n",
       "    }\n",
       "\n",
       "    .dataframe thead th {\n",
       "        text-align: right;\n",
       "    }\n",
       "</style>\n",
       "<table border=\"1\" class=\"dataframe\">\n",
       "  <thead>\n",
       "    <tr style=\"text-align: right;\">\n",
       "      <th></th>\n",
       "      <th>main_S60_1</th>\n",
       "      <th>main_S60_2</th>\n",
       "      <th>main_type_SP100D</th>\n",
       "      <th>main_type_S60D_1</th>\n",
       "      <th>main_type_S60D_2</th>\n",
       "      <th>main_type_S70</th>\n",
       "      <th>main_type_S70D</th>\n",
       "      <th>main_type_S75</th>\n",
       "      <th>main_type_S75D</th>\n",
       "      <th>main_type_S80</th>\n",
       "      <th>...</th>\n",
       "      <th>sales_22</th>\n",
       "      <th>sales_23</th>\n",
       "      <th>sales_24</th>\n",
       "      <th>sales_25</th>\n",
       "      <th>sales_26</th>\n",
       "      <th>sales_27</th>\n",
       "      <th>sales_28</th>\n",
       "      <th>sales_29</th>\n",
       "      <th>sales_30</th>\n",
       "      <th>MSRP</th>\n",
       "    </tr>\n",
       "  </thead>\n",
       "  <tbody>\n",
       "    <tr>\n",
       "      <th>count</th>\n",
       "      <td>5837.0</td>\n",
       "      <td>5837.0</td>\n",
       "      <td>5837.0000</td>\n",
       "      <td>5837.0000</td>\n",
       "      <td>5837.0000</td>\n",
       "      <td>5837.0000</td>\n",
       "      <td>5837.0000</td>\n",
       "      <td>5837.0</td>\n",
       "      <td>5837.0000</td>\n",
       "      <td>5837.0000</td>\n",
       "      <td>...</td>\n",
       "      <td>5837.0</td>\n",
       "      <td>5837.0</td>\n",
       "      <td>5837.0000</td>\n",
       "      <td>5837.0000</td>\n",
       "      <td>5837.0000</td>\n",
       "      <td>5837.0</td>\n",
       "      <td>5837.0000</td>\n",
       "      <td>5837.0</td>\n",
       "      <td>5837.0</td>\n",
       "      <td>5837.0000</td>\n",
       "    </tr>\n",
       "    <tr>\n",
       "      <th>mean</th>\n",
       "      <td>0.0</td>\n",
       "      <td>0.0</td>\n",
       "      <td>0.0021</td>\n",
       "      <td>0.0002</td>\n",
       "      <td>0.0009</td>\n",
       "      <td>0.1326</td>\n",
       "      <td>0.0036</td>\n",
       "      <td>0.0</td>\n",
       "      <td>0.0002</td>\n",
       "      <td>0.0053</td>\n",
       "      <td>...</td>\n",
       "      <td>0.0</td>\n",
       "      <td>0.0</td>\n",
       "      <td>0.1324</td>\n",
       "      <td>0.0541</td>\n",
       "      <td>0.0003</td>\n",
       "      <td>0.0</td>\n",
       "      <td>0.0065</td>\n",
       "      <td>0.0</td>\n",
       "      <td>0.0</td>\n",
       "      <td>56717.2895</td>\n",
       "    </tr>\n",
       "    <tr>\n",
       "      <th>std</th>\n",
       "      <td>0.0</td>\n",
       "      <td>0.0</td>\n",
       "      <td>0.0453</td>\n",
       "      <td>0.0131</td>\n",
       "      <td>0.0293</td>\n",
       "      <td>0.3392</td>\n",
       "      <td>0.0599</td>\n",
       "      <td>0.0</td>\n",
       "      <td>0.0131</td>\n",
       "      <td>0.0727</td>\n",
       "      <td>...</td>\n",
       "      <td>0.0</td>\n",
       "      <td>0.0</td>\n",
       "      <td>0.3390</td>\n",
       "      <td>0.2263</td>\n",
       "      <td>0.0185</td>\n",
       "      <td>0.0</td>\n",
       "      <td>0.0804</td>\n",
       "      <td>0.0</td>\n",
       "      <td>0.0</td>\n",
       "      <td>12296.9406</td>\n",
       "    </tr>\n",
       "    <tr>\n",
       "      <th>min</th>\n",
       "      <td>0.0</td>\n",
       "      <td>0.0</td>\n",
       "      <td>0.0000</td>\n",
       "      <td>0.0000</td>\n",
       "      <td>0.0000</td>\n",
       "      <td>0.0000</td>\n",
       "      <td>0.0000</td>\n",
       "      <td>0.0</td>\n",
       "      <td>0.0000</td>\n",
       "      <td>0.0000</td>\n",
       "      <td>...</td>\n",
       "      <td>0.0</td>\n",
       "      <td>0.0</td>\n",
       "      <td>0.0000</td>\n",
       "      <td>0.0000</td>\n",
       "      <td>0.0000</td>\n",
       "      <td>0.0</td>\n",
       "      <td>0.0000</td>\n",
       "      <td>0.0</td>\n",
       "      <td>0.0</td>\n",
       "      <td>0.0000</td>\n",
       "    </tr>\n",
       "    <tr>\n",
       "      <th>25%</th>\n",
       "      <td>0.0</td>\n",
       "      <td>0.0</td>\n",
       "      <td>0.0000</td>\n",
       "      <td>0.0000</td>\n",
       "      <td>0.0000</td>\n",
       "      <td>0.0000</td>\n",
       "      <td>0.0000</td>\n",
       "      <td>0.0</td>\n",
       "      <td>0.0000</td>\n",
       "      <td>0.0000</td>\n",
       "      <td>...</td>\n",
       "      <td>0.0</td>\n",
       "      <td>0.0</td>\n",
       "      <td>0.0000</td>\n",
       "      <td>0.0000</td>\n",
       "      <td>0.0000</td>\n",
       "      <td>0.0</td>\n",
       "      <td>0.0000</td>\n",
       "      <td>0.0</td>\n",
       "      <td>0.0</td>\n",
       "      <td>47090.0000</td>\n",
       "    </tr>\n",
       "    <tr>\n",
       "      <th>50%</th>\n",
       "      <td>0.0</td>\n",
       "      <td>0.0</td>\n",
       "      <td>0.0000</td>\n",
       "      <td>0.0000</td>\n",
       "      <td>0.0000</td>\n",
       "      <td>0.0000</td>\n",
       "      <td>0.0000</td>\n",
       "      <td>0.0</td>\n",
       "      <td>0.0000</td>\n",
       "      <td>0.0000</td>\n",
       "      <td>...</td>\n",
       "      <td>0.0</td>\n",
       "      <td>0.0</td>\n",
       "      <td>0.0000</td>\n",
       "      <td>0.0000</td>\n",
       "      <td>0.0000</td>\n",
       "      <td>0.0</td>\n",
       "      <td>0.0000</td>\n",
       "      <td>0.0</td>\n",
       "      <td>0.0</td>\n",
       "      <td>56875.0000</td>\n",
       "    </tr>\n",
       "    <tr>\n",
       "      <th>75%</th>\n",
       "      <td>0.0</td>\n",
       "      <td>0.0</td>\n",
       "      <td>0.0000</td>\n",
       "      <td>0.0000</td>\n",
       "      <td>0.0000</td>\n",
       "      <td>0.0000</td>\n",
       "      <td>0.0000</td>\n",
       "      <td>0.0</td>\n",
       "      <td>0.0000</td>\n",
       "      <td>0.0000</td>\n",
       "      <td>...</td>\n",
       "      <td>0.0</td>\n",
       "      <td>0.0</td>\n",
       "      <td>0.0000</td>\n",
       "      <td>0.0000</td>\n",
       "      <td>0.0000</td>\n",
       "      <td>0.0</td>\n",
       "      <td>0.0000</td>\n",
       "      <td>0.0</td>\n",
       "      <td>0.0</td>\n",
       "      <td>65100.0000</td>\n",
       "    </tr>\n",
       "    <tr>\n",
       "      <th>max</th>\n",
       "      <td>0.0</td>\n",
       "      <td>0.0</td>\n",
       "      <td>1.0000</td>\n",
       "      <td>1.0000</td>\n",
       "      <td>1.0000</td>\n",
       "      <td>1.0000</td>\n",
       "      <td>1.0000</td>\n",
       "      <td>0.0</td>\n",
       "      <td>1.0000</td>\n",
       "      <td>1.0000</td>\n",
       "      <td>...</td>\n",
       "      <td>0.0</td>\n",
       "      <td>0.0</td>\n",
       "      <td>1.0000</td>\n",
       "      <td>1.0000</td>\n",
       "      <td>1.0000</td>\n",
       "      <td>0.0</td>\n",
       "      <td>1.0000</td>\n",
       "      <td>0.0</td>\n",
       "      <td>0.0</td>\n",
       "      <td>91030.0000</td>\n",
       "    </tr>\n",
       "  </tbody>\n",
       "</table>\n",
       "<p>8 rows × 74 columns</p>\n",
       "</div>"
      ],
      "text/plain": [
       "       main_S60_1  main_S60_2  main_type_SP100D  main_type_S60D_1  \\\n",
       "count      5837.0      5837.0         5837.0000         5837.0000   \n",
       "mean          0.0         0.0            0.0021            0.0002   \n",
       "std           0.0         0.0            0.0453            0.0131   \n",
       "min           0.0         0.0            0.0000            0.0000   \n",
       "25%           0.0         0.0            0.0000            0.0000   \n",
       "50%           0.0         0.0            0.0000            0.0000   \n",
       "75%           0.0         0.0            0.0000            0.0000   \n",
       "max           0.0         0.0            1.0000            1.0000   \n",
       "\n",
       "       main_type_S60D_2  main_type_S70  main_type_S70D  main_type_S75  \\\n",
       "count         5837.0000      5837.0000       5837.0000         5837.0   \n",
       "mean             0.0009         0.1326          0.0036            0.0   \n",
       "std              0.0293         0.3392          0.0599            0.0   \n",
       "min              0.0000         0.0000          0.0000            0.0   \n",
       "25%              0.0000         0.0000          0.0000            0.0   \n",
       "50%              0.0000         0.0000          0.0000            0.0   \n",
       "75%              0.0000         0.0000          0.0000            0.0   \n",
       "max              1.0000         1.0000          1.0000            0.0   \n",
       "\n",
       "       main_type_S75D  main_type_S80  ...  sales_22  sales_23   sales_24  \\\n",
       "count       5837.0000      5837.0000  ...    5837.0    5837.0  5837.0000   \n",
       "mean           0.0002         0.0053  ...       0.0       0.0     0.1324   \n",
       "std            0.0131         0.0727  ...       0.0       0.0     0.3390   \n",
       "min            0.0000         0.0000  ...       0.0       0.0     0.0000   \n",
       "25%            0.0000         0.0000  ...       0.0       0.0     0.0000   \n",
       "50%            0.0000         0.0000  ...       0.0       0.0     0.0000   \n",
       "75%            0.0000         0.0000  ...       0.0       0.0     0.0000   \n",
       "max            1.0000         1.0000  ...       0.0       0.0     1.0000   \n",
       "\n",
       "        sales_25   sales_26  sales_27   sales_28  sales_29  sales_30  \\\n",
       "count  5837.0000  5837.0000    5837.0  5837.0000    5837.0    5837.0   \n",
       "mean      0.0541     0.0003       0.0     0.0065       0.0       0.0   \n",
       "std       0.2263     0.0185       0.0     0.0804       0.0       0.0   \n",
       "min       0.0000     0.0000       0.0     0.0000       0.0       0.0   \n",
       "25%       0.0000     0.0000       0.0     0.0000       0.0       0.0   \n",
       "50%       0.0000     0.0000       0.0     0.0000       0.0       0.0   \n",
       "75%       0.0000     0.0000       0.0     0.0000       0.0       0.0   \n",
       "max       1.0000     1.0000       0.0     1.0000       0.0       0.0   \n",
       "\n",
       "             MSRP  \n",
       "count   5837.0000  \n",
       "mean   56717.2895  \n",
       "std    12296.9406  \n",
       "min        0.0000  \n",
       "25%    47090.0000  \n",
       "50%    56875.0000  \n",
       "75%    65100.0000  \n",
       "max    91030.0000  \n",
       "\n",
       "[8 rows x 74 columns]"
      ]
     },
     "execution_count": 7,
     "metadata": {},
     "output_type": "execute_result"
    }
   ],
   "source": [
    "pd.set_option(\"precision\", 4)\n",
    "df_sales.describe()"
   ]
  },
  {
   "cell_type": "markdown",
   "metadata": {
    "id": "dF7w0UQndnM_"
   },
   "source": [
    "### Begin cleaning the data\n",
    "\n",
    "Eliminate the `'dealer_state'` and `'date'` columns. The former is useless to our model, since we already know that our dataset is restricted to California sales. While we could possibly extract useful information from the `'date'` column (for example, to determine whether more cars are sold on weekends than weekdays), we'll be focusing on car configurations in this exercise."
   ]
  },
  {
   "cell_type": "code",
   "execution_count": 8,
   "metadata": {
    "id": "i-DThsrHdnNA"
   },
   "outputs": [
    {
     "name": "stdout",
     "output_type": "stream",
     "text": [
      "(5837, 74)\n"
     ]
    }
   ],
   "source": [
    "df_sales = df_sales.drop(columns=['dealer_state','date'])\n",
    "print(df_sales.shape)"
   ]
  },
  {
   "cell_type": "markdown",
   "metadata": {
    "id": "qqdkmnCodnNC"
   },
   "source": [
    "### Read in the CSV file containing the California sales data for Quarters 3 and 4\n",
    "\n",
    "The `'dealer_state'` and `'date'` columns have already been eliminated in this dataset, so you don't need to worry about them here. Examine the data's shape and first few rows."
   ]
  },
  {
   "cell_type": "code",
   "execution_count": 9,
   "metadata": {
    "id": "bJpTgHxAdnND"
   },
   "outputs": [
    {
     "name": "stdout",
     "output_type": "stream",
     "text": [
      "(6666, 74)\n",
      "Index(['main_S60_1', 'main_S60_2', 'main_type_SP100D', 'main_type_S60D_1',\n",
      "       'main_type_S60D_2', 'main_type_S70', 'main_type_S70D', 'main_type_S75',\n",
      "       'main_type_S75D', 'main_type_S80', 'main_type_S80D', 'main_type_S85',\n",
      "       'main_type_S85P', 'main_type_P85D', 'main_type_S90', 'main_type_S90D',\n",
      "       'main_type_S100D', 'engine_A', 'engine_B', 'engine_C', 'engine_D',\n",
      "       'engine_E', 'engine_F', 'engine_G', 'engine_H', 'engine_I', 'engine_J',\n",
      "       'engine_K', 'engine_L', 'engine_M', 'engine_N', 'engine_O', 'engine_P',\n",
      "       'engine_Q', 'engine_R', 'engine_S', 'engine_T', 'engine_U', 'engine_V',\n",
      "       'engine_W', 'engine_X', 'engine_Y', 'engine_Z', 'sales_1', 'sales_2',\n",
      "       'sales_3', 'sales_4', 'sales_5', 'sales_6', 'sales_7', 'sales_8',\n",
      "       'sales_9', 'sales_10', 'sales_11', 'sales_12', 'sales_13', 'sales_14',\n",
      "       'sales_15', 'sales_16', 'sales_17', 'sales_18', 'sales_19', 'sales_20',\n",
      "       'sales_21', 'sales_22', 'sales_23', 'sales_24', 'sales_25', 'sales_26',\n",
      "       'sales_27', 'sales_28', 'sales_29', 'sales_30', 'MSRP'],\n",
      "      dtype='object')\n"
     ]
    },
    {
     "data": {
      "text/html": [
       "<div>\n",
       "<style scoped>\n",
       "    .dataframe tbody tr th:only-of-type {\n",
       "        vertical-align: middle;\n",
       "    }\n",
       "\n",
       "    .dataframe tbody tr th {\n",
       "        vertical-align: top;\n",
       "    }\n",
       "\n",
       "    .dataframe thead th {\n",
       "        text-align: right;\n",
       "    }\n",
       "</style>\n",
       "<table border=\"1\" class=\"dataframe\">\n",
       "  <thead>\n",
       "    <tr style=\"text-align: right;\">\n",
       "      <th></th>\n",
       "      <th>main_S60_1</th>\n",
       "      <th>main_S60_2</th>\n",
       "      <th>main_type_SP100D</th>\n",
       "      <th>main_type_S60D_1</th>\n",
       "      <th>main_type_S60D_2</th>\n",
       "      <th>main_type_S70</th>\n",
       "      <th>main_type_S70D</th>\n",
       "      <th>main_type_S75</th>\n",
       "      <th>main_type_S75D</th>\n",
       "      <th>main_type_S80</th>\n",
       "      <th>...</th>\n",
       "      <th>sales_22</th>\n",
       "      <th>sales_23</th>\n",
       "      <th>sales_24</th>\n",
       "      <th>sales_25</th>\n",
       "      <th>sales_26</th>\n",
       "      <th>sales_27</th>\n",
       "      <th>sales_28</th>\n",
       "      <th>sales_29</th>\n",
       "      <th>sales_30</th>\n",
       "      <th>MSRP</th>\n",
       "    </tr>\n",
       "  </thead>\n",
       "  <tbody>\n",
       "    <tr>\n",
       "      <th>0</th>\n",
       "      <td>0</td>\n",
       "      <td>0</td>\n",
       "      <td>0</td>\n",
       "      <td>0</td>\n",
       "      <td>0</td>\n",
       "      <td>1</td>\n",
       "      <td>0</td>\n",
       "      <td>0</td>\n",
       "      <td>0</td>\n",
       "      <td>0</td>\n",
       "      <td>...</td>\n",
       "      <td>0</td>\n",
       "      <td>0</td>\n",
       "      <td>1</td>\n",
       "      <td>0</td>\n",
       "      <td>0</td>\n",
       "      <td>0</td>\n",
       "      <td>0</td>\n",
       "      <td>0</td>\n",
       "      <td>0</td>\n",
       "      <td>51355</td>\n",
       "    </tr>\n",
       "    <tr>\n",
       "      <th>1</th>\n",
       "      <td>0</td>\n",
       "      <td>0</td>\n",
       "      <td>0</td>\n",
       "      <td>0</td>\n",
       "      <td>0</td>\n",
       "      <td>0</td>\n",
       "      <td>0</td>\n",
       "      <td>0</td>\n",
       "      <td>0</td>\n",
       "      <td>0</td>\n",
       "      <td>...</td>\n",
       "      <td>0</td>\n",
       "      <td>0</td>\n",
       "      <td>0</td>\n",
       "      <td>0</td>\n",
       "      <td>0</td>\n",
       "      <td>0</td>\n",
       "      <td>0</td>\n",
       "      <td>0</td>\n",
       "      <td>0</td>\n",
       "      <td>71580</td>\n",
       "    </tr>\n",
       "    <tr>\n",
       "      <th>2</th>\n",
       "      <td>0</td>\n",
       "      <td>0</td>\n",
       "      <td>0</td>\n",
       "      <td>0</td>\n",
       "      <td>0</td>\n",
       "      <td>0</td>\n",
       "      <td>0</td>\n",
       "      <td>0</td>\n",
       "      <td>0</td>\n",
       "      <td>0</td>\n",
       "      <td>...</td>\n",
       "      <td>0</td>\n",
       "      <td>0</td>\n",
       "      <td>0</td>\n",
       "      <td>0</td>\n",
       "      <td>0</td>\n",
       "      <td>0</td>\n",
       "      <td>0</td>\n",
       "      <td>0</td>\n",
       "      <td>0</td>\n",
       "      <td>66790</td>\n",
       "    </tr>\n",
       "    <tr>\n",
       "      <th>3</th>\n",
       "      <td>0</td>\n",
       "      <td>0</td>\n",
       "      <td>0</td>\n",
       "      <td>0</td>\n",
       "      <td>0</td>\n",
       "      <td>0</td>\n",
       "      <td>0</td>\n",
       "      <td>0</td>\n",
       "      <td>0</td>\n",
       "      <td>0</td>\n",
       "      <td>...</td>\n",
       "      <td>0</td>\n",
       "      <td>0</td>\n",
       "      <td>0</td>\n",
       "      <td>0</td>\n",
       "      <td>0</td>\n",
       "      <td>0</td>\n",
       "      <td>0</td>\n",
       "      <td>0</td>\n",
       "      <td>0</td>\n",
       "      <td>72330</td>\n",
       "    </tr>\n",
       "    <tr>\n",
       "      <th>4</th>\n",
       "      <td>0</td>\n",
       "      <td>0</td>\n",
       "      <td>0</td>\n",
       "      <td>0</td>\n",
       "      <td>0</td>\n",
       "      <td>0</td>\n",
       "      <td>0</td>\n",
       "      <td>0</td>\n",
       "      <td>0</td>\n",
       "      <td>0</td>\n",
       "      <td>...</td>\n",
       "      <td>0</td>\n",
       "      <td>0</td>\n",
       "      <td>0</td>\n",
       "      <td>0</td>\n",
       "      <td>0</td>\n",
       "      <td>0</td>\n",
       "      <td>0</td>\n",
       "      <td>0</td>\n",
       "      <td>0</td>\n",
       "      <td>55370</td>\n",
       "    </tr>\n",
       "  </tbody>\n",
       "</table>\n",
       "<p>5 rows × 74 columns</p>\n",
       "</div>"
      ],
      "text/plain": [
       "   main_S60_1  main_S60_2  main_type_SP100D  main_type_S60D_1  \\\n",
       "0           0           0                 0                 0   \n",
       "1           0           0                 0                 0   \n",
       "2           0           0                 0                 0   \n",
       "3           0           0                 0                 0   \n",
       "4           0           0                 0                 0   \n",
       "\n",
       "   main_type_S60D_2  main_type_S70  main_type_S70D  main_type_S75  \\\n",
       "0                 0              1               0              0   \n",
       "1                 0              0               0              0   \n",
       "2                 0              0               0              0   \n",
       "3                 0              0               0              0   \n",
       "4                 0              0               0              0   \n",
       "\n",
       "   main_type_S75D  main_type_S80  ...  sales_22  sales_23  sales_24  sales_25  \\\n",
       "0               0              0  ...         0         0         1         0   \n",
       "1               0              0  ...         0         0         0         0   \n",
       "2               0              0  ...         0         0         0         0   \n",
       "3               0              0  ...         0         0         0         0   \n",
       "4               0              0  ...         0         0         0         0   \n",
       "\n",
       "   sales_26  sales_27  sales_28  sales_29  sales_30   MSRP  \n",
       "0         0         0         0         0         0  51355  \n",
       "1         0         0         0         0         0  71580  \n",
       "2         0         0         0         0         0  66790  \n",
       "3         0         0         0         0         0  72330  \n",
       "4         0         0         0         0         0  55370  \n",
       "\n",
       "[5 rows x 74 columns]"
      ]
     },
     "execution_count": 9,
     "metadata": {},
     "output_type": "execute_result"
    }
   ],
   "source": [
    "df_pred = pd.read_csv('sales_Q34_2019.csv')\n",
    "print(np.shape(df_pred))\n",
    "print(df_pred.columns)\n",
    "df_pred.head()"
   ]
  },
  {
   "cell_type": "code",
   "execution_count": 10,
   "metadata": {},
   "outputs": [
    {
     "data": {
      "text/plain": [
       "True"
      ]
     },
     "execution_count": 10,
     "metadata": {},
     "output_type": "execute_result"
    }
   ],
   "source": [
    "df_sales.columns.tolist() == df_pred.columns.tolist()"
   ]
  },
  {
   "cell_type": "markdown",
   "metadata": {
    "id": "kcmsU-T1dnNF"
   },
   "source": [
    "### Set up a regression problem that uses car IDs to predict proportion of # sold. \n",
    "\n",
    "You've probably noticed that 73 of the 74 columns in our Q12 and Q34 datasets\n",
    "are one-hot-encoded representations of the car's `'main_type'`, `'engine'`, and \n",
    "`'sales_version'` values. This could be viewed as a unique ID for each type of car. You've probably also noticed that the final column is \n",
    "the car's `'MSRP'`, or manufacturer's (Tesla's, in this case) suggested retail price. You could do several things with this data--we're asking you to fit a model of the **proportion of cars sold** based on the unique ID. You'll fit the model on Q12 data and test it on Q34 data. We won't use MSRP.\n",
    "\n",
    "Each row in the dataset represents the sale of a single car. So, we can count up\n",
    "the number of rows with a particular ID, and this gives us the number of times that specific type of car was sold in California during that time period. This number divided by the total number sold is the proportion of sales attributed to this particular type of car.\n",
    "\n",
    "<!-- \n",
    "\n",
    "\n",
    "Consolidate data by finding numbers of unique car combinations sold for training and test data sets\n",
    "\n",
    "\n",
    "\n",
    "However, each row represents the sale of a single car. If we define a unique car type by its combination of `'main_type'`, `'engine'`, and `'sales_version'` values, the number of rows displaying that combination corresponds to the number of times during that half of the year that that distinct type of car was sold in California. Therefore, we can make training and test datasets where each row now corresponds to a unique car type, and the target value is how many times that car type was sold in California during a given half of the year.\n",
    "\n",
    "## This task requires data wrangling!\n",
    "## Create functions that read the Q12 (df_sales) and Q34 (df_pred) data sets and create train_X, train_Y, test_X and test_Y, respectively. Use pandas and NumPy as needed. -->\n",
    "\n",
    "**Create a Python function called ``get_features_and_targets`` that takes in a quarterly sales dataframe and produces matrices $\\mathbf{X}$ and $\\mathbf{Y}$, where $\\mathbf{X}$ has in each row a unique car ID and the corresponding row of $\\mathbf{Y}$ has that specific car's proportion of total sales for the quarter**"
   ]
  },
  {
   "cell_type": "code",
   "execution_count": 11,
   "metadata": {
    "id": "Mo5c3VhBkB33"
   },
   "outputs": [],
   "source": [
    "def get_features_and_targets(df):\n",
    "    temp = df.drop('MSRP', axis=1)\n",
    "    unique_rows_with_count = temp.groupby(temp.columns.tolist()).size().reset_index(name='Count')\n",
    "    # https://stackoverflow.com/questions/36018851/pandas-counting-unique-rows\n",
    "    X = unique_rows_with_count.values[:, :-1] # 'Count' is the last column\n",
    "    Y = (unique_rows_with_count.values[:, -1:]) / len(df)\n",
    "    return X, Y"
   ]
  },
  {
   "cell_type": "markdown",
   "metadata": {
    "id": "toTX3W89fX2P"
   },
   "source": [
    "### Use your function to create $\\mathbf{X}$, $\\mathbf{Y}$, pairs for both the training data and the test data:"
   ]
  },
  {
   "cell_type": "code",
   "execution_count": 12,
   "metadata": {
    "id": "Rf6Vj0ujhJ77"
   },
   "outputs": [
    {
     "name": "stdout",
     "output_type": "stream",
     "text": [
      "(66, 73) (66, 1)\n",
      "(71, 73) (71, 1)\n",
      "Number of unique cars in Q12 = 66\n",
      "Number of unique cars in Q34 = 71\n"
     ]
    }
   ],
   "source": [
    "train_X, train_Y = get_features_and_targets(df_sales)\n",
    "test_X, test_Y = get_features_and_targets(df_pred)\n",
    "print(train_X.shape, train_Y.shape)\n",
    "print(test_X.shape, test_Y.shape)\n",
    "print(f\"Number of unique cars in Q12 = {len(train_Y)}\")\n",
    "print(f\"Number of unique cars in Q34 = {len(test_Y)}\")"
   ]
  },
  {
   "cell_type": "markdown",
   "metadata": {
    "id": "8d7BSjsQdnNV"
   },
   "source": [
    "Okay, so let's note that the Q12 and Q34 datasets contain differing numbers of distinct cars. Clearly, some new models were introduced by Q3, but were any discontinued by the end of Q2? Let's find out."
   ]
  },
  {
   "cell_type": "markdown",
   "metadata": {
    "id": "y7Z-Trs9o821"
   },
   "source": [
    "Print the number of cars that were sold in either Q12 or Q34, or both. In mathematical notation, if the set of cars sold in Q12 is $\\mathcal{A}$ and the set of cars sold in Q34 is $\\mathcal{B}$, we're asking for the size of the *union* of these two sets $|\\mathcal{A} \\cup \\mathcal{B}|$. The notation $|\\cdot|$ indicates measurement of the size of a set, the number of distinct items. (Mathematicians usually refer to it as the *cardinality*)"
   ]
  },
  {
   "cell_type": "code",
   "execution_count": 13,
   "metadata": {
    "id": "KOEhFSxin_te"
   },
   "outputs": [
    {
     "name": "stdout",
     "output_type": "stream",
     "text": [
      "Number of unique cars sold during 2019 = 80\n"
     ]
    }
   ],
   "source": [
    "df_all_quarters = pd.concat([df_sales, df_pred])\n",
    "allQ_X, allQ_Y = get_features_and_targets(df_all_quarters)\n",
    "print(f\"Number of unique cars sold during 2019 = {len(allQ_Y)}\")"
   ]
  },
  {
   "cell_type": "markdown",
   "metadata": {
    "id": "8KgAprxHqcv2"
   },
   "source": [
    "A handy little fact from set theory is that $|\\mathcal{A} \\cup \\mathcal{B}| = |\\mathcal{A}| + |\\mathcal{B}| - |\\mathcal{A} \\cap \\mathcal{B}|$, where $\\cap$ is the *intersection* of $\\mathcal{A}$ and $\\mathcal{B}$, things that are in **both** $\\mathcal{A}$ and $\\mathcal{B}$. Use this fact, and what you've computed above, to print the number of models that were sold in both Q12 and Q34."
   ]
  },
  {
   "cell_type": "code",
   "execution_count": 14,
   "metadata": {
    "id": "56A3357NswMG"
   },
   "outputs": [
    {
     "name": "stdout",
     "output_type": "stream",
     "text": [
      "Number of unique cars sold in both Q12 AND Q34 = 57\n"
     ]
    }
   ],
   "source": [
    "num_Q12_and_Q34 = len(train_Y) + len(test_Y) - len(allQ_Y)\n",
    "print(f\"Number of unique cars sold in both Q12 AND Q34 = {num_Q12_and_Q34}\")"
   ]
  },
  {
   "cell_type": "markdown",
   "metadata": {
    "id": "clPi1NVCunoy"
   },
   "source": [
    "How many cars that were sold in Q12 were discontinued by Q34?"
   ]
  },
  {
   "cell_type": "code",
   "execution_count": 15,
   "metadata": {
    "colab": {
     "base_uri": "https://localhost:8080/"
    },
    "executionInfo": {
     "elapsed": 12,
     "status": "ok",
     "timestamp": 1627687607185,
     "user": {
      "displayName": "Spencer Kent",
      "photoUrl": "",
      "userId": "07841346171340846448"
     },
     "user_tz": 420
    },
    "id": "VmMdZNuzu5Z-",
    "outputId": "cf6cf2d7-1b6c-472a-c1d7-dfd5fa885816"
   },
   "outputs": [
    {
     "name": "stdout",
     "output_type": "stream",
     "text": [
      "Number of models discontinued in Q34 = 9\n"
     ]
    }
   ],
   "source": [
    "print(f\"Number of models discontinued in Q34 = {len(train_Y) - num_Q12_and_Q34}\")"
   ]
  },
  {
   "cell_type": "markdown",
   "metadata": {
    "id": "04zz5QOkvtij"
   },
   "source": [
    "How many cars were launched in Q34?"
   ]
  },
  {
   "cell_type": "code",
   "execution_count": 16,
   "metadata": {
    "id": "stRzG8THvyeA"
   },
   "outputs": [
    {
     "name": "stdout",
     "output_type": "stream",
     "text": [
      "Number of models launched in Q34 = 14\n"
     ]
    }
   ],
   "source": [
    "print(f\"Number of models launched in Q34 = {len(test_Y) - num_Q12_and_Q34}\")"
   ]
  },
  {
   "cell_type": "markdown",
   "metadata": {
    "id": "3qn6SNBNdnNb"
   },
   "source": [
    "# Task 2: Visualize the training and test targets any way you see fit"
   ]
  },
  {
   "cell_type": "markdown",
   "metadata": {
    "id": "OzsF0PfoyoyS"
   },
   "source": [
    "This is super open-ended and we're not expecting a particular visualization, just show us what comes comes to your mind!"
   ]
  },
  {
   "cell_type": "code",
   "execution_count": 17,
   "metadata": {
    "id": "oFVGTPYV2jrF"
   },
   "outputs": [],
   "source": [
    "# df_sales.drop('id', axis=1)\n",
    "# df_pred.drop('id', axis=1)\n",
    "df_sales['id'] = df_sales.drop('MSRP', axis=1).apply(lambda x: ''.join([str(y) for y in x]), axis=1)\n",
    "df_pred['id'] = df_pred.drop('MSRP', axis=1).apply(lambda x: ''.join([str(y) for y in x]), axis=1)\n",
    "q12_sales = df_sales['id'].value_counts()\n",
    "q34_sales = df_pred['id'].value_counts()\n",
    "q34_ids = set(q34_sales.index)"
   ]
  },
  {
   "cell_type": "code",
   "execution_count": 18,
   "metadata": {},
   "outputs": [
    {
     "data": {
      "image/png": "[encoded data removed]",
      "text/plain": [
       "<Figure size 432x288 with 1 Axes>"
      ]
     },
     "metadata": {
      "image/png": {
       "height": 277,
       "width": 397
      },
      "needs_background": "light"
     },
     "output_type": "display_data"
    }
   ],
   "source": [
    "feature_growth = []\n",
    "for id, sales in q12_sales.items():\n",
    "    if id not in q34_ids: continue\n",
    "    feature_growth.append(q34_sales[id] - sales)\n",
    "plt.title('Sales Growth from Q12 to Q34 per Feature')\n",
    "plt.xlabel('Feature')\n",
    "plt.ylabel('Sales Growth')\n",
    "plt.bar(range(len(feature_growth)), feature_growth);"
   ]
  },
  {
   "cell_type": "markdown",
   "metadata": {
    "id": "9g-2fwgydnNh"
   },
   "source": [
    "# Task 3: Fit a linear model with gradient descent"
   ]
  },
  {
   "cell_type": "markdown",
   "metadata": {
    "id": "oriL0PcVOlw-"
   },
   "source": [
    "Set hyperparameters for learning rate and maximum number of iterations through the training data."
   ]
  },
  {
   "cell_type": "code",
   "execution_count": 19,
   "metadata": {
    "id": "QKIv3936OfVk"
   },
   "outputs": [],
   "source": [
    "# these are good starting values, you can play around with them though\n",
    "s_learning_rate = 0.001\n",
    "s_max_iteration = 1000"
   ]
  },
  {
   "cell_type": "markdown",
   "metadata": {
    "id": "Lx-wS125dnNk"
   },
   "source": [
    "### Hypothesis Function\n",
    "\n",
    "Define your hypothesis function $h(\\cdot)$ (which you use to make predictions $\\hat{\\mathbf{Y}}$ as the matrix product of your feature data $\\mathbf{X}$ and parameters $\\boldsymbol{\\theta}$. $\\boldsymbol{\\theta}$, which you'll initialize in the training loop (below) is a column vector, one for every feature in the training data, plus one for bias."
   ]
  },
  {
   "cell_type": "code",
   "execution_count": 20,
   "metadata": {
    "id": "SI8oTUQsdnNk"
   },
   "outputs": [],
   "source": [
    "# Define your hypothesis function according to the instructions above\n",
    "def h(theta, X):\n",
    "    return X @ theta"
   ]
  },
  {
   "cell_type": "markdown",
   "metadata": {
    "id": "7LW5F5uhdnNm"
   },
   "source": [
    "Define your loss function as **half** the MSE (mean squared error) between your actual and predicted $\\mathbf{Y}$ values. \n",
    "\n",
    "Recall that the predicted $\\mathbf{Y}$ values, $\\hat{\\mathbf{Y}}$, are a function of $\\boldsymbol{\\theta}$ and $\\mathbf{X}$.\n"
   ]
  },
  {
   "cell_type": "code",
   "execution_count": 21,
   "metadata": {
    "id": "KzRpZec4dnNm"
   },
   "outputs": [],
   "source": [
    "# Loss Function\n",
    "def loss (theta, X, Y) :\n",
    "    Y_hat = h(theta, X)\n",
    "    return 0.5 * np.mean((Y_hat - Y)**2)"
   ]
  },
  {
   "cell_type": "markdown",
   "metadata": {
    "id": "PCLgRXivdnNp"
   },
   "source": [
    "### Gradient of Hypothesis Function\n",
    "\n",
    "One can verify through straightforward (if somewhat tedious) multivariable calculus that the gradient of the loss function $J$ with respect to the parameters $\\theta$ is \n",
    "\n",
    "$$ \\frac{\\partial J}{\\partial \\boldsymbol{\\theta}} = - \\frac{1}{m} X^T \\cdot (Y - \\hat{Y})$$\n",
    "\n",
    "Where $m$ is the number of data samples, the number of rows in $\\mathbf{X}$ and $\\mathbf{Y}$.\n",
    "\n",
    "Note that the $\\mathbf{X}$ here is the one that has been augmented with a bias column. \n",
    "\n",
    "Set up a function ``gradient`` to compute this gradient."
   ]
  },
  {
   "cell_type": "code",
   "execution_count": 22,
   "metadata": {
    "id": "3zYnvBa1dnNp"
   },
   "outputs": [],
   "source": [
    "def gradient (theta, X, Y) :\n",
    "    Y_hat = h(theta, X)\n",
    "    return -(X.T@(Y - Y_hat))/len(X)"
   ]
  },
  {
   "cell_type": "markdown",
   "metadata": {
    "id": "fo-NxmSLdnNr"
   },
   "source": [
    "### Gradient Descent\n",
    "\n",
    "Complete the function ``stochastic_gradient_descent`` below, to train your linear regression model with gradient descent, i.e. calculate $\\frac{\\partial J}{\\partial \\theta}$ and update $\\theta$. Recall that the general gradient descent update formula is $\\theta := \\theta - \\alpha \\frac{\\partial J}{\\partial \\theta}$, with $\\alpha$ the stepsize. We've provided the skeleton of a stochastic gradient descent function, but you're welcome to experiment with batch and/or minibatch gradient descent. Also recall that the aforementioned gradient descent methods differ in how frequently they calculate $\\frac{\\partial J}{\\partial \\theta}$ and update $\\theta$. Notice in the first step we initialize $\\boldsymbol{\\theta}$ to all zeros and we temporarily prepend a column of $1$'s to the features, which corresponds to the bias parameter."
   ]
  },
  {
   "cell_type": "code",
   "execution_count": 23,
   "metadata": {
    "id": "g6hbmDgkdnNs"
   },
   "outputs": [],
   "source": [
    "def stochastic_gradient_descent(X, Y, learning_rate, max_iteration, print_interval):\n",
    "  theta = np.zeros((X.shape[1]+1, 1))\n",
    "  X_with_ones = np.hstack([np.ones([X.shape[0], 1]), X]) \n",
    "  # prepend a column of 1s. This is just to make the math more compact, your original data is still X[:, 1:]\n",
    "  # Initialize the cost as an array of zeros, one for each iteration through the dataset\n",
    "  cost = np.zeros(max_iteration)\n",
    "  # Loop over the dataset\n",
    "  for i in range(max_iteration):\n",
    "    # Loop over each row in the dataset\n",
    "    for j in range(X.shape[0]):\n",
    "      # Compute the gradient from the current row in X and the associated Y value\n",
    "      # Make sure that both X and Y are represented as 2D row vectors\n",
    "      grad = gradient(theta, X_with_ones, Y)\n",
    "      # Update theta\n",
    "      theta = theta - learning_rate * grad\n",
    "    # Update the cost array for the current iteration\n",
    "    cost[i] = loss(theta, X_with_ones, Y)\n",
    "    if i % print_interval == 0 :\n",
    "      print('iteration : ', i, ' loss : ', loss(theta, X_with_ones, Y)) \n",
    "  return theta, cost"
   ]
  },
  {
   "cell_type": "code",
   "execution_count": 24,
   "metadata": {
    "id": "O084UJ8UdnNt"
   },
   "outputs": [
    {
     "name": "stdout",
     "output_type": "stream",
     "text": [
      "iteration :  0  loss :  0.0004206813449781474\n",
      "iteration :  100  loss :  0.00021187757819450247\n",
      "iteration :  200  loss :  0.0001777269844751662\n",
      "iteration :  300  loss :  0.00016287715297426183\n",
      "iteration :  400  loss :  0.0001551688772076551\n",
      "iteration :  500  loss :  0.00015073183671429998\n",
      "iteration :  600  loss :  0.00014797367239599134\n",
      "iteration :  700  loss :  0.0001461392774821658\n",
      "iteration :  800  loss :  0.00014484002748370664\n",
      "iteration :  900  loss :  0.00014386512156132228\n"
     ]
    }
   ],
   "source": [
    "s_theta, s_cost = stochastic_gradient_descent(train_X, train_Y, s_learning_rate, s_max_iteration, 100)"
   ]
  },
  {
   "cell_type": "code",
   "execution_count": 25,
   "metadata": {
    "id": "aoRR-pP8P2C2"
   },
   "outputs": [
    {
     "data": {
      "text/plain": [
       "<StemContainer object of 3 artists>"
      ]
     },
     "execution_count": 25,
     "metadata": {},
     "output_type": "execute_result"
    },
    {
     "data": {
      "image/png": "[encoded data removed]",
      "text/plain": [
       "<Figure size 432x288 with 1 Axes>"
      ]
     },
     "metadata": {
      "image/png": {
       "height": 248,
       "width": 386
      },
      "needs_background": "light"
     },
     "output_type": "display_data"
    }
   ],
   "source": [
    "plt.stem(np.squeeze(s_theta))"
   ]
  },
  {
   "cell_type": "markdown",
   "metadata": {
    "id": "B6D2kqejdnNv"
   },
   "source": [
    "### Generate Predictions from Test Data"
   ]
  },
  {
   "cell_type": "code",
   "execution_count": 26,
   "metadata": {
    "id": "m-u3iTbNdnNw"
   },
   "outputs": [],
   "source": [
    "# remember that s_theta should be applied to features that have a prepended column of 1's\n",
    "pred_Y_from_GD = h(s_theta, np.hstack([np.ones([test_X.shape[0], 1]), test_X]))\n",
    "# Set any negative predictions to 0\n",
    "pred_Y_from_GD[pred_Y_from_GD<0] = 0"
   ]
  },
  {
   "cell_type": "markdown",
   "metadata": {
    "id": "2ImYOho6dnNy"
   },
   "source": [
    "### Visualize the predicted and actual test labels"
   ]
  },
  {
   "cell_type": "code",
   "execution_count": 27,
   "metadata": {
    "id": "o3t83fxcr6dd"
   },
   "outputs": [],
   "source": [
    "from sklearn.metrics import mean_squared_error as MSE\n",
    "from sklearn.metrics import r2_score"
   ]
  },
  {
   "cell_type": "code",
   "execution_count": 28,
   "metadata": {
    "id": "Ljk24gJ4dnNy"
   },
   "outputs": [
    {
     "name": "stdout",
     "output_type": "stream",
     "text": [
      "RMSE, R2 using SGD= 0.00014267064803990558 0.5886591441425442\n"
     ]
    },
    {
     "data": {
      "image/png": "[encoded data removed]",
      "text/plain": [
       "<Figure size 432x288 with 1 Axes>"
      ]
     },
     "metadata": {
      "image/png": {
       "height": 248,
       "width": 378
      },
      "needs_background": "light"
     },
     "output_type": "display_data"
    }
   ],
   "source": [
    "plt.scatter(range(len(test_Y)), test_Y,  color='black')\n",
    "plt.scatter(range(len(pred_Y_from_GD)), pred_Y_from_GD, color='blue')\n",
    "\n",
    "print(\"RMSE, R2 using SGD=\", MSE(test_Y, pred_Y_from_GD), r2_score(test_Y, pred_Y_from_GD))"
   ]
  },
  {
   "cell_type": "markdown",
   "metadata": {
    "id": "QNFkAA7gdnN0"
   },
   "source": [
    "# Task 4: Normal Equations\n",
    "\n",
    "Since our training dataset isn't very large, let's generate predictions using the normal equations: \n",
    "\n",
    "$$\\boldsymbol{\\theta} = (X^T \\cdot X)^{-1} \\cdot X^T \\cdot Y$$ \n",
    "$$\\hat{Y} = X \\cdot \\boldsymbol{\\theta}$$\n",
    "\n",
    "and see how they compare to the predictions which we obtained from gradient descent. Remember we still have a bias term, so $\\boldsymbol{\\theta}$ is of size 74x1 (73 for the unique ID features, 1 for the bias)"
   ]
  },
  {
   "cell_type": "code",
   "execution_count": 29,
   "metadata": {
    "id": "ez7XC2qQdnN1"
   },
   "outputs": [],
   "source": [
    "def normal_equations_solution(X, Y):\n",
    "    X_with_ones = np.hstack([np.ones([train_X.shape[0], 1]), train_X])\n",
    "    # numpy's linalg.pinv efficiently computes the matrix (X^T * X)^(-1) * X^T\n",
    "    return np.linalg.pinv(X_with_ones) @ Y"
   ]
  },
  {
   "cell_type": "code",
   "execution_count": 30,
   "metadata": {
    "id": "cAhtVznMZGtB"
   },
   "outputs": [],
   "source": [
    "# Compute the predicted Y values\n",
    "n_theta = normal_equations_solution(train_X, train_Y)\n",
    "pred_Y_from_N = np.matmul(np.hstack([np.ones([test_X.shape[0], 1]), test_X]), n_theta)\n",
    "\n",
    "# Set any negative predictions to 0\n",
    "pred_Y_from_N[np.where(pred_Y_from_N<0)]=0"
   ]
  },
  {
   "cell_type": "code",
   "execution_count": 31,
   "metadata": {
    "id": "lu9NjgsJdnN3",
    "scrolled": true
   },
   "outputs": [
    {
     "name": "stdout",
     "output_type": "stream",
     "text": [
      "RMSE, R2 for prediction all features = 0.0001590059869786599 0.5415619143191444\n"
     ]
    },
    {
     "data": {
      "image/png": "[encoded data removed]",
      "text/plain": [
       "<Figure size 432x288 with 1 Axes>"
      ]
     },
     "metadata": {
      "image/png": {
       "height": 248,
       "width": 378
      },
      "needs_background": "light"
     },
     "output_type": "display_data"
    }
   ],
   "source": [
    "# Plot predictions compared to test_Y, and also print MSE and R^2 score\n",
    "plt.scatter(range(len(test_Y)), test_Y,  color='black')\n",
    "plt.scatter(range(len(pred_Y_from_N)), pred_Y_from_N, color='blue')\n",
    "print(\"RMSE, R2 for prediction all features =\", MSE(test_Y, pred_Y_from_N), r2_score(test_Y, pred_Y_from_N)) #[Low error high corr]"
   ]
  },
  {
   "cell_type": "markdown",
   "metadata": {
    "id": "i3ofJxdUdnN6"
   },
   "source": [
    "### Regularized Normal Equations"
   ]
  },
  {
   "cell_type": "code",
   "execution_count": 32,
   "metadata": {
    "colab": {
     "base_uri": "https://localhost:8080/"
    },
    "executionInfo": {
     "elapsed": 9,
     "status": "ok",
     "timestamp": 1627687637973,
     "user": {
      "displayName": "Spencer Kent",
      "photoUrl": "",
      "userId": "07841346171340846448"
     },
     "user_tz": 420
    },
    "id": "VyIX4LaAdnN6",
    "outputId": "4011e415-a117-43ae-d5ff-57cc6f976a76"
   },
   "outputs": [
    {
     "name": "stdout",
     "output_type": "stream",
     "text": [
      "Recall that our training features array train_X has\n",
      "m = 66 rows and n = 73 columns\n"
     ]
    }
   ],
   "source": [
    "print('Recall that our training features array train_X has')\n",
    "print(f'm = {train_X.shape[0]} rows and n = {train_X.shape[1]} columns')"
   ]
  },
  {
   "cell_type": "markdown",
   "metadata": {
    "id": "BSvkrQ6EdnN8"
   },
   "source": [
    "`train_X` is thus wider than it is tall, which suggests that the regularized normal equations might perform better in generating label predictions. In this case, we modify the first of the normal equations given above to \n",
    "\n",
    "$$\\boldsymbol{\\theta} = (X^T \\cdot X + \\lambda m I)^{-1} \\cdot X^T \\cdot Y$$.\n",
    "\n",
    "Here, $\\lambda$ is the regularization parameter and $m$ is the number of rows in $X$."
   ]
  },
  {
   "cell_type": "markdown",
   "metadata": {
    "id": "7Mgd1zocdnN9"
   },
   "source": [
    "### Repeat the previous parts of Task IV, but this time incorporate regularization"
   ]
  },
  {
   "cell_type": "code",
   "execution_count": 33,
   "metadata": {
    "id": "nFY5YO-IZ2e7"
   },
   "outputs": [],
   "source": [
    "def regularized_normal_equations_solution(X, Y, regularization_param):\n",
    "    X_with_ones = np.hstack([np.ones([train_X.shape[0], 1]), train_X])\n",
    "    inv = np.linalg.inv(X_with_ones.T @ X_with_ones + regularization_param * X.shape[0] * np.identity(X_with_ones.shape[1]))\n",
    "    return inv @ X_with_ones.T @ Y"
   ]
  },
  {
   "cell_type": "code",
   "execution_count": 34,
   "metadata": {
    "id": "bIrbJkOydnN9"
   },
   "outputs": [
    {
     "name": "stdout",
     "output_type": "stream",
     "text": [
      "For regularization parameter 0.001\n",
      "RMSE, R2 = 0.0001494547437333614 0.569099579739469\n",
      "-----\n",
      "For regularization parameter 0.003\n",
      "RMSE, R2 = 0.0001410154635505259 0.593431289035816\n",
      "-----\n",
      "For regularization parameter 0.01\n",
      "RMSE, R2 = 0.00013572695793108677 0.6086788431585013\n",
      "-----\n",
      "For regularization parameter 0.03\n",
      "RMSE, R2 = 0.00014329106590351052 0.5868703864792781\n",
      "-----\n",
      "For regularization parameter 0.1\n",
      "RMSE, R2 = 0.00018411381296177764 0.46917228989039017\n",
      "-----\n"
     ]
    }
   ],
   "source": [
    "test_these_lambdas = [0.001, 0.003, 0.01, 0.03, 0.1] # np.linspace(0.01, 10, 10)\n",
    "\n",
    "for i in test_these_lambdas:\n",
    "  theta_temp = regularized_normal_equations_solution(train_X, train_Y, i)\n",
    "  pred_Y_from_N_reg = np.matmul(np.hstack([np.ones([test_X.shape[0], 1]), test_X]), theta_temp)\n",
    "  pred_Y_from_N_reg[np.where(pred_Y_from_N_reg<0)]=0\n",
    "  print('For regularization parameter', i)\n",
    "  print(\"RMSE, R2 =\", MSE(test_Y, pred_Y_from_N_reg), r2_score(test_Y, pred_Y_from_N_reg))\n",
    "  print('-----')"
   ]
  },
  {
   "cell_type": "markdown",
   "metadata": {
    "id": "o5uD0DVidnN_"
   },
   "source": [
    "# Task V: Non-linear Regression Models (GLM, DT) "
   ]
  },
  {
   "cell_type": "markdown",
   "metadata": {
    "id": "Yk0Be7SQdnN_"
   },
   "source": [
    "### Generalized Linear Models\n",
    "\n",
    "`sm` (our alias for `statsmodels.api`) contains a `GLM` class. Use it to instantiate a model. The relevant parameters are training labels, training features, and `ffamily`, i.e. the family of distributions to which we assume our prediction errors belong. Some potentially good choices for `ffamily` include Gaussian, Gamma, and Logit."
   ]
  },
  {
   "cell_type": "code",
   "execution_count": 35,
   "metadata": {
    "id": "cxUdD_LhdnN_"
   },
   "outputs": [
    {
     "name": "stdout",
     "output_type": "stream",
     "text": [
      "(66, 74)\n",
      "                 Generalized Linear Model Regression Results                  \n",
      "==============================================================================\n",
      "Dep. Variable:                      y   No. Observations:                   66\n",
      "Model:                            GLM   Df Residuals:                       35\n",
      "Model Family:                Gaussian   Df Model:                           30\n",
      "Link Function:               identity   Scale:                      0.00050810\n",
      "Method:                          IRLS   Log-Likelihood:                 177.58\n",
      "Date:                Fri, 06 Aug 2021   Deviance:                     0.017784\n",
      "Time:                        19:54:36   Pearson chi2:                   0.0178\n",
      "No. Iterations:                     3                                         \n",
      "Covariance Type:            nonrobust                                         \n",
      "==============================================================================\n",
      "                 coef    std err          z      P>|z|      [0.025      0.975]\n",
      "------------------------------------------------------------------------------\n",
      "const          0.0147      0.009      1.721      0.085      -0.002       0.031\n",
      "x1          1.092e-17   2.19e-17      0.499      0.618    -3.2e-17    5.38e-17\n",
      "x2         -3.363e-17   4.18e-17     -0.804      0.421   -1.16e-16    4.83e-17\n",
      "x3             0.0012      0.032      0.038      0.970      -0.061       0.064\n",
      "x4             0.0012      0.045      0.027      0.979      -0.087       0.090\n",
      "x5            -0.0033      0.014     -0.242      0.809      -0.030       0.023\n",
      "x6             0.0170      0.010      1.785      0.074      -0.002       0.036\n",
      "x7            -0.0054      0.011     -0.486      0.627      -0.027       0.016\n",
      "x8          3.057e-17   2.36e-17      1.294      0.196   -1.57e-17    7.69e-17\n",
      "x9            -0.0097      0.023     -0.431      0.667      -0.054       0.035\n",
      "x10           -0.0028      0.012     -0.234      0.815      -0.027       0.021\n",
      "x11           -0.0012      0.016     -0.076      0.939      -0.032       0.029\n",
      "x12            0.0007      0.012      0.058      0.953      -0.024       0.025\n",
      "x13            0.0266      0.009      2.946      0.003       0.009       0.044\n",
      "x14           -0.0014      0.021     -0.070      0.945      -0.042       0.039\n",
      "x15         4.596e-18   5.63e-18      0.817      0.414   -6.43e-18    1.56e-17\n",
      "x16        -1.931e-18   5.13e-18     -0.376      0.707    -1.2e-17    8.13e-18\n",
      "x17            0.0153      0.007      2.124      0.034       0.001       0.029\n",
      "x18            0.0280      0.010      2.836      0.005       0.009       0.047\n",
      "x19         1.145e-18   2.95e-18      0.388      0.698   -4.64e-18    6.93e-18\n",
      "x20        -3.627e-18   8.85e-18     -0.410      0.682    -2.1e-17    1.37e-17\n",
      "x21         2.224e-18   4.27e-18      0.521      0.603   -6.15e-18    1.06e-17\n",
      "x22           -0.0093      0.013     -0.715      0.475      -0.035       0.016\n",
      "x23        -3.198e-18   2.46e-18     -1.301      0.193   -8.02e-18    1.62e-18\n",
      "x24           -0.0078      0.017     -0.451      0.652      -0.042       0.026\n",
      "x25         9.404e-20   9.51e-19      0.099      0.921   -1.77e-18    1.96e-18\n",
      "x26         9.854e-19   2.01e-18      0.490      0.624   -2.96e-18    4.93e-18\n",
      "x27         1.137e-19   2.04e-18      0.056      0.956   -3.89e-18    4.12e-18\n",
      "x28         8.588e-20    2.5e-18      0.034      0.973   -4.82e-18    4.99e-18\n",
      "x29         2.246e-18   9.97e-19      2.253      0.024    2.92e-19     4.2e-18\n",
      "x30         4.215e-18   1.48e-18      2.853      0.004    1.32e-18    7.11e-18\n",
      "x31            0.0012      0.026      0.047      0.963      -0.050       0.052\n",
      "x32           -0.0072      0.020     -0.353      0.724      -0.047       0.033\n",
      "x33           -0.0072      0.010     -0.735      0.462      -0.027       0.012\n",
      "x34           -0.0013      0.008     -0.162      0.871      -0.017       0.015\n",
      "x35                 0          0        nan        nan           0           0\n",
      "x36                 0          0        nan        nan           0           0\n",
      "x37                 0          0        nan        nan           0           0\n",
      "x38           -0.0128      0.010     -1.291      0.197      -0.032       0.007\n",
      "x39                 0          0        nan        nan           0           0\n",
      "x40                 0          0        nan        nan           0           0\n",
      "x41           -0.0076      0.026     -0.286      0.775      -0.059       0.044\n",
      "x42                 0          0        nan        nan           0           0\n",
      "x43           -0.0254      0.010     -2.565      0.010      -0.045      -0.006\n",
      "x44           -0.0192      0.017     -1.100      0.271      -0.053       0.015\n",
      "x45                 0          0        nan        nan           0           0\n",
      "x46           -0.0014      0.017     -0.080      0.936      -0.035       0.033\n",
      "x47           -0.0019      0.017     -0.110      0.913      -0.036       0.032\n",
      "x48           -0.0060      0.023     -0.260      0.795      -0.051       0.039\n",
      "x49                 0          0        nan        nan           0           0\n",
      "x50           -0.0142      0.017     -0.815      0.415      -0.048       0.020\n",
      "x51           -0.0034      0.010     -0.330      0.742      -0.024       0.017\n",
      "x52           -0.0073      0.010     -0.744      0.457      -0.027       0.012\n",
      "x53            0.0530      0.022      2.441      0.015       0.010       0.096\n",
      "x54            0.0642      0.024      2.696      0.007       0.018       0.111\n",
      "x55                 0          0        nan        nan           0           0\n",
      "x56                 0          0        nan        nan           0           0\n",
      "x57                 0          0        nan        nan           0           0\n",
      "x58                 0          0        nan        nan           0           0\n",
      "x59                 0          0        nan        nan           0           0\n",
      "x60           -0.0108      0.027     -0.404      0.686      -0.063       0.042\n",
      "x61                 0          0        nan        nan           0           0\n",
      "x62                 0          0        nan        nan           0           0\n",
      "x63                 0          0        nan        nan           0           0\n",
      "x64           -0.0072      0.010     -0.735      0.462      -0.027       0.012\n",
      "x65                 0          0        nan        nan           0           0\n",
      "x66                 0          0        nan        nan           0           0\n",
      "x67           -0.0124      0.009     -1.337      0.181      -0.031       0.006\n",
      "x68            0.0137      0.022      0.633      0.527      -0.029       0.056\n",
      "x69           -0.0078      0.017     -0.451      0.652      -0.042       0.026\n",
      "x70                 0          0        nan        nan           0           0\n",
      "x71           -0.0246      0.017     -1.415      0.157      -0.059       0.009\n",
      "x72                 0          0        nan        nan           0           0\n",
      "x73                 0          0        nan        nan           0           0\n",
      "==============================================================================\n"
     ]
    }
   ],
   "source": [
    "# GLM \n",
    "import statsmodels.api as sm\n",
    "# Instantiate the GLM\n",
    "train_X_glm = sm.add_constant(train_X)\n",
    "print(train_X_glm.shape)\n",
    "glm_gamma = sm.GLM(train_Y, train_X_glm, family=sm.families.Gaussian())\n",
    "# Train the GLM\n",
    "glm_results = glm_gamma.fit()\n",
    "print(glm_results.summary())"
   ]
  },
  {
   "cell_type": "markdown",
   "metadata": {
    "id": "7IAchWHodnOB"
   },
   "source": [
    "### Generate predictions from the test data"
   ]
  },
  {
   "cell_type": "code",
   "execution_count": 36,
   "metadata": {
    "id": "XLTsITX7dnOC"
   },
   "outputs": [],
   "source": [
    "# generate predictions, called pred_Y_from_GLM. (don't forget to add a constant column to test_X)\n",
    "pred_Y_from_GLM = glm_gamma.predict(glm_results.params, np.hstack([np.ones([test_X.shape[0], 1]), test_X]))\n",
    "# Set any negative predictions to 0\n",
    "pred_Y_from_GLM[pred_Y_from_GLM<0]=0"
   ]
  },
  {
   "cell_type": "code",
   "execution_count": 37,
   "metadata": {
    "id": "TgXIT-JpdnOE"
   },
   "outputs": [
    {
     "name": "stdout",
     "output_type": "stream",
     "text": [
      "RMSE, R2 for prediction all features = 0.0001590059869786599 0.5415619143191444\n"
     ]
    },
    {
     "data": {
      "image/png": "[encoded data removed]",
      "text/plain": [
       "<Figure size 432x288 with 1 Axes>"
      ]
     },
     "metadata": {
      "image/png": {
       "height": 248,
       "width": 378
      },
      "needs_background": "light"
     },
     "output_type": "display_data"
    }
   ],
   "source": [
    "# Plot predictions compared to test_Y, and also print MSE and R^2 score\n",
    "plt.scatter(range(len(test_Y)), test_Y,  color='black')\n",
    "plt.scatter(range(len(pred_Y_from_GLM)), pred_Y_from_GLM, color='blue')\n",
    "print(\"RMSE, R2 for prediction all features =\", MSE(test_Y, pred_Y_from_GLM), r2_score(test_Y, pred_Y_from_GLM)) #[Low error high corr]"
   ]
  },
  {
   "cell_type": "markdown",
   "metadata": {
    "id": "Vld0rNUcdnOG"
   },
   "source": [
    "### Random Forest Regression\n",
    "\n",
    "Use the `RandomForestRegressor` from `sklearn.ensemble` to generate predictions. The relevant parameters are the `max_depth` of the trees and the `random_state`, to ensure reproducibility."
   ]
  },
  {
   "cell_type": "code",
   "execution_count": 38,
   "metadata": {
    "id": "EbxRUm3UdnOG"
   },
   "outputs": [],
   "source": [
    "from sklearn.ensemble import RandomForestRegressor\n",
    "# Instantiate the random forest regression model\n",
    "regr = RandomForestRegressor(max_depth=5, random_state=0)\n",
    "# Train the model\n",
    "regr.fit(train_X, train_Y.ravel())\n",
    "# Generate predictions from the test data\n",
    "pred_Y_from_regr = regr.predict(test_X)"
   ]
  },
  {
   "cell_type": "code",
   "execution_count": 39,
   "metadata": {
    "id": "YSZX9t1MdnOK"
   },
   "outputs": [
    {
     "name": "stdout",
     "output_type": "stream",
     "text": [
      "RMSE, R2 for prediction all features = 9.718308045974258e-05 0.7198066172658497\n"
     ]
    },
    {
     "data": {
      "image/png": "[encoded data removed]",
      "text/plain": [
       "<Figure size 432x288 with 1 Axes>"
      ]
     },
     "metadata": {
      "image/png": {
       "height": 248,
       "width": 378
      },
      "needs_background": "light"
     },
     "output_type": "display_data"
    }
   ],
   "source": [
    "# Plot predictions compared to test_Y, and also print MSE and R^2 score\n",
    "plt.scatter(range(len(test_Y)), test_Y,  color='black')\n",
    "plt.scatter(range(len(pred_Y_from_regr)), pred_Y_from_regr, color='blue')\n",
    "print(\"RMSE, R2 for prediction all features =\", MSE(test_Y, pred_Y_from_regr), r2_score(test_Y, pred_Y_from_regr)) #[Low error high corr]"
   ]
  },
  {
   "cell_type": "markdown",
   "metadata": {
    "id": "bxx1JrikdnON"
   },
   "source": [
    "\n",
    "## Populate the table below with the results of your experiments above. Which models performed best?"
   ]
  },
  {
   "cell_type": "markdown",
   "metadata": {
    "id": "44MPnft4dnON"
   },
   "source": [
    "## Results\n",
    "\n",
    "|Method      |RMSE (10e-6)     |R2               |\n",
    "|------------|-----------------|-----------------|\n",
    "| Gradient Descent | 143 | 0.59 |\n",
    "| Normal Equations | 159 | 0.54 |\n",
    "| Regularized Normal Equations   | 136 | 0.61 |\n",
    "| Generalized Linear Model (GLM) | 159 | 0.54 |\n",
    "| Random Forests | 97 | 0.72 |\n"
   ]
  },
  {
   "cell_type": "code",
   "execution_count": null,
   "metadata": {},
   "outputs": [],
   "source": []
  }
 ],
 "metadata": {
  "colab": {
   "collapsed_sections": [],
   "name": "week1_V1.ipynb",
   "provenance": [
    {
     "file_id": "1A5aKkAXYKm5ju0TNG-1yU44-hnWEhh__",
     "timestamp": 1603344980309
    }
   ]
  },
  "kernelspec": {
   "display_name": "Python 3 (ipykernel)",
   "language": "python",
   "name": "python3"
  },
  "language_info": {
   "codemirror_mode": {
    "name": "ipython",
    "version": 3
   },
   "file_extension": ".py",
   "mimetype": "text/x-python",
   "name": "python",
   "nbconvert_exporter": "python",
   "pygments_lexer": "ipython3",
   "version": "3.9.6"
  }
 },
 "nbformat": 4,
 "nbformat_minor": 1
}
